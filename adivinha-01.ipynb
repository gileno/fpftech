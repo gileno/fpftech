{
 "cells": [
  {
   "cell_type": "code",
   "execution_count": 3,
   "metadata": {},
   "outputs": [],
   "source": [
    "import random\n",
    "from random import randint"
   ]
  },
  {
   "cell_type": "code",
   "execution_count": 4,
   "metadata": {},
   "outputs": [
    {
     "data": {
      "text/plain": [
       "4"
      ]
     },
     "execution_count": 4,
     "metadata": {},
     "output_type": "execute_result"
    }
   ],
   "source": [
    "random.randint(1, 10)"
   ]
  },
  {
   "cell_type": "code",
   "execution_count": 5,
   "metadata": {},
   "outputs": [
    {
     "data": {
      "text/plain": [
       "7"
      ]
     },
     "execution_count": 5,
     "metadata": {},
     "output_type": "execute_result"
    }
   ],
   "source": [
    "randint(1, 10)"
   ]
  },
  {
   "cell_type": "code",
   "execution_count": 6,
   "metadata": {},
   "outputs": [
    {
     "name": "stdout",
     "output_type": "stream",
     "text": [
      "Digite um chute: 5\n"
     ]
    }
   ],
   "source": [
    "numero = random.randint(1, 10)\n",
    "chute = int(input(\"Digite um chute: \"))"
   ]
  },
  {
   "cell_type": "code",
   "execution_count": 7,
   "metadata": {},
   "outputs": [
    {
     "name": "stdout",
     "output_type": "stream",
     "text": [
      "Você acertou!!!\n"
     ]
    }
   ],
   "source": [
    "if numero == chute:\n",
    "    print(\"Você acertou!!!\")"
   ]
  },
  {
   "cell_type": "code",
   "execution_count": 10,
   "metadata": {},
   "outputs": [
    {
     "name": "stdout",
     "output_type": "stream",
     "text": [
      "Digite um chute: 10\n",
      "Você errou!!!\n",
      "Digite um chute: 50\n",
      "Você errou!!!\n"
     ]
    }
   ],
   "source": [
    "numero = random.randint(1, 100)\n",
    "chute = int(input(\"Digite um chute: \"))\n",
    "if numero == chute:\n",
    "    print(\"Você acertou!!!\")\n",
    "else:\n",
    "    print(\"Você errou!!!\")\n",
    "chute = int(input(\"Digite um chute: \"))\n",
    "if numero == chute:\n",
    "    print(\"Você acertou!!!\")\n",
    "else:\n",
    "    print(\"Você errou!!!\")"
   ]
  },
  {
   "cell_type": "code",
   "execution_count": 11,
   "metadata": {},
   "outputs": [
    {
     "name": "stdout",
     "output_type": "stream",
     "text": [
      "Digite um chute: 9\n",
      "Você errou!!!\n",
      "Digite um chute: 8\n",
      "Você errou!!!\n",
      "Digite um chute: 7\n",
      "Você errou!!!\n",
      "Digite um chute: 6\n",
      "Você acertou!!!\n",
      "Digite um chute: 5\n",
      "Você errou!!!\n",
      "Fim do programa\n"
     ]
    }
   ],
   "source": [
    "numero = random.randint(1, 10)\n",
    "chances = 1\n",
    "while chances <= 5:\n",
    "    chute = int(input(\"Digite um chute: \"))\n",
    "    if numero == chute:\n",
    "        print(\"Você acertou!!!\")\n",
    "    else:\n",
    "        print(\"Você errou!!!\")\n",
    "    chances = chances + 1\n",
    "print(\"Fim do programa\")"
   ]
  },
  {
   "cell_type": "code",
   "execution_count": 12,
   "metadata": {},
   "outputs": [
    {
     "name": "stdout",
     "output_type": "stream",
     "text": [
      "Digite um chute: 4\n",
      "Você errou!!!\n",
      "Digite um chute: 5\n",
      "Você errou!!!\n",
      "Digite um chute: 6\n",
      "Você errou!!!\n",
      "Digite um chute: 7\n",
      "Você acertou!!!\n",
      "Fim do programa\n"
     ]
    }
   ],
   "source": [
    "numero = random.randint(1, 100)\n",
    "chances = 1\n",
    "while chances <= 5:\n",
    "    chute = int(input(\"Digite um chute: \"))\n",
    "    if numero == chute:\n",
    "        print(\"Você acertou!!!\")\n",
    "        break\n",
    "    else:\n",
    "        print(\"Você errou!!!\")\n",
    "    chances = chances + 1\n",
    "print(\"Fim do programa\")"
   ]
  },
  {
   "cell_type": "code",
   "execution_count": null,
   "metadata": {},
   "outputs": [],
   "source": []
  }
 ],
 "metadata": {
  "kernelspec": {
   "display_name": "Python 3",
   "language": "python",
   "name": "python3"
  },
  "language_info": {
   "codemirror_mode": {
    "name": "ipython",
    "version": 3
   },
   "file_extension": ".py",
   "mimetype": "text/x-python",
   "name": "python",
   "nbconvert_exporter": "python",
   "pygments_lexer": "ipython3",
   "version": "3.6.4"
  }
 },
 "nbformat": 4,
 "nbformat_minor": 2
}
