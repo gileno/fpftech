{
 "cells": [
  {
   "cell_type": "code",
   "execution_count": 1,
   "metadata": {},
   "outputs": [],
   "source": [
    "import django\n",
    "import os\n",
    "\n",
    "os.environ['DJANGO_SETTINGS_MODULE'] = 'store.settings'\n",
    "\n",
    "django.setup()"
   ]
  },
  {
   "cell_type": "code",
   "execution_count": 2,
   "metadata": {},
   "outputs": [],
   "source": [
    "from catalog.forms import ProductForm"
   ]
  },
  {
   "cell_type": "code",
   "execution_count": 3,
   "metadata": {},
   "outputs": [],
   "source": [
    "data = {'name': 'Novo Produto', 'description': '', 'quantidade': 'asa'}"
   ]
  },
  {
   "cell_type": "code",
   "execution_count": 4,
   "metadata": {},
   "outputs": [],
   "source": [
    "form = ProductForm()"
   ]
  },
  {
   "cell_type": "code",
   "execution_count": 5,
   "metadata": {},
   "outputs": [
    {
     "data": {
      "text/plain": [
       "<ProductForm bound=False, valid=Unknown, fields=(name;description;quantity)>"
      ]
     },
     "execution_count": 5,
     "metadata": {},
     "output_type": "execute_result"
    }
   ],
   "source": [
    "form"
   ]
  },
  {
   "cell_type": "code",
   "execution_count": 6,
   "metadata": {},
   "outputs": [
    {
     "data": {
      "text/plain": [
       "'<p><label for=\"id_name\">Nome:</label> <input type=\"text\" name=\"name\" required id=\"id_name\" /></p>\\n<p><label for=\"id_description\">Descrição:</label> <textarea name=\"description\" cols=\"40\" rows=\"10\" required id=\"id_description\">\\n</textarea></p>\\n<p><label for=\"id_quantity\">Quantidade:</label> <input type=\"number\" name=\"quantity\" required id=\"id_quantity\" /></p>'"
      ]
     },
     "execution_count": 6,
     "metadata": {},
     "output_type": "execute_result"
    }
   ],
   "source": [
    "form.as_p()"
   ]
  },
  {
   "cell_type": "code",
   "execution_count": 7,
   "metadata": {},
   "outputs": [],
   "source": [
    "form = ProductForm(data)"
   ]
  },
  {
   "cell_type": "code",
   "execution_count": 8,
   "metadata": {},
   "outputs": [
    {
     "data": {
      "text/plain": [
       "'<p><label for=\"id_name\">Nome:</label> <input type=\"text\" name=\"name\" value=\"Novo Produto\" required id=\"id_name\" /></p>\\n<ul class=\"errorlist\"><li>Este campo é obrigatório.</li></ul>\\n<p><label for=\"id_description\">Descrição:</label> <textarea name=\"description\" cols=\"40\" rows=\"10\" required id=\"id_description\">\\n</textarea></p>\\n<ul class=\"errorlist\"><li>Este campo é obrigatório.</li></ul>\\n<p><label for=\"id_quantity\">Quantidade:</label> <input type=\"number\" name=\"quantity\" required id=\"id_quantity\" /></p>'"
      ]
     },
     "execution_count": 8,
     "metadata": {},
     "output_type": "execute_result"
    }
   ],
   "source": [
    "form.as_p()"
   ]
  },
  {
   "cell_type": "code",
   "execution_count": 9,
   "metadata": {},
   "outputs": [
    {
     "data": {
      "text/plain": [
       "{'description': ['Este campo é obrigatório.'],\n",
       " 'quantity': ['Este campo é obrigatório.']}"
      ]
     },
     "execution_count": 9,
     "metadata": {},
     "output_type": "execute_result"
    }
   ],
   "source": [
    "form.errors"
   ]
  },
  {
   "cell_type": "code",
   "execution_count": 10,
   "metadata": {},
   "outputs": [],
   "source": [
    "from catalog.forms import ProductModelForm"
   ]
  },
  {
   "cell_type": "code",
   "execution_count": 13,
   "metadata": {},
   "outputs": [],
   "source": [
    "modelform = ProductModelForm()"
   ]
  },
  {
   "cell_type": "code",
   "execution_count": 14,
   "metadata": {},
   "outputs": [
    {
     "data": {
      "text/plain": [
       "'<p><label for=\"id_name\">Nome:</label> <input type=\"text\" name=\"name\" maxlength=\"100\" required id=\"id_name\" /></p>\\n<p><label for=\"id_description\">Descrição:</label> <textarea name=\"description\" cols=\"40\" rows=\"10\" required id=\"id_description\">\\n</textarea></p>\\n<p><label for=\"id_quantity\">Quantidade:</label> <input type=\"number\" name=\"quantity\" value=\"0\" min=\"0\" required id=\"id_quantity\" /></p>\\n<p><label for=\"id_categories\">Categories:</label> <select name=\"categories\" id=\"id_categories\" multiple=\"multiple\">\\n  <option value=\"1\">Computadores</option>\\n\\n  <option value=\"2\">Celulares</option>\\n\\n  <option value=\"3\">Geladeiras</option>\\n\\n  <option value=\"4\">Microondas</option>\\n\\n  <option value=\"5\">Ventilador</option>\\n\\n  <option value=\"6\">Câmeras</option>\\n\\n</select></p>'"
      ]
     },
     "execution_count": 14,
     "metadata": {},
     "output_type": "execute_result"
    }
   ],
   "source": [
    "modelform.as_p()"
   ]
  },
  {
   "cell_type": "code",
   "execution_count": 15,
   "metadata": {},
   "outputs": [],
   "source": [
    "from catalog.models import Product"
   ]
  },
  {
   "cell_type": "code",
   "execution_count": 16,
   "metadata": {},
   "outputs": [],
   "source": [
    "p = Product.objects.first()"
   ]
  },
  {
   "cell_type": "code",
   "execution_count": 17,
   "metadata": {},
   "outputs": [],
   "source": [
    "modelform = ProductModelForm(instance=p)"
   ]
  },
  {
   "cell_type": "code",
   "execution_count": 18,
   "metadata": {},
   "outputs": [
    {
     "data": {
      "text/plain": [
       "'<p><label for=\"id_name\">Nome:</label> <input type=\"text\" name=\"name\" value=\"Tekpix 2000\" maxlength=\"100\" required id=\"id_name\" /></p>\\n<p><label for=\"id_description\">Descrição:</label> <textarea name=\"description\" cols=\"40\" rows=\"10\" required id=\"id_description\">\\nLorem ipsum dolor sit amet, consectetur adipiscing elit. Aenean diam lectus, auctor eget elementum porta, mattis et leo. Curabitur massa leo, iaculis at aliquet vitae, sodales egestas sapien.</textarea></p>\\n<p><label for=\"id_quantity\">Quantidade:</label> <input type=\"number\" name=\"quantity\" value=\"10\" min=\"0\" required id=\"id_quantity\" /></p>\\n<p><label for=\"id_categories\">Categories:</label> <select name=\"categories\" id=\"id_categories\" multiple=\"multiple\">\\n  <option value=\"1\">Computadores</option>\\n\\n  <option value=\"2\">Celulares</option>\\n\\n  <option value=\"3\">Geladeiras</option>\\n\\n  <option value=\"4\">Microondas</option>\\n\\n  <option value=\"5\">Ventilador</option>\\n\\n  <option value=\"6\" selected>Câmeras</option>\\n\\n</select></p>'"
      ]
     },
     "execution_count": 18,
     "metadata": {},
     "output_type": "execute_result"
    }
   ],
   "source": [
    "modelform.as_p()"
   ]
  },
  {
   "cell_type": "code",
   "execution_count": null,
   "metadata": {},
   "outputs": [],
   "source": []
  }
 ],
 "metadata": {
  "kernelspec": {
   "display_name": "Python 3",
   "language": "python",
   "name": "python3"
  },
  "language_info": {
   "codemirror_mode": {
    "name": "ipython",
    "version": 3
   },
   "file_extension": ".py",
   "mimetype": "text/x-python",
   "name": "python",
   "nbconvert_exporter": "python",
   "pygments_lexer": "ipython3",
   "version": "3.6.4"
  }
 },
 "nbformat": 4,
 "nbformat_minor": 2
}
