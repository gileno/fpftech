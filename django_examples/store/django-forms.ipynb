{
 "cells": [
  {
   "cell_type": "code",
   "execution_count": 19,
   "metadata": {},
   "outputs": [],
   "source": [
    "import django\n",
    "import os\n",
    "\n",
    "os.environ['DJANGO_SETTINGS_MODULE'] = 'store.settings'\n",
    "\n",
    "django.setup()"
   ]
  },
  {
   "cell_type": "code",
   "execution_count": 20,
   "metadata": {},
   "outputs": [],
   "source": [
    "from catalog.forms import ProductForm"
   ]
  },
  {
   "cell_type": "code",
   "execution_count": 21,
   "metadata": {},
   "outputs": [],
   "source": [
    "data = {'name': 'Novo Produto', 'description': '', 'quantidade': 'asa'}"
   ]
  },
  {
   "cell_type": "code",
   "execution_count": 22,
   "metadata": {},
   "outputs": [],
   "source": [
    "form = ProductForm()"
   ]
  },
  {
   "cell_type": "code",
   "execution_count": 23,
   "metadata": {},
   "outputs": [
    {
     "data": {
      "text/plain": [
       "<ProductForm bound=False, valid=Unknown, fields=(name;description;quantity)>"
      ]
     },
     "execution_count": 23,
     "metadata": {},
     "output_type": "execute_result"
    }
   ],
   "source": [
    "form"
   ]
  },
  {
   "cell_type": "code",
   "execution_count": 24,
   "metadata": {},
   "outputs": [
    {
     "data": {
      "text/plain": [
       "'<p><label for=\"id_name\">Nome:</label> <input type=\"text\" name=\"name\" required id=\"id_name\" /></p>\\n<p><label for=\"id_description\">Descrição:</label> <textarea name=\"description\" cols=\"40\" rows=\"10\" required id=\"id_description\">\\n</textarea></p>\\n<p><label for=\"id_quantity\">Quantidade:</label> <input type=\"number\" name=\"quantity\" required id=\"id_quantity\" /></p>'"
      ]
     },
     "execution_count": 24,
     "metadata": {},
     "output_type": "execute_result"
    }
   ],
   "source": [
    "form.as_p()"
   ]
  },
  {
   "cell_type": "code",
   "execution_count": 25,
   "metadata": {},
   "outputs": [],
   "source": [
    "form = ProductForm(data)"
   ]
  },
  {
   "cell_type": "code",
   "execution_count": 26,
   "metadata": {},
   "outputs": [
    {
     "data": {
      "text/plain": [
       "'<p><label for=\"id_name\">Nome:</label> <input type=\"text\" name=\"name\" value=\"Novo Produto\" required id=\"id_name\" /></p>\\n<ul class=\"errorlist\"><li>Este campo é obrigatório.</li></ul>\\n<p><label for=\"id_description\">Descrição:</label> <textarea name=\"description\" cols=\"40\" rows=\"10\" required id=\"id_description\">\\n</textarea></p>\\n<ul class=\"errorlist\"><li>Este campo é obrigatório.</li></ul>\\n<p><label for=\"id_quantity\">Quantidade:</label> <input type=\"number\" name=\"quantity\" required id=\"id_quantity\" /></p>'"
      ]
     },
     "execution_count": 26,
     "metadata": {},
     "output_type": "execute_result"
    }
   ],
   "source": [
    "form.as_p()"
   ]
  },
  {
   "cell_type": "code",
   "execution_count": 27,
   "metadata": {},
   "outputs": [
    {
     "data": {
      "text/plain": [
       "{'description': ['Este campo é obrigatório.'],\n",
       " 'quantity': ['Este campo é obrigatório.']}"
      ]
     },
     "execution_count": 27,
     "metadata": {},
     "output_type": "execute_result"
    }
   ],
   "source": [
    "form.errors"
   ]
  },
  {
   "cell_type": "code",
   "execution_count": 28,
   "metadata": {},
   "outputs": [],
   "source": [
    "from catalog.forms import ProductModelForm"
   ]
  },
  {
   "cell_type": "code",
   "execution_count": 29,
   "metadata": {},
   "outputs": [],
   "source": [
    "modelform = ProductModelForm()"
   ]
  },
  {
   "cell_type": "code",
   "execution_count": 30,
   "metadata": {},
   "outputs": [
    {
     "data": {
      "text/plain": [
       "'<p><label for=\"id_name\">Nome:</label> <input type=\"text\" name=\"name\" maxlength=\"100\" required id=\"id_name\" /></p>\\n<p><label for=\"id_description\">Descrição:</label> <textarea name=\"description\" cols=\"40\" rows=\"10\" required id=\"id_description\">\\n</textarea></p>\\n<p><label for=\"id_quantity\">Quantidade:</label> <input type=\"number\" name=\"quantity\" value=\"0\" min=\"0\" required id=\"id_quantity\" /></p>\\n<p><label for=\"id_categories\">Categories:</label> <select name=\"categories\" id=\"id_categories\" multiple=\"multiple\">\\n  <option value=\"1\">Computadores</option>\\n\\n  <option value=\"2\">Celulares</option>\\n\\n  <option value=\"3\">Geladeiras</option>\\n\\n  <option value=\"4\">Microondas</option>\\n\\n  <option value=\"5\">Ventilador</option>\\n\\n  <option value=\"6\">Câmeras</option>\\n\\n</select></p>'"
      ]
     },
     "execution_count": 30,
     "metadata": {},
     "output_type": "execute_result"
    }
   ],
   "source": [
    "modelform.as_p()"
   ]
  },
  {
   "cell_type": "code",
   "execution_count": 31,
   "metadata": {},
   "outputs": [],
   "source": [
    "from catalog.models import Product"
   ]
  },
  {
   "cell_type": "code",
   "execution_count": 32,
   "metadata": {},
   "outputs": [],
   "source": [
    "p = Product.objects.first()"
   ]
  },
  {
   "cell_type": "code",
   "execution_count": 33,
   "metadata": {},
   "outputs": [],
   "source": [
    "modelform = ProductModelForm(instance=p)"
   ]
  },
  {
   "cell_type": "code",
   "execution_count": 34,
   "metadata": {},
   "outputs": [
    {
     "data": {
      "text/plain": [
       "'<p><label for=\"id_name\">Nome:</label> <input type=\"text\" name=\"name\" value=\"Tekpix 2000\" maxlength=\"100\" required id=\"id_name\" /></p>\\n<p><label for=\"id_description\">Descrição:</label> <textarea name=\"description\" cols=\"40\" rows=\"10\" required id=\"id_description\">\\nLorem ipsum dolor sit amet, consectetur adipiscing elit. Aenean diam lectus, auctor eget elementum porta, mattis et leo. Curabitur massa leo, iaculis at aliquet vitae, sodales egestas sapien.</textarea></p>\\n<p><label for=\"id_quantity\">Quantidade:</label> <input type=\"number\" name=\"quantity\" value=\"10\" min=\"0\" required id=\"id_quantity\" /></p>\\n<p><label for=\"id_categories\">Categories:</label> <select name=\"categories\" id=\"id_categories\" multiple=\"multiple\">\\n  <option value=\"1\">Computadores</option>\\n\\n  <option value=\"2\">Celulares</option>\\n\\n  <option value=\"3\">Geladeiras</option>\\n\\n  <option value=\"4\">Microondas</option>\\n\\n  <option value=\"5\">Ventilador</option>\\n\\n  <option value=\"6\" selected>Câmeras</option>\\n\\n</select></p>'"
      ]
     },
     "execution_count": 34,
     "metadata": {},
     "output_type": "execute_result"
    }
   ],
   "source": [
    "modelform.as_p()"
   ]
  },
  {
   "cell_type": "code",
   "execution_count": 35,
   "metadata": {},
   "outputs": [
    {
     "data": {
      "text/plain": [
       "True"
      ]
     },
     "execution_count": 35,
     "metadata": {},
     "output_type": "execute_result"
    }
   ],
   "source": [
    "modelform = ProductModelForm(\n",
    "    instance=p, data={'name': 'Produto Modificado', 'description': 'Nada',\n",
    "                     'quantity': 10}\n",
    ")\n",
    "modelform.is_valid()"
   ]
  },
  {
   "cell_type": "code",
   "execution_count": 36,
   "metadata": {},
   "outputs": [
    {
     "data": {
      "text/plain": [
       "<Product: Produto Modificado>"
      ]
     },
     "execution_count": 36,
     "metadata": {},
     "output_type": "execute_result"
    }
   ],
   "source": [
    "modelform.save()"
   ]
  },
  {
   "cell_type": "code",
   "execution_count": 38,
   "metadata": {},
   "outputs": [
    {
     "data": {
      "text/plain": [
       "'Produto Modificado'"
      ]
     },
     "execution_count": 38,
     "metadata": {},
     "output_type": "execute_result"
    }
   ],
   "source": [
    "modelform.instance.name"
   ]
  },
  {
   "cell_type": "code",
   "execution_count": null,
   "metadata": {},
   "outputs": [],
   "source": []
  }
 ],
 "metadata": {
  "kernelspec": {
   "display_name": "Python 3",
   "language": "python",
   "name": "python3"
  },
  "language_info": {
   "codemirror_mode": {
    "name": "ipython",
    "version": 3
   },
   "file_extension": ".py",
   "mimetype": "text/x-python",
   "name": "python",
   "nbconvert_exporter": "python",
   "pygments_lexer": "ipython3",
   "version": "3.6.4"
  }
 },
 "nbformat": 4,
 "nbformat_minor": 2
}
