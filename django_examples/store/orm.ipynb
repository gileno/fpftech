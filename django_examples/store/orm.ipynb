{
 "cells": [
  {
   "cell_type": "code",
   "execution_count": 1,
   "metadata": {},
   "outputs": [
    {
     "name": "stdout",
     "output_type": "stream",
     "text": [
      "DEBUG\n",
      "inicializando...\n"
     ]
    },
    {
     "name": "stderr",
     "output_type": "stream",
     "text": [
      "/home/gileno/.virtualenvs/fpftech/lib/python3.6/site-packages/psycopg2/__init__.py:144: UserWarning: The psycopg2 wheel package will be renamed from release 2.8; in order to keep installing from binary please use \"pip install psycopg2-binary\" instead. For details see: <http://initd.org/psycopg/docs/install.html#binary-install-from-pypi>.\n",
      "  \"\"\")\n"
     ]
    }
   ],
   "source": [
    "import os\n",
    "import django\n",
    "\n",
    "os.environ[\"DJANGO_SETTINGS_MODULE\"] = \"store.settings\"\n",
    "django.setup()"
   ]
  },
  {
   "cell_type": "code",
   "execution_count": 2,
   "metadata": {},
   "outputs": [],
   "source": [
    "from catalog.models import Product, Category"
   ]
  },
  {
   "cell_type": "code",
   "execution_count": 3,
   "metadata": {},
   "outputs": [
    {
     "data": {
      "text/plain": [
       "<QuerySet [<Product: Tekpix 2000>, <Product: GoPro>, <Product: Samsung 2>, <Product: Samsung 2000>, <Product: Brastemp>, <Product: Google 0>, <Product: Microsoft 1>, <Product: Apple 2>, <Product: Dell 3>, <Product: Microsoft 4>, <Product: LG 5>, <Product: Apple 6>, <Product: Dell 7>, <Product: Apple 8>, <Product: Brastemp 9>, <Product: Microsoft 10>, <Product: LG 11>, <Product: Samsung Legal 12>, <Product: Apple 13>, <Product: Dell 14>, '...(remaining elements truncated)...']>"
      ]
     },
     "execution_count": 3,
     "metadata": {},
     "output_type": "execute_result"
    }
   ],
   "source": [
    "Product.objects.all()"
   ]
  },
  {
   "cell_type": "code",
   "execution_count": 4,
   "metadata": {},
   "outputs": [
    {
     "data": {
      "text/plain": [
       "<QuerySet [<Product: Brastemp>, <Product: Google 0>, <Product: Microsoft 1>, <Product: Apple 2>, <Product: Dell 3>, <Product: Microsoft 4>]>"
      ]
     },
     "execution_count": 4,
     "metadata": {},
     "output_type": "execute_result"
    }
   ],
   "source": [
    "Product.objects.all()[4:10]"
   ]
  },
  {
   "cell_type": "code",
   "execution_count": 5,
   "metadata": {},
   "outputs": [],
   "source": [
    "category = Category.objects.first()"
   ]
  },
  {
   "cell_type": "code",
   "execution_count": 6,
   "metadata": {},
   "outputs": [
    {
     "data": {
      "text/plain": [
       "<QuerySet [<Product: Samsung 2000>, <Product: Google 0>, <Product: Nokia 19>, <Product: Dell 30>, <Product: Nokia 32>, <Product: Microsoft 34>, <Product: Brastemp 39>, <Product: Samsung Legal 40>, <Product: Apple 42>]>"
      ]
     },
     "execution_count": 6,
     "metadata": {},
     "output_type": "execute_result"
    }
   ],
   "source": [
    "Product.objects.filter(categories=category)"
   ]
  },
  {
   "cell_type": "code",
   "execution_count": 7,
   "metadata": {},
   "outputs": [
    {
     "data": {
      "text/plain": [
       "<QuerySet [<Product: Dell 3>, <Product: Dell 7>, <Product: Dell 14>, <Product: Dell 30>, <Product: Dell 45>]>"
      ]
     },
     "execution_count": 7,
     "metadata": {},
     "output_type": "execute_result"
    }
   ],
   "source": [
    "Product.objects.filter(name__icontains='del')"
   ]
  },
  {
   "cell_type": "code",
   "execution_count": 8,
   "metadata": {},
   "outputs": [
    {
     "data": {
      "text/plain": [
       "<QuerySet [<Product: Tekpix 2000>, <Product: GoPro>, <Product: Samsung 2>, <Product: Samsung 2000>, <Product: Brastemp>, <Product: Google 0>, <Product: Microsoft 1>, <Product: Apple 2>, <Product: Dell 3>, <Product: Microsoft 4>, <Product: LG 5>, <Product: Apple 6>, <Product: Dell 7>, <Product: Apple 8>, <Product: Brastemp 9>, <Product: Microsoft 10>, <Product: LG 11>, <Product: Samsung Legal 12>, <Product: Apple 13>, <Product: Dell 14>, '...(remaining elements truncated)...']>"
      ]
     },
     "execution_count": 8,
     "metadata": {},
     "output_type": "execute_result"
    }
   ],
   "source": [
    "Product.objects.filter(modified__year=2018, modified__month=2)"
   ]
  },
  {
   "cell_type": "code",
   "execution_count": 9,
   "metadata": {},
   "outputs": [
    {
     "data": {
      "text/plain": [
       "61"
      ]
     },
     "execution_count": 9,
     "metadata": {},
     "output_type": "execute_result"
    }
   ],
   "source": [
    "Product.objects.count()"
   ]
  },
  {
   "cell_type": "code",
   "execution_count": 10,
   "metadata": {},
   "outputs": [],
   "source": [
    "from django.db.models import Q"
   ]
  },
  {
   "cell_type": "code",
   "execution_count": 11,
   "metadata": {},
   "outputs": [
    {
     "data": {
      "text/plain": [
       "django.db.models.query_utils.Q"
      ]
     },
     "execution_count": 11,
     "metadata": {},
     "output_type": "execute_result"
    }
   ],
   "source": [
    "Q"
   ]
  },
  {
   "cell_type": "code",
   "execution_count": 12,
   "metadata": {},
   "outputs": [
    {
     "data": {
      "text/plain": [
       "<QuerySet [<Product: Dell 3>, <Product: Dell 7>, <Product: Dell 14>, <Product: Dell 30>, <Product: Dell 45>]>"
      ]
     },
     "execution_count": 12,
     "metadata": {},
     "output_type": "execute_result"
    }
   ],
   "source": [
    "Product.objects.filter(Q(name__icontains='del'))"
   ]
  },
  {
   "cell_type": "code",
   "execution_count": 13,
   "metadata": {},
   "outputs": [
    {
     "data": {
      "text/plain": [
       "<QuerySet [<Product: Tekpix 2000>, <Product: Dell 3>, <Product: Microsoft 4>, <Product: Dell 7>, <Product: Dell 14>, <Product: Nokia 20>, <Product: Dell 30>, <Product: Dell 45>, <Product: LG 46>]>"
      ]
     },
     "execution_count": 13,
     "metadata": {},
     "output_type": "execute_result"
    }
   ],
   "source": [
    "Product.objects.filter(Q(name__icontains='del') | Q(quantity=10))"
   ]
  },
  {
   "cell_type": "code",
   "execution_count": 14,
   "metadata": {},
   "outputs": [
    {
     "data": {
      "text/plain": [
       "<QuerySet [<Product: Samsung 2000>, <Product: Google 0>, <Product: Dell 7>, <Product: Dell 14>, <Product: Microsoft 34>]>"
      ]
     },
     "execution_count": 14,
     "metadata": {},
     "output_type": "execute_result"
    }
   ],
   "source": [
    "Product.objects.filter((Q(name__icontains='del') | Q(categories=category)) & Q(quantity=2))"
   ]
  },
  {
   "cell_type": "code",
   "execution_count": 15,
   "metadata": {},
   "outputs": [
    {
     "data": {
      "text/plain": [
       "<QuerySet [<Category: Computadores>, <Category: Celulares>, <Category: Geladeiras>, <Category: Microondas>, <Category: Ventilador>, <Category: Câmeras>]>"
      ]
     },
     "execution_count": 15,
     "metadata": {},
     "output_type": "execute_result"
    }
   ],
   "source": [
    "Category.objects.all()"
   ]
  },
  {
   "cell_type": "code",
   "execution_count": 16,
   "metadata": {},
   "outputs": [
    {
     "data": {
      "text/plain": [
       "<QuerySet [<Category: Câmeras>, <Category: Microondas>, <Category: Câmeras>, <Category: Computadores>, <Category: Geladeiras>]>"
      ]
     },
     "execution_count": 16,
     "metadata": {},
     "output_type": "execute_result"
    }
   ],
   "source": [
    "Category.objects.filter(products__name__icontains='del')"
   ]
  },
  {
   "cell_type": "code",
   "execution_count": 17,
   "metadata": {},
   "outputs": [],
   "source": [
    "category2 = Category.objects.all()[1]"
   ]
  },
  {
   "cell_type": "code",
   "execution_count": 18,
   "metadata": {},
   "outputs": [
    {
     "data": {
      "text/plain": [
       "<QuerySet [<Product: Samsung 2>, <Product: Samsung 2000>, <Product: Google 0>, <Product: Brastemp 9>, <Product: Nokia 19>, <Product: Dell 30>, <Product: Nokia 32>, <Product: Microsoft 34>, <Product: Brastemp 39>, <Product: Samsung Legal 40>, <Product: Apple 42>, <Product: LG 46>, <Product: Brastemp 48>]>"
      ]
     },
     "execution_count": 18,
     "metadata": {},
     "output_type": "execute_result"
    }
   ],
   "source": [
    "Product.objects.filter(categories__in=[category, category2])"
   ]
  },
  {
   "cell_type": "code",
   "execution_count": 19,
   "metadata": {},
   "outputs": [],
   "source": [
    "categories_ids = Category.objects.filter(id__in=[1, 2]).values_list('id')"
   ]
  },
  {
   "cell_type": "code",
   "execution_count": 20,
   "metadata": {},
   "outputs": [
    {
     "data": {
      "text/plain": [
       "<QuerySet [<Product: Samsung 2>, <Product: Samsung 2000>, <Product: Google 0>, <Product: Brastemp 9>, <Product: Nokia 19>, <Product: Dell 30>, <Product: Nokia 32>, <Product: Microsoft 34>, <Product: Brastemp 39>, <Product: Samsung Legal 40>, <Product: Apple 42>, <Product: LG 46>, <Product: Brastemp 48>]>"
      ]
     },
     "execution_count": 20,
     "metadata": {},
     "output_type": "execute_result"
    }
   ],
   "source": [
    "Product.objects.filter(categories__in=categories_ids)"
   ]
  },
  {
   "cell_type": "code",
   "execution_count": null,
   "metadata": {},
   "outputs": [],
   "source": []
  }
 ],
 "metadata": {
  "kernelspec": {
   "display_name": "Python 3",
   "language": "python",
   "name": "python3"
  },
  "language_info": {
   "codemirror_mode": {
    "name": "ipython",
    "version": 3
   },
   "file_extension": ".py",
   "mimetype": "text/x-python",
   "name": "python",
   "nbconvert_exporter": "python",
   "pygments_lexer": "ipython3",
   "version": "3.6.4"
  }
 },
 "nbformat": 4,
 "nbformat_minor": 2
}
