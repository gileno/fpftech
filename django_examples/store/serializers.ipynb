{
 "cells": [
  {
   "cell_type": "code",
   "execution_count": 1,
   "metadata": {},
   "outputs": [],
   "source": [
    "import django\n",
    "import os\n",
    "\n",
    "os.environ['DJANGO_SETTINGS_MODULE'] = 'store.settings'\n",
    "\n",
    "django.setup()"
   ]
  },
  {
   "cell_type": "code",
   "execution_count": 2,
   "metadata": {},
   "outputs": [
    {
     "name": "stderr",
     "output_type": "stream",
     "text": [
      "/home/gileno/.virtualenvs/fpftech/lib/python3.6/site-packages/psycopg2/__init__.py:144: UserWarning: The psycopg2 wheel package will be renamed from release 2.8; in order to keep installing from binary please use \"pip install psycopg2-binary\" instead. For details see: <http://initd.org/psycopg/docs/install.html#binary-install-from-pypi>.\n",
      "  \"\"\")\n"
     ]
    }
   ],
   "source": [
    "from catalog.serializers import ProductSerializer, ProductModelSerializer"
   ]
  },
  {
   "cell_type": "code",
   "execution_count": 3,
   "metadata": {},
   "outputs": [],
   "source": [
    "serializer = ProductSerializer()"
   ]
  },
  {
   "cell_type": "code",
   "execution_count": 4,
   "metadata": {},
   "outputs": [
    {
     "data": {
      "text/plain": [
       "ProductSerializer():\n",
       "    name = CharField()\n",
       "    description = CharField()\n",
       "    quantity = IntegerField()"
      ]
     },
     "execution_count": 4,
     "metadata": {},
     "output_type": "execute_result"
    }
   ],
   "source": [
    "serializer"
   ]
  },
  {
   "cell_type": "code",
   "execution_count": 5,
   "metadata": {},
   "outputs": [],
   "source": [
    "data = {'name': 'Produto DRF', 'description': 'Descrição DRF'}"
   ]
  },
  {
   "cell_type": "code",
   "execution_count": 6,
   "metadata": {},
   "outputs": [],
   "source": [
    "serializer = ProductSerializer(data=data)"
   ]
  },
  {
   "cell_type": "code",
   "execution_count": 7,
   "metadata": {},
   "outputs": [
    {
     "data": {
      "text/plain": [
       "False"
      ]
     },
     "execution_count": 7,
     "metadata": {},
     "output_type": "execute_result"
    }
   ],
   "source": [
    "serializer.is_valid()"
   ]
  },
  {
   "cell_type": "code",
   "execution_count": 8,
   "metadata": {},
   "outputs": [
    {
     "data": {
      "text/plain": [
       "ReturnDict([('name', ['Não pode conter DRF']),\n",
       "            ('quantity', ['Este campo é obrigatório.'])])"
      ]
     },
     "execution_count": 8,
     "metadata": {},
     "output_type": "execute_result"
    }
   ],
   "source": [
    "serializer.errors"
   ]
  },
  {
   "cell_type": "code",
   "execution_count": 9,
   "metadata": {},
   "outputs": [
    {
     "data": {
      "text/plain": [
       "ReturnDict([('name', 'Produto DRF'), ('description', 'Descrição DRF')])"
      ]
     },
     "execution_count": 9,
     "metadata": {},
     "output_type": "execute_result"
    }
   ],
   "source": [
    "serializer.data"
   ]
  },
  {
   "cell_type": "code",
   "execution_count": 10,
   "metadata": {},
   "outputs": [],
   "source": [
    "data = {'name': 'Produto DRF', 'description': 'Descrição DRF', 'quantity': 'as'}"
   ]
  },
  {
   "cell_type": "code",
   "execution_count": 11,
   "metadata": {},
   "outputs": [],
   "source": [
    "serializer = ProductSerializer(data=data)"
   ]
  },
  {
   "cell_type": "code",
   "execution_count": 12,
   "metadata": {},
   "outputs": [
    {
     "data": {
      "text/plain": [
       "False"
      ]
     },
     "execution_count": 12,
     "metadata": {},
     "output_type": "execute_result"
    }
   ],
   "source": [
    "serializer.is_valid()"
   ]
  },
  {
   "cell_type": "code",
   "execution_count": 13,
   "metadata": {},
   "outputs": [
    {
     "data": {
      "text/plain": [
       "ReturnDict([('name', 'Produto DRF'),\n",
       "            ('description', 'Descrição DRF'),\n",
       "            ('quantity', 'as')])"
      ]
     },
     "execution_count": 13,
     "metadata": {},
     "output_type": "execute_result"
    }
   ],
   "source": [
    "serializer.data"
   ]
  },
  {
   "cell_type": "code",
   "execution_count": 14,
   "metadata": {},
   "outputs": [
    {
     "data": {
      "text/plain": [
       "ReturnDict([('name', ['Não pode conter DRF']),\n",
       "            ('quantity', ['A valid integer is required.'])])"
      ]
     },
     "execution_count": 14,
     "metadata": {},
     "output_type": "execute_result"
    }
   ],
   "source": [
    "serializer.errors"
   ]
  },
  {
   "cell_type": "code",
   "execution_count": 15,
   "metadata": {},
   "outputs": [],
   "source": [
    "data = {'name': 'Produto DRF', 'description': 'Descrição DRF', 'quantity': 'as'}\n",
    "model_serializer = ProductModelSerializer(data=data)"
   ]
  },
  {
   "cell_type": "code",
   "execution_count": 16,
   "metadata": {},
   "outputs": [
    {
     "data": {
      "text/plain": [
       "False"
      ]
     },
     "execution_count": 16,
     "metadata": {},
     "output_type": "execute_result"
    }
   ],
   "source": [
    "model_serializer.is_valid()"
   ]
  },
  {
   "cell_type": "code",
   "execution_count": 17,
   "metadata": {},
   "outputs": [
    {
     "data": {
      "text/plain": [
       "ReturnDict([('quantity', ['A valid integer is required.'])])"
      ]
     },
     "execution_count": 17,
     "metadata": {},
     "output_type": "execute_result"
    }
   ],
   "source": [
    "model_serializer.errors"
   ]
  },
  {
   "cell_type": "code",
   "execution_count": 18,
   "metadata": {},
   "outputs": [],
   "source": [
    "from catalog.models import Product"
   ]
  },
  {
   "cell_type": "code",
   "execution_count": 19,
   "metadata": {},
   "outputs": [],
   "source": [
    "model_serializer = ProductModelSerializer(Product.objects.first())"
   ]
  },
  {
   "cell_type": "code",
   "execution_count": 21,
   "metadata": {},
   "outputs": [
    {
     "data": {
      "text/plain": [
       "ReturnDict([('name', 'Tekpix 2000'),\n",
       "            ('description',\n",
       "             'Lorem ipsum dolor sit amet, consectetur adipiscing elit. Aenean diam lectus, auctor eget elementum porta, mattis et leo. Curabitur massa leo, iaculis at aliquet vitae, sodales egestas sapien.'),\n",
       "            ('quantity', 10)])"
      ]
     },
     "execution_count": 21,
     "metadata": {},
     "output_type": "execute_result"
    }
   ],
   "source": [
    "model_serializer.data"
   ]
  },
  {
   "cell_type": "code",
   "execution_count": 22,
   "metadata": {},
   "outputs": [],
   "source": [
    "model_serializer = ProductModelSerializer(Product.objects.all(), many=True)"
   ]
  },
  {
   "cell_type": "code",
   "execution_count": 23,
   "metadata": {},
   "outputs": [
    {
     "data": {
      "text/plain": [
       "[OrderedDict([('name', 'Tekpix 2000'), ('description', 'Lorem ipsum dolor sit amet, consectetur adipiscing elit. Aenean diam lectus, auctor eget elementum porta, mattis et leo. Curabitur massa leo, iaculis at aliquet vitae, sodales egestas sapien.'), ('quantity', 10)]), OrderedDict([('name', 'GoPro'), ('description', 'Lorem ipsum dolor sit amet, consectetur adipiscing elit.'), ('quantity', 6)]), OrderedDict([('name', 'Samsung 2'), ('description', 'Lorem ipsum dolor sit amet, consectetur adipiscing elit. Aenean diam lectus, auctor eget elementum porta, mattis et leo. Curabitur massa leo, iaculis at aliquet vitae, sodales egestas sapien.'), ('quantity', 1)]), OrderedDict([('name', 'Samsung 2000'), ('description', 'Lorem ipsum dolor sit amet, consectetur adipiscing elit. Aenean diam lectus, auctor eget.'), ('quantity', 2)]), OrderedDict([('name', 'Brastemp'), ('description', 'Lorem ipsum dolor sit amet, consectetur adipiscing elit. Aenean diam lectus, auctor eget elementum porta, mattis et leo. Curabitur massa leo, iaculis at aliquet vitae, sodales egestas sapien.'), ('quantity', 1)]), OrderedDict([('name', 'Google 0'), ('description', 'Marca Google 0 de teste'), ('quantity', 2)]), OrderedDict([('name', 'Microsoft 1'), ('description', 'Marca Microsoft 1 de teste'), ('quantity', 5)]), OrderedDict([('name', 'Apple 2'), ('description', 'Marca Apple 2 de teste'), ('quantity', 9)]), OrderedDict([('name', 'Dell 3'), ('description', 'Marca Dell 3 de teste'), ('quantity', 4)]), OrderedDict([('name', 'Microsoft 4'), ('description', 'Marca Microsoft 4 de teste'), ('quantity', 10)]), OrderedDict([('name', 'LG 5'), ('description', 'Marca LG 5 de teste'), ('quantity', 4)]), OrderedDict([('name', 'Apple 6'), ('description', 'Marca Apple 6 de teste'), ('quantity', 3)]), OrderedDict([('name', 'Dell 7'), ('description', 'Marca Dell 7 de teste'), ('quantity', 2)]), OrderedDict([('name', 'Apple 8'), ('description', 'Marca Apple 8 de teste'), ('quantity', 5)]), OrderedDict([('name', 'Brastemp 9'), ('description', 'Marca Brastemp 9 de teste'), ('quantity', 3)]), OrderedDict([('name', 'Microsoft 10'), ('description', 'Marca Microsoft 10 de teste'), ('quantity', 3)]), OrderedDict([('name', 'LG 11'), ('description', 'Marca LG 11 de teste'), ('quantity', 1)]), OrderedDict([('name', 'Samsung Legal 12'), ('description', 'Marca Samsung Legal 12 de teste'), ('quantity', 7)]), OrderedDict([('name', 'Apple 13'), ('description', 'Marca Apple 13 de teste'), ('quantity', 5)]), OrderedDict([('name', 'Dell 14'), ('description', 'Marca Dell 14 de teste'), ('quantity', 2)]), OrderedDict([('name', 'Google 15'), ('description', 'Marca Google 15 de teste'), ('quantity', 9)]), OrderedDict([('name', 'Nokia 16'), ('description', 'Marca Nokia 16 de teste'), ('quantity', 4)]), OrderedDict([('name', 'Google 17'), ('description', 'Marca Google 17 de teste'), ('quantity', 8)]), OrderedDict([('name', 'Samsung Legal 18'), ('description', 'Marca Samsung Legal 18 de teste'), ('quantity', 2)]), OrderedDict([('name', 'Nokia 19'), ('description', 'Marca Nokia 19 de teste'), ('quantity', 8)]), OrderedDict([('name', 'Nokia 20'), ('description', 'Marca Nokia 20 de teste'), ('quantity', 10)]), OrderedDict([('name', 'Apple 21'), ('description', 'Marca Apple 21 de teste'), ('quantity', 1)]), OrderedDict([('name', 'Brastemp 22'), ('description', 'Marca Brastemp 22 de teste'), ('quantity', 6)]), OrderedDict([('name', 'Brastemp 23'), ('description', 'Marca Brastemp 23 de teste'), ('quantity', 5)]), OrderedDict([('name', 'Brastemp 24'), ('description', 'Marca Brastemp 24 de teste'), ('quantity', 8)]), OrderedDict([('name', 'LG 25'), ('description', 'Marca LG 25 de teste'), ('quantity', 6)]), OrderedDict([('name', 'LG 26'), ('description', 'Marca LG 26 de teste'), ('quantity', 3)]), OrderedDict([('name', 'LG 27'), ('description', 'Marca LG 27 de teste'), ('quantity', 3)]), OrderedDict([('name', 'LG 28'), ('description', 'Marca LG 28 de teste'), ('quantity', 5)]), OrderedDict([('name', 'Samsung Legal 29'), ('description', 'Marca Samsung Legal 29 de teste'), ('quantity', 8)]), OrderedDict([('name', 'Dell 30'), ('description', 'Marca Dell 30 de teste'), ('quantity', 1)]), OrderedDict([('name', 'Brastemp 31'), ('description', 'Marca Brastemp 31 de teste'), ('quantity', 1)]), OrderedDict([('name', 'Nokia 32'), ('description', 'Marca Nokia 32 de teste'), ('quantity', 9)]), OrderedDict([('name', 'Apple 33'), ('description', 'Marca Apple 33 de teste'), ('quantity', 3)]), OrderedDict([('name', 'Microsoft 34'), ('description', 'Marca Microsoft 34 de teste'), ('quantity', 2)]), OrderedDict([('name', 'Samsung Legal 35'), ('description', 'Marca Samsung Legal 35 de teste'), ('quantity', 3)]), OrderedDict([('name', 'Google 36'), ('description', 'Marca Google 36 de teste'), ('quantity', 9)]), OrderedDict([('name', 'Samsung Legal 37'), ('description', 'Marca Samsung Legal 37 de teste'), ('quantity', 6)]), OrderedDict([('name', 'Google 38'), ('description', 'Marca Google 38 de teste'), ('quantity', 1)]), OrderedDict([('name', 'Brastemp 39'), ('description', 'Marca Brastemp 39 de teste'), ('quantity', 6)]), OrderedDict([('name', 'Samsung Legal 40'), ('description', 'Marca Samsung Legal 40 de teste'), ('quantity', 7)]), OrderedDict([('name', 'Apple 41'), ('description', 'Marca Apple 41 de teste'), ('quantity', 9)]), OrderedDict([('name', 'Apple 42'), ('description', 'Marca Apple 42 de teste'), ('quantity', 7)]), OrderedDict([('name', 'Brastemp 43'), ('description', 'Marca Brastemp 43 de teste'), ('quantity', 8)]), OrderedDict([('name', 'Brastemp 44'), ('description', 'Marca Brastemp 44 de teste'), ('quantity', 6)]), OrderedDict([('name', 'Dell 45'), ('description', 'Marca Dell 45 de teste'), ('quantity', 8)]), OrderedDict([('name', 'LG 46'), ('description', 'Marca LG 46 de teste'), ('quantity', 10)]), OrderedDict([('name', 'Brastemp 47'), ('description', 'Marca Brastemp 47 de teste'), ('quantity', 1)]), OrderedDict([('name', 'Brastemp 48'), ('description', 'Marca Brastemp 48 de teste'), ('quantity', 0)]), OrderedDict([('name', 'LG 49'), ('description', 'Marca LG 49 de teste'), ('quantity', 0)]), OrderedDict([('name', 'Produto API Teste'), ('description', 'Nada'), ('quantity', 1)]), OrderedDict([('name', 'Produto API Teste'), ('description', 'Nada'), ('quantity', 1)]), OrderedDict([('name', 'Produto API Teste'), ('description', 'Nada'), ('quantity', 1)]), OrderedDict([('name', 'Produto API Teste'), ('description', 'Nada'), ('quantity', 1)]), OrderedDict([('name', 'Produto API Teste'), ('description', 'Nada'), ('quantity', 1)]), OrderedDict([('name', 'Produto API Teste'), ('description', 'Nada'), ('quantity', 1)])]"
      ]
     },
     "execution_count": 23,
     "metadata": {},
     "output_type": "execute_result"
    }
   ],
   "source": [
    "model_serializer.data"
   ]
  },
  {
   "cell_type": "code",
   "execution_count": null,
   "metadata": {},
   "outputs": [],
   "source": []
  }
 ],
 "metadata": {
  "kernelspec": {
   "display_name": "Python 3",
   "language": "python",
   "name": "python3"
  },
  "language_info": {
   "codemirror_mode": {
    "name": "ipython",
    "version": 3
   },
   "file_extension": ".py",
   "mimetype": "text/x-python",
   "name": "python",
   "nbconvert_exporter": "python",
   "pygments_lexer": "ipython3",
   "version": "3.6.4"
  }
 },
 "nbformat": 4,
 "nbformat_minor": 2
}
