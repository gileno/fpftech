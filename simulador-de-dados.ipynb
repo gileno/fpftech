{
 "cells": [
  {
   "cell_type": "markdown",
   "metadata": {},
   "source": [
    "### Simular dados (1, 6) e fazer a soma e média"
   ]
  },
  {
   "cell_type": "code",
   "execution_count": 9,
   "metadata": {},
   "outputs": [
    {
     "name": "stdout",
     "output_type": "stream",
     "text": [
      "4\n"
     ]
    }
   ],
   "source": [
    "import random\n",
    "print(random.randint(1, 6))"
   ]
  },
  {
   "cell_type": "code",
   "execution_count": 10,
   "metadata": {},
   "outputs": [
    {
     "name": "stdout",
     "output_type": "stream",
     "text": [
      "Digite a quantidade:4\n",
      "Número gerado: 5\n",
      "Número gerado: 2\n",
      "Número gerado: 3\n",
      "Número gerado: 5\n",
      "Soma: 15\n",
      "Média: 3.75\n"
     ]
    }
   ],
   "source": [
    "quantidade = int(input(\"Digite a quantidade:\"))\n",
    "soma = 0\n",
    "for i in range(quantidade):\n",
    "    numero = random.randint(1, 6)\n",
    "    soma = soma + numero\n",
    "    print(\"Número gerado:\", numero)\n",
    "print(\"Soma:\", soma)\n",
    "print(\"Média:\", (soma / quantidade))"
   ]
  },
  {
   "cell_type": "code",
   "execution_count": 11,
   "metadata": {},
   "outputs": [
    {
     "name": "stdout",
     "output_type": "stream",
     "text": [
      "Digite a quantidade:5\n",
      "Número gerado: 1\n",
      "Número gerado: 1\n",
      "Número gerado: 1\n",
      "Número gerado: 4\n",
      "Número gerado: 6\n",
      "Soma: 13\n",
      "Máximo: 6\n",
      "Mínimo: 1\n",
      "Média: 2.6\n",
      "Desvio padrão: 2.3021728866442674\n"
     ]
    }
   ],
   "source": [
    "import statistics\n",
    "quantidade = int(input(\"Digite a quantidade:\"))\n",
    "numeros = []\n",
    "for i in range(quantidade):\n",
    "    numero = random.randint(1, 6)\n",
    "    numeros.append(numero)\n",
    "    print(\"Número gerado:\", numero)\n",
    "print(\"Soma:\", sum(numeros))\n",
    "print(\"Máximo:\", max(numeros))\n",
    "print(\"Mínimo:\", min(numeros))\n",
    "print(\"Média:\", statistics.mean(numeros))\n",
    "print(\"Desvio padrão:\", statistics.stdev(numeros))"
   ]
  },
  {
   "cell_type": "code",
   "execution_count": null,
   "metadata": {},
   "outputs": [],
   "source": []
  }
 ],
 "metadata": {
  "kernelspec": {
   "display_name": "Python 3",
   "language": "python",
   "name": "python3"
  },
  "language_info": {
   "codemirror_mode": {
    "name": "ipython",
    "version": 3
   },
   "file_extension": ".py",
   "mimetype": "text/x-python",
   "name": "python",
   "nbconvert_exporter": "python",
   "pygments_lexer": "ipython3",
   "version": "3.6.4"
  }
 },
 "nbformat": 4,
 "nbformat_minor": 2
}
