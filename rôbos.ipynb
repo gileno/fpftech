{
 "cells": [
  {
   "cell_type": "markdown",
   "metadata": {},
   "source": [
    "## Rôbos (revisão OO)"
   ]
  },
  {
   "cell_type": "code",
   "execution_count": 1,
   "metadata": {},
   "outputs": [],
   "source": [
    "class Ponto(object):\n",
    "    \n",
    "    def __init__(self, x=0, y=0):\n",
    "        self.x = x\n",
    "        self.y = y\n",
    "    \n",
    "    def __str__(self):\n",
    "        return '<%s, %s>' % (self.x, self.y)\n",
    "\n",
    "class Robo(Ponto):\n",
    "    \n",
    "    def subir(self):\n",
    "        if self.x <= 0:\n",
    "            print('Movimento proibido')\n",
    "        else:\n",
    "            self.x = self.x - 1\n",
    "    def descer(self):\n",
    "        if self.x >= 9:\n",
    "            print('Movimento proibido')\n",
    "        else:\n",
    "            self.x = self.x + 1\n",
    "    def esquerda(self):\n",
    "        if self.y <= 0:\n",
    "            print('Movimento proibido')\n",
    "        else:\n",
    "            self.y = self.y - 1\n",
    "    def direita(self):\n",
    "        if self.y >= 9:\n",
    "            print('Movimento proibido')\n",
    "        else:\n",
    "            self.y = self.y + 1\n",
    "\n",
    "class Recompensa(Ponto):\n",
    "    \n",
    "    def __init__(self, nome, x=0, y=0):\n",
    "        super(Recompensa, self).__init__(x, y)\n",
    "        self.nome = nome\n",
    "    \n",
    "    def __str__(self):\n",
    "        return '%s <%s, %s>' % (self.nome, self.x, self.y)"
   ]
  },
  {
   "cell_type": "code",
   "execution_count": 3,
   "metadata": {},
   "outputs": [],
   "source": [
    "import random\n",
    "recompensas = []\n",
    "nomes = ['moeda', 'gasolina', 'arma']\n",
    "for i in range(10):\n",
    "    r = Recompensa(random.choice(nomes), random.randint(0, 9), random.randint(0, 9))\n",
    "    recompensas.append(r)"
   ]
  },
  {
   "cell_type": "code",
   "execution_count": 6,
   "metadata": {},
   "outputs": [
    {
     "name": "stdout",
     "output_type": "stream",
     "text": [
      "arma <4, 3>\n",
      "arma <9, 0>\n",
      "moeda <0, 8>\n",
      "moeda <9, 3>\n",
      "arma <3, 8>\n",
      "gasolina <8, 4>\n",
      "moeda <7, 5>\n",
      "arma <2, 7>\n",
      "gasolina <4, 4>\n",
      "gasolina <0, 0>\n"
     ]
    }
   ],
   "source": [
    "for r in recompensas:\n",
    "    print(r)"
   ]
  },
  {
   "cell_type": "code",
   "execution_count": 7,
   "metadata": {},
   "outputs": [],
   "source": [
    "robo1 = Robo(random.randint(0, 9), random.randint(0, 9))"
   ]
  },
  {
   "cell_type": "code",
   "execution_count": 9,
   "metadata": {},
   "outputs": [
    {
     "name": "stdout",
     "output_type": "stream",
     "text": [
      "Onde deseja ir? digite 'sair' para terminarsubir\n",
      "Onde deseja ir? digite 'sair' para terminardescer\n",
      "Onde deseja ir? digite 'sair' para terminaresquerda\n",
      "Onde deseja ir? digite 'sair' para terminaresquerda\n",
      "Movimento proibido\n",
      "Onde deseja ir? digite 'sair' para terminardescer\n",
      "Movimento proibido\n",
      "Onde deseja ir? digite 'sair' para terminardireita\n",
      "Onde deseja ir? digite 'sair' para terminarsubir\n",
      "Onde deseja ir? digite 'sair' para terminarsair\n",
      "<8, 1>\n",
      "Fim do programa\n"
     ]
    }
   ],
   "source": [
    "def checar_recompensa(robo, recompensas):\n",
    "    \"\"\"\n",
    "    Imprime o nome da recompensa caso tenha encontrado\n",
    "    \"\"\"\n",
    "    pass\n",
    "\n",
    "while True:\n",
    "    movimento = input(\"Onde deseja ir? digite 'sair' para terminar\")\n",
    "    if movimento == 'subir':\n",
    "        robo1.subir()\n",
    "    elif movimento == 'descer':\n",
    "        robo1.descer()\n",
    "    elif movimento == 'esquerda':\n",
    "        robo1.esquerda()\n",
    "    elif movimento == 'direita':\n",
    "        robo1.direita()\n",
    "    elif movimento == 'sair':\n",
    "        break\n",
    "    else:\n",
    "        print('Digite um movimento válido')\n",
    "    checar_recompensa(robo1, recompensas)\n",
    "print(robo1)\n",
    "print('Fim do programa')"
   ]
  },
  {
   "cell_type": "code",
   "execution_count": null,
   "metadata": {},
   "outputs": [],
   "source": []
  }
 ],
 "metadata": {
  "kernelspec": {
   "display_name": "Python 3",
   "language": "python",
   "name": "python3"
  },
  "language_info": {
   "codemirror_mode": {
    "name": "ipython",
    "version": 3
   },
   "file_extension": ".py",
   "mimetype": "text/x-python",
   "name": "python",
   "nbconvert_exporter": "python",
   "pygments_lexer": "ipython3",
   "version": "3.6.4"
  }
 },
 "nbformat": 4,
 "nbformat_minor": 2
}
