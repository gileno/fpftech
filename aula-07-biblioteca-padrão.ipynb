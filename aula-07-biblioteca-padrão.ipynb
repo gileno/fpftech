{
 "cells": [
  {
   "cell_type": "code",
   "execution_count": 1,
   "metadata": {},
   "outputs": [],
   "source": [
    "import math"
   ]
  },
  {
   "cell_type": "code",
   "execution_count": 2,
   "metadata": {},
   "outputs": [
    {
     "data": {
      "text/plain": [
       "3.141592653589793"
      ]
     },
     "execution_count": 2,
     "metadata": {},
     "output_type": "execute_result"
    }
   ],
   "source": [
    "math.pi"
   ]
  },
  {
   "cell_type": "code",
   "execution_count": 3,
   "metadata": {},
   "outputs": [],
   "source": [
    "import sys"
   ]
  },
  {
   "cell_type": "code",
   "execution_count": 4,
   "metadata": {},
   "outputs": [],
   "source": [
    "import os"
   ]
  },
  {
   "cell_type": "code",
   "execution_count": 5,
   "metadata": {},
   "outputs": [
    {
     "data": {
      "text/plain": [
       "0"
      ]
     },
     "execution_count": 5,
     "metadata": {},
     "output_type": "execute_result"
    }
   ],
   "source": [
    "os.system(\"ping www.gilenofilho.com.br\")"
   ]
  },
  {
   "cell_type": "code",
   "execution_count": 6,
   "metadata": {},
   "outputs": [],
   "source": [
    "import subprocess"
   ]
  },
  {
   "cell_type": "code",
   "execution_count": 7,
   "metadata": {},
   "outputs": [],
   "source": [
    "commando = \"ping www.gilenofilho.com.br\"\n",
    "saida = subprocess.check_output(commando.split(\" \"))"
   ]
  },
  {
   "cell_type": "code",
   "execution_count": 8,
   "metadata": {},
   "outputs": [
    {
     "name": "stdout",
     "output_type": "stream",
     "text": [
      "b'\\r\\nDisparando sni.github.map.fastly.net [151.101.93.147] com 32 bytes de dados:\\r\\nResposta de 151.101.93.147: bytes=32 tempo=113ms TTL=49\\r\\nResposta de 151.101.93.147: bytes=32 tempo=111ms TTL=49\\r\\nResposta de 151.101.93.147: bytes=32 tempo=113ms TTL=49\\r\\nResposta de 151.101.93.147: bytes=32 tempo=218ms TTL=49\\r\\n\\r\\nEstat\\xa1sticas do Ping para 151.101.93.147:\\r\\n    Pacotes: Enviados = 4, Recebidos = 4, Perdidos = 0 (0% de\\r\\n             perda),\\r\\nAproximar um n\\xa3mero redondo de vezes em milissegundos:\\r\\n    M\\xa1nimo = 111ms, M\\xa0ximo = 218ms, M\\x82dia = 138ms\\r\\n'\n"
     ]
    }
   ],
   "source": [
    "print(saida)"
   ]
  },
  {
   "cell_type": "code",
   "execution_count": 9,
   "metadata": {},
   "outputs": [
    {
     "data": {
      "text/plain": [
       "['ping', 'www.gilenofilho.com.br']"
      ]
     },
     "execution_count": 9,
     "metadata": {},
     "output_type": "execute_result"
    }
   ],
   "source": [
    "commando.split(\" \")"
   ]
  },
  {
   "cell_type": "code",
   "execution_count": 13,
   "metadata": {},
   "outputs": [
    {
     "data": {
      "text/plain": [
       "['.git',\n",
       " '.gitignore',\n",
       " '.ipynb_checkpoints',\n",
       " '.vscode',\n",
       " 'adivinha-01.ipynb',\n",
       " 'adivinha.py',\n",
       " 'aula-01-variáveis.ipynb',\n",
       " 'aula-02-estruturas-de-controle.ipynb',\n",
       " 'aula-03-listas-string-dict.ipynb',\n",
       " 'aula-04-laços.ipynb',\n",
       " 'aula-05-funções.ipynb',\n",
       " 'aula-06-arquivos.ipynb',\n",
       " 'aula-07-biblioteca-padrão.ipynb',\n",
       " 'aula-08-orientação-a-objetos.ipynb',\n",
       " 'base',\n",
       " 'contatos.ipynb',\n",
       " 'contatos.txt',\n",
       " 'README.md',\n",
       " 'simulador-de-dados.ipynb',\n",
       " 'simulador_de_dados.py',\n",
       " 'venv']"
      ]
     },
     "execution_count": 13,
     "metadata": {},
     "output_type": "execute_result"
    }
   ],
   "source": [
    "os.listdir()"
   ]
  },
  {
   "cell_type": "code",
   "execution_count": 14,
   "metadata": {},
   "outputs": [
    {
     "data": {
      "text/plain": [
       "['$GetCurrent',\n",
       " '$Recycle.Bin',\n",
       " 'Apps',\n",
       " 'Arquivos de Programas',\n",
       " 'Config.Msi',\n",
       " 'Dell',\n",
       " 'dell.sdr',\n",
       " 'Documents and Settings',\n",
       " 'Drivers',\n",
       " 'eeColorTables',\n",
       " 'hiberfil.sys',\n",
       " 'Intel',\n",
       " 'langpacks',\n",
       " 'pagefile.sys',\n",
       " 'PerfLogs',\n",
       " 'Program Files',\n",
       " 'Program Files (x86)',\n",
       " 'ProgramData',\n",
       " 'Python36',\n",
       " 'Recovery',\n",
       " 'Riot Games',\n",
       " 'swapfile.sys',\n",
       " 'System Volume Information',\n",
       " 'Users',\n",
       " 'Windows',\n",
       " 'windows-version.txt',\n",
       " 'Windows10Upgrade']"
      ]
     },
     "execution_count": 14,
     "metadata": {},
     "output_type": "execute_result"
    }
   ],
   "source": [
    "os.listdir(\"C:\\\\\")"
   ]
  },
  {
   "cell_type": "code",
   "execution_count": 1,
   "metadata": {},
   "outputs": [],
   "source": [
    "import requests"
   ]
  },
  {
   "cell_type": "code",
   "execution_count": 2,
   "metadata": {},
   "outputs": [],
   "source": [
    "resposta = requests.get(\"https://www.google.com\")"
   ]
  },
  {
   "cell_type": "code",
   "execution_count": 3,
   "metadata": {},
   "outputs": [
    {
     "data": {
      "text/plain": [
       "'<!doctype html><html itemscope=\"\" itemtype=\"http://schema.org/WebPage\" lang=\"pt-BR\"><head><meta content=\"text/html; charset=UTF-8\" http-equiv=\"Content-Type\"><meta content=\"/images/branding/googleg/1x/googleg_standard_color_128dp.png\" itemprop=\"image\"><title>Google</title><script nonce=\"KMf/Csz71sG+FvpH7A+L6g==\">(function(){window.google={kEI:\\'7ByLWsvSI8mOwgSjo4jwAw\\',kEXPI:\\'18168,1354277,1354688,1354915,1355220,1355527,1355675,1355762,1355792,1355893,1356040,1356691,1356779,1357033,1357209,1357219,1357808,3700265,3700521,4029815,4031109,4043492,4045840,4048347,4081039,4096834,4097153,4097922,4097929,4098721,4098728,4103210,4103845,4106084,4109316,4109489,4116279,4116731,4116926,4116935,4118798,4120660,4121806,4122511,4123641,4124850,4125837,4126206,4126754,4126869,4127086,4127306,4127744,4128586,4129001,4129520,4129633,4131247,4131834,4133755,4135025,4135045,4135677,4136073,4137436,4137467,4137597,4137646,4137727,4138833,4139722,4139730,4140278,4140289,4140292,4140324,4140335,4140338,4141160,4141174,4141441,4142071,4142328,4142558,4142560,4142574,4142834,4143278,4143676,4144442,4144544,4144803,4145088,4145108,4145153,4145461,4145485,4145772,4145836,4146147,4146630,4146752,4147026,4147900,4147943,4147951,4148268,4148280,4148304,4148498,4148510,4148571,4148608,4148875,4149017,4149266,4149270,4149304,4149336,4149372,4149493,4150005,4150017,4150185,4150429,4150565,4151295,4151351,4151389,4151697,4152044,4152212,4152617,4152888,4152892,4153062,4153219,4153222,4153368,4153545,4153561,4153600,4153616,4153635,4153952,4154203,4154307,4154341,4154377,4154484,4154506,4154859,4154932,4155445,4155568,4155610,4155625,6512488,10200083,10202524,15807764,16200132,19000288,19000423,19000427,19001999,19002287,19002288,19002366,19002548,19002880,19003321,19003323,19003325,19003326,19003328,19003329,19003330,19003407,19003408,19003409,19004309,19004516,19004517,19004518,19004519,19004520,19004521,19004892,19004901,19004977,19004981,19004985,19004987,19004988,19004989\\',authuser:0,kscs:\\'c9c918f0_7ByLWsvSI8mOwgSjo4jwAw\\',u:\\'c9c918f0\\',kGL:\\'BR\\'};google.kHL=\\'pt-BR\\';})();(function(){google.lc=[];google.li=0;google.getEI=function(a){for(var b;a&&(!a.getAttribute||!(b=a.getAttribute(\"eid\")));)a=a.parentNode;return b||google.kEI};google.getLEI=function(a){for(var b=null;a&&(!a.getAttribute||!(b=a.getAttribute(\"leid\")));)a=a.parentNode;return b};google.https=function(){return\"https:\"==window.location.protocol};google.ml=function(){return null};google.wl=function(a,b){try{google.ml(Error(a),!1,b)}catch(d){}};google.time=function(){return(new Date).getTime()};google.log=function(a,b,d,c,g){if(a=google.logUrl(a,b,d,c,g)){b=new Image;var e=google.lc,f=google.li;e[f]=b;b.onerror=b.onload=b.onabort=function(){delete e[f]};google.vel&&google.vel.lu&&google.vel.lu(a);b.src=a;google.li=f+1}};google.logUrl=function(a,b,d,c,g){var e=\"\",f=google.ls||\"\";d||-1!=b.search(\"&ei=\")||(e=\"&ei=\"+google.getEI(c),-1==b.search(\"&lei=\")&&(c=google.getLEI(c))&&(e+=\"&lei=\"+c));c=\"\";!d&&google.cshid&&-1==b.search(\"&cshid=\")&&(c=\"&cshid=\"+google.cshid);a=d||\"/\"+(g||\"gen_204\")+\"?atyp=i&ct=\"+a+\"&cad=\"+b+e+f+\"&zx=\"+google.time()+c;/^http:/i.test(a)&&google.https()&&(google.ml(Error(\"a\"),!1,{src:a,glmm:1}),a=\"\");return a};}).call(this);(function(){google.y={};google.x=function(a,b){if(a)var c=a.id;else{do c=Math.random();while(google.y[c])}google.y[c]=[a,b];return!1};google.lm=[];google.plm=function(a){google.lm.push.apply(google.lm,a)};google.lq=[];google.load=function(a,b,c){google.lq.push([[a],b,c])};google.loadAll=function(a,b){google.lq.push([a,b])};}).call(this);google.f={};var a=window.location,b=a.href.indexOf(\"#\");if(0<=b){var c=a.href.substring(b+1);/(^|&)q=/.test(c)&&-1==c.indexOf(\"#\")&&a.replace(\"/search?\"+c.replace(/(^|&)fp=[^&]*/g,\"\")+\"&cad=h\")};</script><style>#gbar,#guser{font-size:13px;padding-top:1px !important;}#gbar{height:22px}#guser{padding-bottom:7px !important;text-align:right}.gbh,.gbd{border-top:1px solid #c9d7f1;font-size:1px}.gbh{height:0;position:absolute;top:24px;width:100%}@media all{.gb1{height:22px;margin-right:.5em;vertical-align:top}#gbar{float:left}}a.gb1,a.gb4{text-decoration:underline !important}a.gb1,a.gb4{color:#00c !important}.gbi .gb4{color:#dd8e27 !important}.gbf .gb4{color:#900 !important}\\n</style><style>body,td,a,p,.h{font-family:arial,sans-serif}body{margin:0;overflow-y:scroll}#gog{padding:3px 8px 0}td{line-height:.8em}.gac_m td{line-height:17px}form{margin-bottom:20px}.h{color:#36c}.q{color:#00c}.ts td{padding:0}.ts{border-collapse:collapse}em{font-weight:bold;font-style:normal}.lst{height:25px;width:496px}.gsfi,.lst{font:18px arial,sans-serif}.gsfs{font:17px arial,sans-serif}.ds{display:inline-box;display:inline-block;margin:3px 0 4px;margin-left:4px}input{font-family:inherit}a.gb1,a.gb2,a.gb3,a.gb4{color:#11c !important}body{background:#fff;color:black}a{color:#11c;text-decoration:none}a:hover,a:active{text-decoration:underline}.fl a{color:#36c}a:visited{color:#551a8b}a.gb1,a.gb4{text-decoration:underline}a.gb3:hover{text-decoration:none}#ghead a.gb2:hover{color:#fff !important}.sblc{padding-top:5px}.sblc a{display:block;margin:2px 0;margin-left:13px;font-size:11px}.lsbb{background:#eee;border:solid 1px;border-color:#ccc #999 #999 #ccc;height:30px}.lsbb{display:block}.ftl,#fll a{display:inline-block;margin:0 12px}.lsb{background:url(/images/nav_logo229.png) 0 -261px repeat-x;border:none;color:#000;cursor:pointer;height:30px;margin:0;outline:0;font:15px arial,sans-serif;vertical-align:top}.lsb:active{background:#ccc}.lst:focus{outline:none}.tiah{width:458px}</style><script nonce=\"KMf/Csz71sG+FvpH7A+L6g==\"></script><link href=\"/images/branding/product/ico/googleg_lodp.ico\" rel=\"shortcut icon\"></head><body bgcolor=\"#fff\"><script nonce=\"KMf/Csz71sG+FvpH7A+L6g==\">(function(){var src=\\'/images/nav_logo229.png\\';var iesg=false;document.body.onload = function(){window.n && window.n();if (document.images){new Image().src=src;}\\nif (!iesg){document.f&&document.f.q.focus();document.gbqf&&document.gbqf.q.focus();}\\n}\\n})();</script><div id=\"mngb\"> <div id=gbar><nobr><b class=gb1>Pesquisa</b> <a class=gb1 href=\"https://www.google.com.br/imghp?hl=pt-BR&tab=wi\">Imagens</a> <a class=gb1 href=\"https://maps.google.com.br/maps?hl=pt-BR&tab=wl\">Maps</a> <a class=gb1 href=\"https://play.google.com/?hl=pt-BR&tab=w8\">Play</a> <a class=gb1 href=\"https://www.youtube.com/?gl=BR&tab=w1\">YouTube</a> <a class=gb1 href=\"https://news.google.com.br/nwshp?hl=pt-BR&tab=wn\">Notícias</a> <a class=gb1 href=\"https://mail.google.com/mail/?tab=wm\">Gmail</a> <a class=gb1 href=\"https://drive.google.com/?tab=wo\">Drive</a> <a class=gb1 style=\"text-decoration:none\" href=\"https://www.google.com.br/intl/pt-BR/options/\"><u>Mais</u> &raquo;</a></nobr></div><div id=guser width=100%><nobr><span id=gbn class=gbi></span><span id=gbf class=gbf></span><span id=gbe></span><a href=\"http://www.google.com.br/history/optout?hl=pt-BR\" class=gb4>Histórico da Web</a> | <a  href=\"/preferences?hl=pt-BR\" class=gb4>Configurações</a> | <a target=_top id=gb_70 href=\"https://accounts.google.com/ServiceLogin?hl=pt-BR&passive=true&continue=https://www.google.com.br/%3Fgws_rd%3Dcr%26dcr%3D0%26ei%3D7ByLWp63AYTBwATX4bDADQ\" class=gb4>Fazer login</a></nobr></div><div class=gbh style=left:0></div><div class=gbh style=right:0></div> </div><center><br clear=\"all\" id=\"lgpd\"><div id=\"lga\"><div style=\"padding:28px 0 3px\"><div style=\"height:110px;width:276px;background:url(/images/branding/googlelogo/1x/googlelogo_white_background_color_272x92dp.png) no-repeat\" title=\"Google\" align=\"left\" id=\"hplogo\" onload=\"window.lol&&lol()\"><div style=\"color:#777;font-size:16px;font-weight:bold;position:relative;top:70px;left:218px\" nowrap=\"\">Brasil</div></div></div><br></div><form action=\"/search\" name=\"f\"><table cellpadding=\"0\" cellspacing=\"0\"><tr valign=\"top\"><td width=\"25%\">&nbsp;</td><td align=\"center\" nowrap=\"\"><input name=\"ie\" value=\"ISO-8859-1\" type=\"hidden\"><input value=\"pt-BR\" name=\"hl\" type=\"hidden\"><input name=\"source\" type=\"hidden\" value=\"hp\"><input name=\"biw\" type=\"hidden\"><input name=\"bih\" type=\"hidden\"><div class=\"ds\" style=\"height:32px;margin:4px 0\"><div style=\"position:relative;zoom:1\"><input style=\"color:#000;margin:0;padding:5px 8px 0 6px;vertical-align:top;padding-right:38px\" autocomplete=\"off\" class=\"lst tiah\" value=\"\" title=\"Pesquisa Google\" maxlength=\"2048\" name=\"q\" size=\"57\"><img src=\"/textinputassistant/tia.png\" style=\"position:absolute;cursor:pointer;right:5px;top:4px;z-index:300\" onclick=\"(function(){var src=\\'/textinputassistant/11/pt-BR_tia.js\\';var s=document.createElement(\\'script\\');s.src=src;(document.getElementById(\\'xjsc\\')||document.body).appendChild(s);})();\" alt=\"\" height=\"23\" width=\"27\"></div></div><br style=\"line-height:0\"><span class=\"ds\"><span class=\"lsbb\"><input class=\"lsb\" value=\"Pesquisa Google\" name=\"btnG\" type=\"submit\"></span></span><span class=\"ds\"><span class=\"lsbb\"><input class=\"lsb\" value=\"Estou com sorte\" name=\"btnI\" onclick=\"if(this.form.q.value)this.checked=1; else top.location=\\'/doodles/\\'\" type=\"submit\"></span></span></td><td class=\"fl sblc\" align=\"left\" nowrap=\"\" width=\"25%\"><a href=\"/advanced_search?hl=pt-BR&amp;authuser=0\">Pesquisa avançada</a><a href=\"/language_tools?hl=pt-BR&amp;authuser=0\">Ferramentas de idioma</a></td></tr></table><input id=\"gbv\" name=\"gbv\" type=\"hidden\" value=\"1\"></form><div id=\"gac_scont\"></div><div style=\"font-size:83%;min-height:3.5em\"><br></div><span id=\"footer\"><div style=\"font-size:10pt\"><div style=\"margin:19px auto;text-align:center\" id=\"fll\"><a href=\"/intl/pt-BR/ads/\">Soluções de publicidade</a><a href=\"/services/\">Soluções empresariais</a><a href=\"https://plus.google.com/107558061013247958406\" rel=\"publisher\">+Google</a><a href=\"/intl/pt-BR/about.html\">Sobre o Google</a><a href=\"https://www.google.com.br/setprefdomain?prefdom=US&amp;sig=__4NgOGloSSG64_RbzYiH2OwMBGNw%3D\" id=\"fehl\">Google.com</a></div></div><p style=\"color:#767676;font-size:8pt\">&copy; 2018 - <a href=\"/intl/pt-BR/policies/privacy/\">Privacidade</a> - <a href=\"/intl/pt-BR/policies/terms/\">Termos</a></p></span></center><script nonce=\"KMf/Csz71sG+FvpH7A+L6g==\">(function(){window.google.cdo={height:0,width:0};(function(){var a=window.innerWidth,b=window.innerHeight;if(!a||!b){var c=window.document,d=\"CSS1Compat\"==c.compatMode?c.documentElement:c.body;a=d.clientWidth;b=d.clientHeight}a&&b&&(a!=google.cdo.width||b!=google.cdo.height)&&google.log(\"\",\"\",\"/client_204?&atyp=i&biw=\"+a+\"&bih=\"+b+\"&ei=\"+google.kEI);}).call(this);})();</script><div id=\"xjsd\"></div><div id=\"xjsi\"><script nonce=\"KMf/Csz71sG+FvpH7A+L6g==\">(function(){function c(b){window.setTimeout(function(){var a=document.createElement(\"script\");a.src=b;google.timers&&google.timers.load.t&&google.tick(\"load\",{gen204:\"xjsls\",clearcut:31});document.getElementById(\"xjsd\").appendChild(a)},0)}google.dljp=function(b,a){google.xjsu=b;c(a)};google.dlj=c;}).call(this);if(!google.xjs){window._=window._||{};window._DumpException=window._._DumpException=function(e){throw e};google.dljp(\\'/xjs/_/js/k\\\\x3dxjs.hp.en.TSpUc5CqeZc.O/m\\\\x3dsb_he,d/am\\\\x3dKEA/rt\\\\x3dj/d\\\\x3d1/t\\\\x3dzcms/rs\\\\x3dACT90oEeb_JuB5gmiYR6-ZU7KStoZ_SDdg\\',\\'/xjs/_/js/k\\\\x3dxjs.hp.en.TSpUc5CqeZc.O/m\\\\x3dsb_he,d/am\\\\x3dKEA/rt\\\\x3dj/d\\\\x3d1/t\\\\x3dzcms/rs\\\\x3dACT90oEeb_JuB5gmiYR6-ZU7KStoZ_SDdg\\');google.xjs=1;}google.pmc={\"sb_he\":{\"agen\":true,\"cgen\":true,\"client\":\"heirloom-hp\",\"dh\":true,\"dhqt\":true,\"ds\":\"\",\"fl\":true,\"host\":\"google.com.br\",\"isbh\":28,\"jsonp\":true,\"msgs\":{\"cibl\":\"Limpar pesquisa\",\"dym\":\"Você quis dizer:\",\"lcky\":\"Estou com sorte\",\"lml\":\"Saiba mais\",\"oskt\":\"Ferramentas de inserção de texto\",\"psrc\":\"Esta pesquisa foi removida do seu\\\\u003Ca href=\\\\\"/history\\\\\"\\\\u003EHistórico da web\\\\u003C/a\\\\u003E\",\"psrl\":\"Remover\",\"sbit\":\"Pesquisa por imagem\",\"srch\":\"Pesquisa Google\"},\"nds\":true,\"ovr\":{},\"pq\":\"\",\"refpd\":true,\"rfs\":[],\"sbpl\":24,\"sbpr\":24,\"scd\":10,\"sce\":5,\"stok\":\"daBjWqVTvSp-F7gvCle29bmNXXs\"},\"d\":{},\"ZI/YVQ\":{},\"YFCs/g\":{}};google.x(null,function(){});(function(){var r=[];google.plm(r);})();(function(){var ctx=[]\\n;google.jsc && google.jsc.x(ctx);})();</script></div></body></html>'"
      ]
     },
     "execution_count": 3,
     "metadata": {},
     "output_type": "execute_result"
    }
   ],
   "source": [
    "resposta.text"
   ]
  },
  {
   "cell_type": "code",
   "execution_count": 4,
   "metadata": {},
   "outputs": [],
   "source": [
    "resposta = requests.get(\"http://www.gilenofilho.com.br\")"
   ]
  },
  {
   "cell_type": "code",
   "execution_count": 5,
   "metadata": {},
   "outputs": [
    {
     "data": {
      "text/plain": [
       "'<!DOCTYPE html>\\n<html xmlns=\"http://www.w3.org/1999/xhtml\"\\n    xmlns:og=\"http://ogp.me/ns#\"\\n    xmlns:fb=\"https://www.facebook.com/2008/fbml\"\\n    itemscope itemtype=\"http://schema.org/Blog\"\\n    lang=\"pt\">\\n    <head>\\n        <meta http-equiv=\"Content-Type\" content=\"text/html; charset=UTF-8\"/>\\n        <meta name=\"viewport\" content=\"width=device-width, initial-scale=1, maximum-scale=1.0\"/>\\n        <meta http-equiv=\"content-language\" content=\"pt-br\">\\n        <meta name=\"robots\" content=\"index, follow\">\\n        <meta name=\"description\" content=\"Website Gileno Filho\"/>\\n        <meta name=\"keywords\" content=\"programação, python, recife, desenvolvimento, data science\"/>\\n        <meta name=\"author\" content=\"Gileno Filho\">\\n        <meta name=\"generator\" content=\"Pelican\">\\n        <title>Gileno Filho</title>\\n\\n        <!-- Feeds -->\\n            <link href=\"http://www.gilenofilho.com.br/feeds.atom\" type=\"application/atom+xml\" rel=\"alternate\" title=\"Gileno Filho ATOM Feed\"/>\\n            <link href=\"http://www.gilenofilho.com.br/feeds.rss\" type=\"application/rss+xml\" rel=\"alternate\" title=\"Gileno Filho RSS Feed\"/>\\n\\n        <!-- CSS  -->\\n        <link rel=\"stylesheet\" href=\"/theme/css/font-awesome.min.css\">\\n        <link href=\"/theme/css/bootstrap.css\" type=\"text/css\" rel=\"stylesheet\" />\\n        <link href=\"/theme/css/style.css\" type=\"text/css\" rel=\"stylesheet\" />\\n        <!-- HTML5 shim and Respond.js IE8 support of HTML5 elements and media queries -->\\n        <!--[if lt IE 9]>\\n          <script src=\"https://oss.maxcdn.com/libs/html5shiv/3.7.0/html5shiv.js\"></script>\\n          <script src=\"https://oss.maxcdn.com/libs/respond.js/1.4.2/respond.min.js\"></script>\\n        <![endif]-->\\n        <!-- Metadata -->\\n        <meta property=\"og:type\" content=\"website\"/>\\n\\n        <!-- Google Analytics -->\\n        <script>\\n          (function(i,s,o,g,r,a,m){i[\\'GoogleAnalyticsObject\\']=r;i[r]=i[r]||function(){\\n          (i[r].q=i[r].q||[]).push(arguments)},i[r].l=1*new Date();a=s.createElement(o),\\n          m=s.getElementsByTagName(o)[0];a.async=1;a.src=g;m.parentNode.insertBefore(a,m)\\n          })(window,document,\\'script\\',\\'//www.google-analytics.com/analytics.js\\',\\'ga\\');\\n          ga(\\'create\\', \\'UA-15015773-2\\', \\'auto\\');\\n          ga(\\'send\\', \\'pageview\\');\\n        </script>\\n\\n    </head>\\n\\n    <body>\\n        <header>\\n<!-- Fixed navbar -->\\n<div class=\"navbar navbar-default navbar-fixed-top\" role=\"navigation\">\\n  <div class=\"container\">\\n    <div class=\"navbar-header\">\\n      <button type=\"button\" class=\"navbar-toggle\" data-toggle=\"collapse\" data-target=\".navbar-collapse\">\\n        <span class=\"sr-only\">Toggle navigation</span>\\n        <span class=\"icon-bar\"></span>\\n        <span class=\"icon-bar\"></span>\\n        <span class=\"icon-bar\"></span>\\n      </button>\\n      <a class=\"navbar-brand\" href=\"/\">Gileno Filho</a>\\n    </div>\\n    <div class=\"navbar-collapse collapse navbar-right\">\\n      <ul class=\"nav navbar-nav\">\\n        <li><a href=\"/\">Início</a></li>\\n          <li ><a href=\"/sobre\">Sobre</a></li>\\n          <li ><a href=\"/categorias/cursos/\">Cursos</a></li>\\n          <li ><a href=\"/categorias/palestras/\">Palestas</a></li>\\n          <li ><a href=\"/categorias/tutoriais/\">Tutoriais</a></li>\\n          <li ><a href=\"/categorias/utils/\">Utils</a></li>\\n      </ul>\\n    </div><!--/.nav-collapse -->\\n  </div>\\n</div>            <div id=\"blue\">\\n                <div class=\"container\">\\n                    <div class=\"row\">\\n                        <h3>\\n    programador, cientista, pythonista e minimalista. Recife, Brasil\\n</h3>\\n                    </div><!-- /row -->\\n                </div> <!-- /container -->\\n            </div><!-- /blue -->\\n        </header>\\n        <main>\\n            <!-- Content -->\\n            <div class=\"container mtb\">\\n                <div class=\"col-md-8\">\\n<ol class=\"breadcrumb\">\\n    <li>\\n    <a title=\"Gileno Filho Home\" href=\"/\"><i class=\"fa fa-home pr-10\"></i> Início</a>\\n    </li>\\n</ol><article>\\n    <a href=\"/python-datasets\"><h3 class=\"ctitle\">Bibliotecas Python para carregar Dataset\\'s</h3></a>\\n    <p>\\n        Publicado em:  <time datetime=\"2017-01-02T09:00:00-03:00\">Seg 02 Janeiro 2017</time>.\\n        |\\n        Por: <a href=\"/autores/gileno-filho\">Gileno Filho</a>\\n        |\\n        Arquivado em: <a href=\"/categorias/tutoriais\">tutoriais</a>\\n    </p>\\n    <p>\\n        <p>Desde que a biblioteca <a href=\"http://pandas.pydata.org/\">Pandas</a> se tornou bastante popular em análise de dados com Python, várias outras libs surgiram para auxiliar a importação de dados para objetos do tipo DataFrame (utilizados pelo Pandas).</p>\\n<p>Neste artigo irei comentar sobre duas libs:</p>\\n<ul>\\n<li><a href=\"https://github.com/yhat/db.py\">db.py</a>: Facilita a importação de bancos de dados para …</li></ul>\\n    </p>\\n    <p><a href=\"/python-datasets\">[Leia mais]</a></p>\\n    <div class=\"hline\"></div>\\n    <div class=\"spacing\"></div>\\n</article>\\n<article>\\n    <a href=\"/como-funciona-o-orm-do-django\"><h3 class=\"ctitle\">Como funciona o ORM do Django</h3></a>\\n    <p>\\n        Publicado em:  <time datetime=\"2016-07-15T22:00:00-03:00\">Sex 15 Julho 2016</time>.\\n        |\\n        Por: <a href=\"/autores/gileno-filho\">Gileno Filho</a>\\n        |\\n        Arquivado em: <a href=\"/categorias/tutoriais\">tutoriais</a>\\n    </p>\\n    <p>\\n        <p>Uma das coisas mais interessantes do framework <a href=\"https://djangoproject.com/\">Django</a> é sem dúvidas o seu <a href=\"https://pt.wikipedia.org/wiki/Mapeamento_objeto-relacional\">ORM</a>. E o que o torna interessante é a sua simplicidade e objetividade quando se utiliza os <a href=\"https://docs.djangoproject.com/en/1.9/ref/models/lookups/\">Lookups</a> para realizar consultas simples e até as complexas que envolvem join\\'s.</p>\\n<p>Neste artigo irei explorar algumas coisas básicas para …</p>\\n    </p>\\n    <p><a href=\"/como-funciona-o-orm-do-django\">[Leia mais]</a></p>\\n    <div class=\"hline\"></div>\\n    <div class=\"spacing\"></div>\\n</article>\\n<article>\\n    <a href=\"/curso-gratuito-de-django-com-python-3\"><h3 class=\"ctitle\">Curso Gratuito de Django com Python 3</h3></a>\\n    <p>\\n        Publicado em:  <time datetime=\"2016-03-23T13:40:00-03:00\">Qua 23 Março 2016</time>.\\n        |\\n        Por: <a href=\"/autores/gileno-filho\">Gileno Filho</a>\\n        |\\n        Arquivado em: <a href=\"/categorias/cursos\">cursos</a>\\n    </p>\\n    <p>\\n        <p>Olá pessoal, a algum tempo eu fechei as inscrições do meu curso de Django com Python 3 que comecei em 2014. Neste curso foi desenvolvido um projeto chamado SimpleMOOC, uma simples plataforma para ensino a distância que tinha fins didáticos.</p>\\n<p>Recentemente eu resolvi disponibilizar as vídeo-aulas desse curso pois irei …</p>\\n    </p>\\n    <p><a href=\"/curso-gratuito-de-django-com-python-3\">[Leia mais]</a></p>\\n    <div class=\"hline\"></div>\\n    <div class=\"spacing\"></div>\\n</article>\\n<article>\\n    <a href=\"/programacao-felicidade-mercado-e-outras-coisas\"><h3 class=\"ctitle\">Programação, felicidade, mercado e outras coisas...</h3></a>\\n    <p>\\n        Publicado em:  <time datetime=\"2015-11-10T17:00:00-03:00\">Ter 10 Novembro 2015</time>.\\n        |\\n        Por: <a href=\"/autores/gileno-filho\">Gileno Filho</a>\\n        |\\n        Arquivado em: <a href=\"/categorias/utils\">utils</a>\\n    </p>\\n    <p>\\n        <p>Obs: No final do texto tem alguns links e palestras interessantes mas vou contextualizar minha história antes.</p>\\n<p>Nos últimos 2 anos eu tenho estudado bastante coisas relacionadas a Lifestyle Business, e isso começou quando eu percebi que o buraco negro corporativo e nem o conto de fadas das startups eram …</p>\\n    </p>\\n    <p><a href=\"/programacao-felicidade-mercado-e-outras-coisas\">[Leia mais]</a></p>\\n    <div class=\"hline\"></div>\\n    <div class=\"spacing\"></div>\\n</article>\\n<article>\\n    <a href=\"/usando-o-scrapy-e-o-rethinkdb-para-capturar-e-armazenar-dados-imobiliarios-parte-iii\"><h3 class=\"ctitle\">Usando o Scrapy e o Rethinkdb para capturar e armazenar dados imobiliários - Parte III</h3></a>\\n    <p>\\n        Publicado em:  <time datetime=\"2015-09-08T13:33:00-03:00\">Ter 08 Setembro 2015</time>.\\n        |\\n        Por: <a href=\"/autores/gileno-filho\">Gileno Filho</a>\\n        |\\n        Arquivado em: <a href=\"/categorias/tutoriais\">tutoriais</a>\\n    </p>\\n    <p>\\n        <h3>Introdução</h3>\\n<p>Olá pessoal, esta é a parte III da série sobre o Scrapy, abaixo os links para todos os artigos da série:</p>\\n<ul>\\n<li><a href=\"http://gilenofilho.com.br/usando-o-scrapy-e-o-rethinkdb-para-capturar-e-armazenar-dados-imobiliarios-parte-i/\">Parte I - Configurando e rodando o Scrapy</a></li>\\n<li><a href=\"http://gilenofilho.com.br/usando-o-scrapy-e-o-rethinkdb-para-capturar-e-armazenar-dados-imobiliarios-parte-ii/\">Parte II - Instalando, configurando e armazenando os dados no Rethinkdb</a></li>\\n<li><a href=\"http://gilenofilho.com.br/usando-o-scrapy-e-o-rethinkdb-para-capturar-e-armazenar-dados-imobiliarios-parte-iii/\">Parte III - Deploy do projeto Scrapy</a></li>\\n</ul>\\n<p>Nos artigos anteriores mostrei como …</p>\\n    </p>\\n    <p><a href=\"/usando-o-scrapy-e-o-rethinkdb-para-capturar-e-armazenar-dados-imobiliarios-parte-iii\">[Leia mais]</a></p>\\n    <div class=\"hline\"></div>\\n    <div class=\"spacing\"></div>\\n</article>\\n<nav>\\n    <ul class=\"pagination\">\\n        <li class=\"disabled\">\\n            <a href=\"\" aria-label=\"Previous\"><span aria-hidden=\"true\">&laquo;</span></a>\\n        </li>\\n                <li class=\"active\"><a href=\"\">1</a></li>\\n                <li><a href=\"/page/2/\">2</a></li>\\n                <li><a href=\"/page/3/\">3</a></li>\\n                <li><a href=\"/page/4/\">4</a></li>\\n                <li><a href=\"/page/5/\">5</a></li>\\n                <li><a href=\"/page/6/\">6</a></li>\\n        <li>\\n          <a href=\"/page/2/\" aria-label=\"Next\">\\n            <span aria-hidden=\"true\">&raquo;</span>\\n          </a>\\n        </li>\\n    </ul>\\n</nav>\\n                </div>\\n                <div class=\"col-md-4\">\\n                    <h4><a href=\"https://www.udemy.com/construa-um-e-commerce-com-python-3-e-django/?couponCode=websitegilenofilho\">Construa um E-Commerce com Python e Django</a></h4>\\n                    <a href=\"https://www.udemy.com/construa-um-e-commerce-com-python-3-e-django/?couponCode=websitegilenofilho\">\\n                        <img src=\"/images/django-udemy.jpg\" alt=\"Construa um E-Commerce com Python e Django\" class=\"img-responsive\" />\\n                    </a>\\n    \\t\\t \\t\\t<h4>Pesquisar</h4>\\n    \\t\\t \\t\\t<div class=\"hline\"></div>\\n\\t\\t \\t\\t\\t<p>\\n\\t\\t \\t\\t\\t\\t<br>\\n                        <form class=\"\" action=\"https://www.google.com/search\" method=\"get\">\\n                            <input name=\"q\" type=\"text\" class=\"form-control\" placeholder=\"Pesquisar...\" />\\n                            <input type=\"hidden\" name=\"sitesearch\" value=\"http://www.gilenofilho.com.br\">\\n                        </form>\\n\\t\\t \\t\\t\\t</p>\\n    \\t\\t \\t\\t<div class=\"spacing\"></div>\\n\\n    \\t\\t \\t\\t<h4>Categorias</h4>\\n    \\t\\t \\t\\t<div class=\"hline\"></div>\\n                        <p><a href=\"/categorias/cursos\"><i class=\"fa fa-angle-right\"></i> cursos</a> <span class=\"badge badge-theme pull-right\">6</span></p>\\n                        <p><a href=\"/categorias/palestras\"><i class=\"fa fa-angle-right\"></i> palestras</a> <span class=\"badge badge-theme pull-right\">6</span></p>\\n                        <p><a href=\"/categorias/tutoriais\"><i class=\"fa fa-angle-right\"></i> tutoriais</a> <span class=\"badge badge-theme pull-right\">12</span></p>\\n                        <p><a href=\"/categorias/utils\"><i class=\"fa fa-angle-right\"></i> utils</a> <span class=\"badge badge-theme pull-right\">4</span></p>\\n\\n    \\t\\t \\t\\t<div class=\"spacing\"></div>\\n\\n    \\t\\t \\t\\t<h4>Artigos Recentes</h4>\\n    \\t\\t \\t\\t<div class=\"hline\"></div>\\n\\t\\t\\t\\t\\t<ul class=\"popular-posts\">\\n\\t\\t                <li>\\n\\t\\t                    <p><a href=\"/python-datasets\">Bibliotecas Python para carregar Dataset\\'s</a></p>\\n\\t\\t                    <em>Publicado em Seg 02 Janeiro 2017</em>\\n\\t\\t                </li>\\n\\t\\t                <li>\\n\\t\\t                    <p><a href=\"/como-funciona-o-orm-do-django\">Como funciona o ORM do Django</a></p>\\n\\t\\t                    <em>Publicado em Sex 15 Julho 2016</em>\\n\\t\\t                </li>\\n\\t\\t                <li>\\n\\t\\t                    <p><a href=\"/curso-gratuito-de-django-com-python-3\">Curso Gratuito de Django com Python 3</a></p>\\n\\t\\t                    <em>Publicado em Qua 23 Março 2016</em>\\n\\t\\t                </li>\\n\\t\\t                <li>\\n\\t\\t                    <p><a href=\"/programacao-felicidade-mercado-e-outras-coisas\">Programação, felicidade, mercado e outras coisas...</a></p>\\n\\t\\t                    <em>Publicado em Ter 10 Novembro 2015</em>\\n\\t\\t                </li>\\n\\t\\t            </ul>\\n\\n    \\t\\t \\t\\t<div class=\"spacing\"></div>\\n\\n    \\t\\t \\t\\t<h4>Tags</h4>\\n    \\t\\t \\t\\t<div class=\"hline\"></div>\\n\\t\\t \\t\\t\\t<p>\\n\\t\\t            \\t<a class=\"btn btn-theme\" href=\"/tags/python\" role=\"button\">python</a>\\n\\t\\t            \\t<a class=\"btn btn-theme\" href=\"/tags/evento\" role=\"button\">evento</a>\\n\\t\\t            \\t<a class=\"btn btn-theme\" href=\"/tags/engenharia-de-avaliacoes\" role=\"button\">engenharia-de-avaliações</a>\\n\\t\\t            \\t<a class=\"btn btn-theme\" href=\"/tags/database\" role=\"button\">database</a>\\n\\t\\t            \\t<a class=\"btn btn-theme\" href=\"/tags/comunidade\" role=\"button\">comunidade</a>\\n\\t\\t            \\t<a class=\"btn btn-theme\" href=\"/tags/lifestyle\" role=\"button\">lifestyle</a>\\n\\t\\t            \\t<a class=\"btn btn-theme\" href=\"/tags/inteligencia-artificial\" role=\"button\">inteligência-artificial</a>\\n\\t\\t            \\t<a class=\"btn btn-theme\" href=\"/tags/design\" role=\"button\">design</a>\\n\\t\\t            \\t<a class=\"btn btn-theme\" href=\"/tags/pythonbrasil\" role=\"button\">pythonbrasil</a>\\n\\t\\t            \\t<a class=\"btn btn-theme\" href=\"/tags/universidade\" role=\"button\">universidade</a>\\n\\t\\t            \\t<a class=\"btn btn-theme\" href=\"/tags/django\" role=\"button\">django</a>\\n\\t\\t            \\t<a class=\"btn btn-theme\" href=\"/tags/redes-complexas\" role=\"button\">redes-complexas</a>\\n\\t\\t            \\t<a class=\"btn btn-theme\" href=\"/tags/video-aula\" role=\"button\">video-aula</a>\\n\\t\\t            \\t<a class=\"btn btn-theme\" href=\"/tags/startup\" role=\"button\">startup</a>\\n\\t\\t            \\t<a class=\"btn btn-theme\" href=\"/tags/deploy\" role=\"button\">deploy</a>\\n\\t\\t            \\t<a class=\"btn btn-theme\" href=\"/tags/dados\" role=\"button\">dados</a>\\n\\t\\t \\t\\t\\t</p>\\n                </div>\\n            </div>\\n\\n            <!-- Footer -->\\n<div id=\"footerwrap\">\\n   <div class=\"container\">\\n       <div class=\"row\">\\n           <div class=\"col-md-6\">\\n               <h4>Sobre</h4>\\n               <div class=\"hline-w\"></div>\\n               <p>\\n    Website e Blog de Gileno Filho, escrevo sobre: Desenvolvimento,\\n    Python, Django, Ciência de Dados, Engenharia de Avaliações,\\n    Inteligência Artificial e Design Minimalista.\\n</p>\\n           </div>\\n           <div class=\"col-md-6\">\\n               <h4>Social</h4>\\n               <div class=\"hline-w\"></div>\\n               <p>\\n                   <a class=\"white-text\" href=\"https://github.com/gileno\" title=\"GitHub\">\\n                       <i class=\"fa fa-github\"></i>\\n                   </a>\\n                   <a class=\"white-text\" href=\"https://twitter.com/gilenofilho\" title=\"Twitter\">\\n                       <i class=\"fa fa-twitter\"></i>\\n                   </a>\\n                   <a class=\"white-text\" href=\"https://www.facebook.com/gilenofilho\" title=\"Facebook\">\\n                       <i class=\"fa fa-facebook\"></i>\\n                   </a>\\n                   <a class=\"white-text\" href=\"mailto:contato@gilenofilho.com.br\" title=\"E-mail\">\\n                       <i class=\"fa fa-envelope\"></i>\\n                   </a>\\n               </p>\\n           </div>\\n       </div>\\n   </div>\\n</div>\\n            <!-- Scripts -->\\n            <script   src=\"https://code.jquery.com/jquery-2.2.4.min.js\"   integrity=\"sha256-BbhdlvQf/xTY9gja0Dq3HiwQF8LaCRTXxZKRutelT44=\" crossorigin=\"anonymous\"></script>\\n            <script src=\"/theme/js/bootstrap.min.js\"></script>\\n        </main>\\n    </body>\\n</html>'"
      ]
     },
     "execution_count": 5,
     "metadata": {},
     "output_type": "execute_result"
    }
   ],
   "source": [
    "resposta.text"
   ]
  },
  {
   "cell_type": "code",
   "execution_count": 11,
   "metadata": {},
   "outputs": [],
   "source": [
    "resultado_ping = '\\r\\nDisparando sni.github.map.fastly.net [151.101.93.147] com 32 bytes de dados:\\r\\nResposta de 151.101.93.147: bytes=32 tempo=113ms TTL=49\\r\\nResposta de 151.101.93.147: bytes=32 tempo=111ms TTL=49\\r\\nResposta de 151.101.93.147: bytes=32 tempo=113ms TTL=49\\r\\nResposta de 151.101.93.147: bytes=32 tempo=218ms TTL=49\\r\\n\\r\\nEstat\\xa1sticas do Ping para 151.101.93.147:\\r\\n    Pacotes: Enviados = 4, Recebidos = 4, Perdidos = 0 (0% de\\r\\n             perda),\\r\\nAproximar um n\\xa3mero redondo de vezes em milissegundos:\\r\\n    M\\xa1nimo = 111ms, M\\xa0ximo = 218ms, M\\x82dia = 138ms\\r\\n'"
   ]
  },
  {
   "cell_type": "code",
   "execution_count": 13,
   "metadata": {},
   "outputs": [
    {
     "name": "stdout",
     "output_type": "stream",
     "text": [
      "\r\n",
      "Disparando sni.github.map.fastly.net [151.101.93.147] com 32 bytes de dados:\r\n",
      "Resposta de 151.101.93.147: bytes=32 tempo=113ms TTL=49\r\n",
      "Resposta de 151.101.93.147: bytes=32 tempo=111ms TTL=49\r\n",
      "Resposta de 151.101.93.147: bytes=32 tempo=113ms TTL=49\r\n",
      "Resposta de 151.101.93.147: bytes=32 tempo=218ms TTL=49\r\n",
      "\r\n",
      "Estat¡sticas do Ping para 151.101.93.147:\r\n",
      "    Pacotes: Enviados = 4, Recebidos = 4, Perdidos = 0 (0% de\r\n",
      "             perda),\r\n",
      "Aproximar um n£mero redondo de vezes em milissegundos:\r\n",
      "    M¡nimo = 111ms, M ximo = 218ms, Mdia = 138ms\r\n",
      "\n"
     ]
    }
   ],
   "source": [
    "print(resultado_ping)"
   ]
  },
  {
   "cell_type": "code",
   "execution_count": 14,
   "metadata": {},
   "outputs": [],
   "source": [
    "inicio = resultado_ping.index(\"Ping para \")"
   ]
  },
  {
   "cell_type": "code",
   "execution_count": 15,
   "metadata": {},
   "outputs": [
    {
     "data": {
      "text/plain": [
       "326"
      ]
     },
     "execution_count": 15,
     "metadata": {},
     "output_type": "execute_result"
    }
   ],
   "source": [
    "inicio"
   ]
  },
  {
   "cell_type": "code",
   "execution_count": 18,
   "metadata": {},
   "outputs": [
    {
     "data": {
      "text/plain": [
       "'Ping para 151.101.93.14'"
      ]
     },
     "execution_count": 18,
     "metadata": {},
     "output_type": "execute_result"
    }
   ],
   "source": [
    "resultado_ping[inicio:(inicio + 23)]"
   ]
  },
  {
   "cell_type": "code",
   "execution_count": null,
   "metadata": {},
   "outputs": [],
   "source": []
  }
 ],
 "metadata": {
  "kernelspec": {
   "display_name": "Python 3",
   "language": "python",
   "name": "python3"
  },
  "language_info": {
   "codemirror_mode": {
    "name": "ipython",
    "version": 3
   },
   "file_extension": ".py",
   "mimetype": "text/x-python",
   "name": "python",
   "nbconvert_exporter": "python",
   "pygments_lexer": "ipython3",
   "version": "3.6.4"
  }
 },
 "nbformat": 4,
 "nbformat_minor": 2
}
