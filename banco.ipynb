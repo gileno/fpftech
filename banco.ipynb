{
 "cells": [
  {
   "cell_type": "code",
   "execution_count": 1,
   "metadata": {},
   "outputs": [],
   "source": [
    "import random\n",
    "\n",
    "class Conta:\n",
    "    \n",
    "    def __init__(self):\n",
    "        self.saldo = 0\n",
    "        self.numero = random.randint(1, 100)"
   ]
  },
  {
   "cell_type": "code",
   "execution_count": 2,
   "metadata": {},
   "outputs": [
    {
     "name": "stdout",
     "output_type": "stream",
     "text": [
      "Saldo: 0\n",
      "Número: 95\n"
     ]
    }
   ],
   "source": [
    "c1 = Conta()\n",
    "print(\"Saldo:\", c1.saldo)\n",
    "print(\"Número:\", c1.numero)"
   ]
  },
  {
   "cell_type": "code",
   "execution_count": 3,
   "metadata": {},
   "outputs": [],
   "source": [
    "import random\n",
    "\n",
    "class Conta:\n",
    "    \n",
    "    def __init__(self, nome, saldo=0):\n",
    "        self.nome = nome\n",
    "        self.saldo = saldo\n",
    "        self.numero = random.randint(1, 100)"
   ]
  },
  {
   "cell_type": "code",
   "execution_count": 4,
   "metadata": {},
   "outputs": [
    {
     "ename": "TypeError",
     "evalue": "__init__() missing 1 required positional argument: 'nome'",
     "output_type": "error",
     "traceback": [
      "\u001b[1;31m---------------------------------------------------------------------------\u001b[0m",
      "\u001b[1;31mTypeError\u001b[0m                                 Traceback (most recent call last)",
      "\u001b[1;32m<ipython-input-4-281f6fac63a6>\u001b[0m in \u001b[0;36m<module>\u001b[1;34m()\u001b[0m\n\u001b[1;32m----> 1\u001b[1;33m \u001b[0mc1\u001b[0m \u001b[1;33m=\u001b[0m \u001b[0mConta\u001b[0m\u001b[1;33m(\u001b[0m\u001b[1;33m)\u001b[0m\u001b[1;33m\u001b[0m\u001b[0m\n\u001b[0m",
      "\u001b[1;31mTypeError\u001b[0m: __init__() missing 1 required positional argument: 'nome'"
     ]
    }
   ],
   "source": [
    "c1 = Conta()"
   ]
  },
  {
   "cell_type": "code",
   "execution_count": 5,
   "metadata": {},
   "outputs": [],
   "source": [
    "#c1 = Conta(nome=\"Fulano\")\n",
    "c1 = Conta(\"Fulano\")"
   ]
  },
  {
   "cell_type": "code",
   "execution_count": 8,
   "metadata": {},
   "outputs": [
    {
     "name": "stdout",
     "output_type": "stream",
     "text": [
      "0\n",
      "Fulano\n",
      "89\n"
     ]
    }
   ],
   "source": [
    "print(c1.saldo)\n",
    "print(c1.nome)\n",
    "print(c1.numero)"
   ]
  },
  {
   "cell_type": "code",
   "execution_count": 9,
   "metadata": {},
   "outputs": [
    {
     "name": "stdout",
     "output_type": "stream",
     "text": [
      "<__main__.Conta object at 0x02E20B70>\n"
     ]
    }
   ],
   "source": [
    "print(c1)"
   ]
  },
  {
   "cell_type": "code",
   "execution_count": 12,
   "metadata": {},
   "outputs": [],
   "source": [
    "import random\n",
    "\n",
    "class Conta:\n",
    "    \n",
    "    def __init__(self, nome, saldo=0):\n",
    "        self.nome = nome\n",
    "        self.saldo = saldo\n",
    "        self.numero = random.randint(1, 100)\n",
    "    \n",
    "    def __str__(self):\n",
    "        return \"Nome: %s\\nSaldo: %s\\nNúmero: %s\" % (self.nome, self.saldo, self.numero)"
   ]
  },
  {
   "cell_type": "code",
   "execution_count": 21,
   "metadata": {},
   "outputs": [],
   "source": [
    "c1 = Conta(\"Fulano\", 100)"
   ]
  },
  {
   "cell_type": "code",
   "execution_count": 14,
   "metadata": {},
   "outputs": [
    {
     "data": {
      "text/plain": [
       "'1'"
      ]
     },
     "execution_count": 14,
     "metadata": {},
     "output_type": "execute_result"
    }
   ],
   "source": [
    "str(1)"
   ]
  },
  {
   "cell_type": "code",
   "execution_count": 15,
   "metadata": {},
   "outputs": [
    {
     "data": {
      "text/plain": [
       "'Nome: Fulano\\nSaldo: 100\\nNúmero: 85'"
      ]
     },
     "execution_count": 15,
     "metadata": {},
     "output_type": "execute_result"
    }
   ],
   "source": [
    "str(c1)"
   ]
  },
  {
   "cell_type": "code",
   "execution_count": 16,
   "metadata": {},
   "outputs": [
    {
     "name": "stdout",
     "output_type": "stream",
     "text": [
      "Nome: Fulano\n",
      "Saldo: 100\n",
      "Número: 85\n"
     ]
    }
   ],
   "source": [
    "print(c1)"
   ]
  },
  {
   "cell_type": "code",
   "execution_count": 19,
   "metadata": {},
   "outputs": [
    {
     "data": {
      "text/plain": [
       "'Nome: Fulano\\nSaldo: 100\\nNúmero: 85'"
      ]
     },
     "execution_count": 19,
     "metadata": {},
     "output_type": "execute_result"
    }
   ],
   "source": [
    "c1.__str__()"
   ]
  },
  {
   "cell_type": "code",
   "execution_count": 22,
   "metadata": {},
   "outputs": [],
   "source": [
    "class Conta:\n",
    "    \n",
    "    def __init__(self, nome, saldo=0):\n",
    "        self.nome = nome\n",
    "        self.saldo = saldo\n",
    "        self.numero = random.randint(1, 100)\n",
    "    \n",
    "    def __str__(self):\n",
    "        return \"Nome: %s\\nSaldo: %s\\nNúmero: %s\" % (self.nome, self.saldo, self.numero)\n",
    "    \n",
    "    def saque(self, valor):\n",
    "        self.saldo = self.saldo - valor\n",
    "    \n",
    "    def deposito(self, valor):\n",
    "        self.saldo = self.saldo + valor\n",
    "    \n",
    "    def transferir(self, outra_conta, valor):\n",
    "        self.saque(valor)\n",
    "        outra_conta.deposito(valor)"
   ]
  },
  {
   "cell_type": "code",
   "execution_count": 27,
   "metadata": {},
   "outputs": [],
   "source": [
    "c1 = Conta(\"C1\", 200)\n",
    "c2 = Conta(\"C2\", 300)"
   ]
  },
  {
   "cell_type": "code",
   "execution_count": 28,
   "metadata": {},
   "outputs": [
    {
     "name": "stdout",
     "output_type": "stream",
     "text": [
      "Nome: C1\n",
      "Saldo: 200\n",
      "Número: 91\n",
      "Nome: C2\n",
      "Saldo: 300\n",
      "Número: 15\n"
     ]
    }
   ],
   "source": [
    "print(c1)\n",
    "print(c2)"
   ]
  },
  {
   "cell_type": "code",
   "execution_count": 29,
   "metadata": {},
   "outputs": [
    {
     "name": "stdout",
     "output_type": "stream",
     "text": [
      "100\n"
     ]
    }
   ],
   "source": [
    "c1.saque(100)\n",
    "print(c1.saldo)"
   ]
  },
  {
   "cell_type": "code",
   "execution_count": 31,
   "metadata": {},
   "outputs": [
    {
     "name": "stdout",
     "output_type": "stream",
     "text": [
      "500\n"
     ]
    }
   ],
   "source": [
    "c2.deposito(200)\n",
    "print(c2.saldo)"
   ]
  },
  {
   "cell_type": "code",
   "execution_count": 32,
   "metadata": {},
   "outputs": [],
   "source": [
    "c2.transferir(c1, 300)"
   ]
  },
  {
   "cell_type": "code",
   "execution_count": 33,
   "metadata": {},
   "outputs": [
    {
     "name": "stdout",
     "output_type": "stream",
     "text": [
      "Nome: C1\n",
      "Saldo: 400\n",
      "Número: 91\n"
     ]
    }
   ],
   "source": [
    "print(c1)"
   ]
  },
  {
   "cell_type": "code",
   "execution_count": 34,
   "metadata": {},
   "outputs": [
    {
     "name": "stdout",
     "output_type": "stream",
     "text": [
      "Nome: C2\n",
      "Saldo: 200\n",
      "Número: 15\n"
     ]
    }
   ],
   "source": [
    "print(c2)"
   ]
  },
  {
   "cell_type": "code",
   "execution_count": 35,
   "metadata": {},
   "outputs": [
    {
     "name": "stdout",
     "output_type": "stream",
     "text": [
      "Nome: C2\n",
      "Saldo: -800\n",
      "Número: 15\n"
     ]
    }
   ],
   "source": [
    "c2.saque(1000)\n",
    "print(c2)"
   ]
  },
  {
   "cell_type": "code",
   "execution_count": 36,
   "metadata": {},
   "outputs": [],
   "source": [
    "class Conta:\n",
    "    \n",
    "    def __init__(self, nome, saldo=0):\n",
    "        self.nome = nome\n",
    "        self.saldo = saldo\n",
    "        self.numero = random.randint(1, 100)\n",
    "    \n",
    "    def __str__(self):\n",
    "        return \"Nome: %s\\nSaldo: %s\\nNúmero: %s\" % (self.nome, self.saldo, self.numero)\n",
    "    \n",
    "    def saque(self, valor):\n",
    "        if self.saldo < valor:\n",
    "            print(\"Saldo insuficiente!\")\n",
    "        else:\n",
    "            self.saldo = self.saldo - valor\n",
    "    \n",
    "    def deposito(self, valor):\n",
    "        self.saldo = self.saldo + valor\n",
    "    \n",
    "    def transferir(self, outra_conta, valor):\n",
    "        self.saque(valor)\n",
    "        outra_conta.deposito(valor)"
   ]
  },
  {
   "cell_type": "code",
   "execution_count": 37,
   "metadata": {},
   "outputs": [],
   "source": [
    "c1 = Conta(\"C1\", 200)\n",
    "c2 = Conta(\"C2\", 300)"
   ]
  },
  {
   "cell_type": "code",
   "execution_count": 38,
   "metadata": {},
   "outputs": [
    {
     "name": "stdout",
     "output_type": "stream",
     "text": [
      "Saldo insuficiente!\n"
     ]
    }
   ],
   "source": [
    "c1.saque(300)"
   ]
  },
  {
   "cell_type": "code",
   "execution_count": 40,
   "metadata": {},
   "outputs": [
    {
     "data": {
      "text/plain": [
       "200"
      ]
     },
     "execution_count": 40,
     "metadata": {},
     "output_type": "execute_result"
    }
   ],
   "source": [
    "c1.saldo"
   ]
  },
  {
   "cell_type": "code",
   "execution_count": 41,
   "metadata": {},
   "outputs": [
    {
     "name": "stdout",
     "output_type": "stream",
     "text": [
      "Saldo insuficiente!\n"
     ]
    }
   ],
   "source": [
    "c1.transferir(c2, 300)"
   ]
  },
  {
   "cell_type": "code",
   "execution_count": 42,
   "metadata": {},
   "outputs": [
    {
     "name": "stdout",
     "output_type": "stream",
     "text": [
      "Nome: C2\n",
      "Saldo: 600\n",
      "Número: 81\n"
     ]
    }
   ],
   "source": [
    "print(c2)"
   ]
  },
  {
   "cell_type": "code",
   "execution_count": 56,
   "metadata": {},
   "outputs": [],
   "source": [
    "class Conta:\n",
    "    \n",
    "    def __init__(self, nome, saldo=0):\n",
    "        self.nome = nome\n",
    "        self.saldo = saldo\n",
    "        self.numero = random.randint(1, 100)\n",
    "    \n",
    "    def __str__(self):\n",
    "        return \"Nome: %s\\nSaldo: %s\\nNúmero: %s\" % (self.nome, self.saldo, self.numero)\n",
    "    \n",
    "    def saque(self, valor):\n",
    "        if self.saldo < valor:\n",
    "            ex = ValueError(\"Saldo Insuficiente!\")\n",
    "            raise ex\n",
    "        else:\n",
    "            self.saldo = self.saldo - valor\n",
    "    \n",
    "    def deposito(self, valor):\n",
    "        self.saldo = self.saldo + valor\n",
    "    \n",
    "    def transferir(self, outra_conta, valor):\n",
    "        self.saque(valor)\n",
    "        outra_conta.deposito(valor)"
   ]
  },
  {
   "cell_type": "code",
   "execution_count": 57,
   "metadata": {},
   "outputs": [],
   "source": [
    "c1 = Conta(\"C1\", 200)\n",
    "c2 = Conta(\"C2\", 300)"
   ]
  },
  {
   "cell_type": "code",
   "execution_count": 58,
   "metadata": {},
   "outputs": [
    {
     "ename": "ValueError",
     "evalue": "Saldo Insuficiente!",
     "output_type": "error",
     "traceback": [
      "\u001b[1;31m---------------------------------------------------------------------------\u001b[0m",
      "\u001b[1;31mValueError\u001b[0m                                Traceback (most recent call last)",
      "\u001b[1;32m<ipython-input-58-ae79b9097342>\u001b[0m in \u001b[0;36m<module>\u001b[1;34m()\u001b[0m\n\u001b[1;32m----> 1\u001b[1;33m \u001b[0mc1\u001b[0m\u001b[1;33m.\u001b[0m\u001b[0mtransferir\u001b[0m\u001b[1;33m(\u001b[0m\u001b[0mc2\u001b[0m\u001b[1;33m,\u001b[0m \u001b[1;36m400\u001b[0m\u001b[1;33m)\u001b[0m\u001b[1;33m\u001b[0m\u001b[0m\n\u001b[0m",
      "\u001b[1;32m<ipython-input-56-97ab5225e901>\u001b[0m in \u001b[0;36mtransferir\u001b[1;34m(self, outra_conta, valor)\u001b[0m\n\u001b[0;32m     20\u001b[0m \u001b[1;33m\u001b[0m\u001b[0m\n\u001b[0;32m     21\u001b[0m     \u001b[1;32mdef\u001b[0m \u001b[0mtransferir\u001b[0m\u001b[1;33m(\u001b[0m\u001b[0mself\u001b[0m\u001b[1;33m,\u001b[0m \u001b[0moutra_conta\u001b[0m\u001b[1;33m,\u001b[0m \u001b[0mvalor\u001b[0m\u001b[1;33m)\u001b[0m\u001b[1;33m:\u001b[0m\u001b[1;33m\u001b[0m\u001b[0m\n\u001b[1;32m---> 22\u001b[1;33m         \u001b[0mself\u001b[0m\u001b[1;33m.\u001b[0m\u001b[0msaque\u001b[0m\u001b[1;33m(\u001b[0m\u001b[0mvalor\u001b[0m\u001b[1;33m)\u001b[0m\u001b[1;33m\u001b[0m\u001b[0m\n\u001b[0m\u001b[0;32m     23\u001b[0m         \u001b[0moutra_conta\u001b[0m\u001b[1;33m.\u001b[0m\u001b[0mdeposito\u001b[0m\u001b[1;33m(\u001b[0m\u001b[0mvalor\u001b[0m\u001b[1;33m)\u001b[0m\u001b[1;33m\u001b[0m\u001b[0m\n",
      "\u001b[1;32m<ipython-input-56-97ab5225e901>\u001b[0m in \u001b[0;36msaque\u001b[1;34m(self, valor)\u001b[0m\n\u001b[0;32m     12\u001b[0m         \u001b[1;32mif\u001b[0m \u001b[0mself\u001b[0m\u001b[1;33m.\u001b[0m\u001b[0msaldo\u001b[0m \u001b[1;33m<\u001b[0m \u001b[0mvalor\u001b[0m\u001b[1;33m:\u001b[0m\u001b[1;33m\u001b[0m\u001b[0m\n\u001b[0;32m     13\u001b[0m             \u001b[0mex\u001b[0m \u001b[1;33m=\u001b[0m \u001b[0mValueError\u001b[0m\u001b[1;33m(\u001b[0m\u001b[1;34m\"Saldo Insuficiente!\"\u001b[0m\u001b[1;33m)\u001b[0m\u001b[1;33m\u001b[0m\u001b[0m\n\u001b[1;32m---> 14\u001b[1;33m             \u001b[1;32mraise\u001b[0m \u001b[0mex\u001b[0m\u001b[1;33m\u001b[0m\u001b[0m\n\u001b[0m\u001b[0;32m     15\u001b[0m         \u001b[1;32melse\u001b[0m\u001b[1;33m:\u001b[0m\u001b[1;33m\u001b[0m\u001b[0m\n\u001b[0;32m     16\u001b[0m             \u001b[0mself\u001b[0m\u001b[1;33m.\u001b[0m\u001b[0msaldo\u001b[0m \u001b[1;33m=\u001b[0m \u001b[0mself\u001b[0m\u001b[1;33m.\u001b[0m\u001b[0msaldo\u001b[0m \u001b[1;33m-\u001b[0m \u001b[0mvalor\u001b[0m\u001b[1;33m\u001b[0m\u001b[0m\n",
      "\u001b[1;31mValueError\u001b[0m: Saldo Insuficiente!"
     ]
    }
   ],
   "source": [
    "c1.transferir(c2, 400)"
   ]
  },
  {
   "cell_type": "code",
   "execution_count": 59,
   "metadata": {},
   "outputs": [
    {
     "name": "stdout",
     "output_type": "stream",
     "text": [
      "Nome: C2\n",
      "Saldo: 300\n",
      "Número: 94\n"
     ]
    }
   ],
   "source": [
    "print(c2)"
   ]
  },
  {
   "cell_type": "code",
   "execution_count": 60,
   "metadata": {},
   "outputs": [
    {
     "name": "stdout",
     "output_type": "stream",
     "text": [
      "Deu ruim!\n"
     ]
    }
   ],
   "source": [
    "try:\n",
    "    c1.transferir(c2, 400)\n",
    "except:\n",
    "    print(\"Deu ruim!\")"
   ]
  },
  {
   "cell_type": "code",
   "execution_count": 61,
   "metadata": {},
   "outputs": [
    {
     "name": "stdout",
     "output_type": "stream",
     "text": [
      "Deu ruim! Value Error\n"
     ]
    }
   ],
   "source": [
    "try:\n",
    "    c1.transferir(c2, 400)\n",
    "except ValueError:\n",
    "    print(\"Deu ruim! Value Error\")\n",
    "except Exception:\n",
    "    print(\"Deu ruim!\")"
   ]
  },
  {
   "cell_type": "code",
   "execution_count": 62,
   "metadata": {},
   "outputs": [
    {
     "name": "stdout",
     "output_type": "stream",
     "text": [
      "Saldo Insuficiente!\n"
     ]
    }
   ],
   "source": [
    "try:\n",
    "    c1.transferir(c2, 400)\n",
    "except ValueError as ex1:\n",
    "    print(ex1)\n",
    "except Exception as ex2:\n",
    "    print(\"Deu ruim!\")"
   ]
  },
  {
   "cell_type": "code",
   "execution_count": 65,
   "metadata": {},
   "outputs": [],
   "source": [
    "class SaldoInsuficienteExpcetion(Exception):\n",
    "    conta = None\n",
    "\n",
    "class Conta:\n",
    "    \n",
    "    def __init__(self, nome, saldo=0):\n",
    "        self.nome = nome\n",
    "        self.saldo = saldo\n",
    "        self.numero = random.randint(1, 100)\n",
    "    \n",
    "    def __str__(self):\n",
    "        return \"Nome: %s\\nSaldo: %s\\nNúmero: %s\" % (self.nome, self.saldo, self.numero)\n",
    "    \n",
    "    def saque(self, valor):\n",
    "        if self.saldo < valor:\n",
    "            ex = SaldoInsuficienteExpcetion(\"Saldo Insuficiente!\")\n",
    "            ex.conta = self\n",
    "            raise ex\n",
    "        else:\n",
    "            self.saldo = self.saldo - valor\n",
    "    \n",
    "    def deposito(self, valor):\n",
    "        self.saldo = self.saldo + valor\n",
    "    \n",
    "    def transferir(self, outra_conta, valor):\n",
    "        self.saque(valor)\n",
    "        outra_conta.deposito(valor)"
   ]
  },
  {
   "cell_type": "code",
   "execution_count": 66,
   "metadata": {},
   "outputs": [],
   "source": [
    "c1 = Conta(\"C1\", 200)\n",
    "c2 = Conta(\"C2\", 300)"
   ]
  },
  {
   "cell_type": "code",
   "execution_count": 67,
   "metadata": {},
   "outputs": [
    {
     "name": "stdout",
     "output_type": "stream",
     "text": [
      "Nome: C1\n",
      "Saldo: 200\n",
      "Número: 26\n"
     ]
    }
   ],
   "source": [
    "try:\n",
    "    c1.transferir(c2, 400)\n",
    "except SaldoInsuficienteExpcetion as ex1:\n",
    "    print(ex1.conta)\n",
    "except Exception as ex2:\n",
    "    print(\"Deu ruim!\")"
   ]
  },
  {
   "cell_type": "code",
   "execution_count": 69,
   "metadata": {},
   "outputs": [],
   "source": [
    "class ContaEspecial(Conta):\n",
    "    \n",
    "    def saque(self, valor):\n",
    "        if (self.saldo + 200) < valor:\n",
    "            ex = SaldoInsuficienteExpcetion(\"Saldo Insuficiente!\")\n",
    "            ex.conta = self\n",
    "            raise ex\n",
    "        else:\n",
    "            self.saldo = self.saldo - valor"
   ]
  },
  {
   "cell_type": "code",
   "execution_count": 70,
   "metadata": {},
   "outputs": [],
   "source": [
    "c1 = ContaEspecial(\"C1\", 200)\n",
    "c2 = Conta(\"C2\", 300)"
   ]
  },
  {
   "cell_type": "code",
   "execution_count": 71,
   "metadata": {},
   "outputs": [
    {
     "name": "stdout",
     "output_type": "stream",
     "text": [
      "Nome: C1\n",
      "Saldo: 200\n",
      "Número: 89\n"
     ]
    }
   ],
   "source": [
    "print(c1)"
   ]
  },
  {
   "cell_type": "code",
   "execution_count": 72,
   "metadata": {},
   "outputs": [],
   "source": [
    "c1.transferir(c2, 300)"
   ]
  },
  {
   "cell_type": "code",
   "execution_count": 73,
   "metadata": {},
   "outputs": [
    {
     "name": "stdout",
     "output_type": "stream",
     "text": [
      "Nome: C1\n",
      "Saldo: -100\n",
      "Número: 89\n"
     ]
    }
   ],
   "source": [
    "print(c1)"
   ]
  },
  {
   "cell_type": "code",
   "execution_count": 74,
   "metadata": {},
   "outputs": [],
   "source": [
    "class ContaEspecial(Conta):\n",
    "    \n",
    "    def __init__(self, nome, saldo=0, cheque_especial=200):\n",
    "        self.cheque_especial = cheque_especial\n",
    "        super(ContaEspecial, self).__init__(nome, saldo)\n",
    "        #Conta.__init__(self, nome, saldo)\n",
    "    \n",
    "    def saque(self, valor):\n",
    "        if (self.saldo + self.cheque_especial) < valor:\n",
    "            ex = SaldoInsuficienteExpcetion(\"Saldo Insuficiente!\")\n",
    "            ex.conta = self\n",
    "            raise ex\n",
    "        else:\n",
    "            self.saldo = self.saldo - valor"
   ]
  },
  {
   "cell_type": "code",
   "execution_count": 75,
   "metadata": {},
   "outputs": [],
   "source": [
    "c1 = ContaEspecial(\"C1\", 200)\n",
    "c2 = Conta(\"C2\", 300)"
   ]
  },
  {
   "cell_type": "code",
   "execution_count": 76,
   "metadata": {},
   "outputs": [],
   "source": [
    "c1 = ContaEspecial(\"C1\", 200, 400)\n",
    "c2 = Conta(\"C2\", 300)"
   ]
  },
  {
   "cell_type": "code",
   "execution_count": 77,
   "metadata": {},
   "outputs": [],
   "source": [
    "c1.transferir(c2, 500)"
   ]
  },
  {
   "cell_type": "code",
   "execution_count": 78,
   "metadata": {},
   "outputs": [
    {
     "name": "stdout",
     "output_type": "stream",
     "text": [
      "Nome: C1\n",
      "Saldo: -300\n",
      "Número: 25\n"
     ]
    }
   ],
   "source": [
    "print(c1)"
   ]
  },
  {
   "cell_type": "code",
   "execution_count": null,
   "metadata": {},
   "outputs": [],
   "source": []
  }
 ],
 "metadata": {
  "kernelspec": {
   "display_name": "Python 3",
   "language": "python",
   "name": "python3"
  },
  "language_info": {
   "codemirror_mode": {
    "name": "ipython",
    "version": 3
   },
   "file_extension": ".py",
   "mimetype": "text/x-python",
   "name": "python",
   "nbconvert_exporter": "python",
   "pygments_lexer": "ipython3",
   "version": "3.6.4"
  }
 },
 "nbformat": 4,
 "nbformat_minor": 2
}
