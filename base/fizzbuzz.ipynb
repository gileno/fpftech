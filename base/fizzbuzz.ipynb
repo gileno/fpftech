{
 "cells": [
  {
   "cell_type": "code",
   "execution_count": 1,
   "metadata": {
    "collapsed": false
   },
   "outputs": [
    {
     "name": "stdout",
     "output_type": "stream",
     "text": [
      "Digite num: 10\n"
     ]
    }
   ],
   "source": [
    "num = input(\"Digite num: \")\n",
    "num = int(num)"
   ]
  },
  {
   "cell_type": "code",
   "execution_count": 2,
   "metadata": {
    "collapsed": false
   },
   "outputs": [
    {
     "name": "stdout",
     "output_type": "stream",
     "text": [
      "Valor: 10\n",
      "Buzz\n",
      "Valor: 5\n",
      "Buzz\n",
      "Valor: 3\n",
      "Fizz\n",
      "Valor: 6\n",
      "Fizz\n",
      "Valor: 15\n",
      "FizzBuzz\n",
      "Valor: 20\n",
      "Buzz\n",
      "Valor: 12\n",
      "Fizz\n",
      "Valor: 54\n",
      "Fizz\n",
      "Valor: 65\n",
      "Buzz\n",
      "Valor: 23\n"
     ]
    }
   ],
   "source": [
    "for i in range(num):\n",
    "    valor = input(\"Valor: \")\n",
    "    valor = int(valor)\n",
    "    if valor % 3 == 0 and valor % 5 == 0:\n",
    "        print(\"FizzBuzz\")\n",
    "    elif valor % 3 == 0:\n",
    "        print(\"Fizz\")\n",
    "    elif valor % 5 == 0:\n",
    "        print(\"Buzz\")"
   ]
  },
  {
   "cell_type": "code",
   "execution_count": null,
   "metadata": {
    "collapsed": true
   },
   "outputs": [],
   "source": []
  }
 ],
 "metadata": {
  "kernelspec": {
   "display_name": "Python 3",
   "language": "python",
   "name": "python3"
  },
  "language_info": {
   "codemirror_mode": {
    "name": "ipython",
    "version": 3
   },
   "file_extension": ".py",
   "mimetype": "text/x-python",
   "name": "python",
   "nbconvert_exporter": "python",
   "pygments_lexer": "ipython3",
   "version": "3.4.3"
  }
 },
 "nbformat": 4,
 "nbformat_minor": 0
}
