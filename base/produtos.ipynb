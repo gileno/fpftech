{
 "cells": [
  {
   "cell_type": "markdown",
   "metadata": {},
   "source": [
    "## Exercício\n",
    "\n",
    "Escrever um programa que pergunte ao usuário quantos registros ele quer cadastrar e em seguida solicitar para cadastro um ID, Nome e Preço. No final armazenar num arquivo de texto no seguinte formato:\n",
    "\n",
    "id,nome,preço\n",
    "id,nome,preço\n",
    "id,nome,preço\n",
    "...\n",
    "\n",
    "Dica: utilize o modo \"a\" para escrever sempre no final do arquivo"
   ]
  },
  {
   "cell_type": "code",
   "execution_count": null,
   "metadata": {
    "collapsed": false
   },
   "outputs": [],
   "source": [
    "numero = int(input(\"Número de registros: \"))\n",
    "with open(\"produtos.txt\", \"a\") as arquivo:\n",
    "    for i in range(numero):\n",
    "        num_id = input(\"ID: \")\n",
    "        nome = input(\"Nome: \")\n",
    "        preco = float(input(\"Preço: \"))\n",
    "        #linha = \"%s,%s,%0.2f\\n\" % (num_id, nome, preco)\n",
    "        linha = \"{},{},{}\\n\".format(num_id, nome, preco)\n",
    "        arquivo.write(linha)\n"
   ]
  },
  {
   "cell_type": "code",
   "execution_count": null,
   "metadata": {
    "collapsed": true
   },
   "outputs": [],
   "source": []
  }
 ],
 "metadata": {
  "kernelspec": {
   "display_name": "Python 3",
   "language": "python",
   "name": "python3"
  },
  "language_info": {
   "codemirror_mode": {
    "name": "ipython",
    "version": 3
   },
   "file_extension": ".py",
   "mimetype": "text/x-python",
   "name": "python",
   "nbconvert_exporter": "python",
   "pygments_lexer": "ipython3",
   "version": "3.5.1"
  }
 },
 "nbformat": 4,
 "nbformat_minor": 0
}
