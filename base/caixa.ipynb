{
 "cells": [
  {
   "cell_type": "code",
   "execution_count": null,
   "metadata": {
    "collapsed": true
   },
   "outputs": [],
   "source": [
    "cedulas_100 = 5\n",
    "cedulas_50 = 5\n",
    "cedulas_20 = 5\n",
    "cedulas_10 = 5"
   ]
  },
  {
   "cell_type": "code",
   "execution_count": 3,
   "metadata": {
    "collapsed": false
   },
   "outputs": [
    {
     "name": "stdout",
     "output_type": "stream",
     "text": [
      "Digite o valor: 740\n",
      "7 notas de 100\n",
      "2 notas de 20\n"
     ]
    }
   ],
   "source": [
    "valor = int(input(\"Digite o valor: \"))\n",
    "notas_100 = valor // 100\n",
    "restante = valor % 100\n",
    "notas_50 = restante // 50\n",
    "restante = restante % 50\n",
    "notas_20 = restante // 20\n",
    "restante = restante % 20\n",
    "notas_10 = restante // 10\n",
    "if notas_100 > 0:\n",
    "    print(\"%s notas de 100\" % notas_100)\n",
    "if notas_50 > 0:\n",
    "    print(\"%s notas de 50\" % notas_50)\n",
    "if notas_20 > 0:\n",
    "    print(\"%s notas de 20\" % notas_20)\n",
    "if notas_10 > 0:\n",
    "    print(\"%s notas de 10\" % notas_10)"
   ]
  },
  {
   "cell_type": "code",
   "execution_count": null,
   "metadata": {
    "collapsed": true
   },
   "outputs": [],
   "source": []
  }
 ],
 "metadata": {
  "kernelspec": {
   "display_name": "Python 3",
   "language": "python",
   "name": "python3"
  },
  "language_info": {
   "codemirror_mode": {
    "name": "ipython",
    "version": 3
   },
   "file_extension": ".py",
   "mimetype": "text/x-python",
   "name": "python",
   "nbconvert_exporter": "python",
   "pygments_lexer": "ipython3",
   "version": "3.5.1"
  }
 },
 "nbformat": 4,
 "nbformat_minor": 0
}
