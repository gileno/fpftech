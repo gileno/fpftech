{
 "cells": [
  {
   "cell_type": "code",
   "execution_count": 1,
   "metadata": {
    "collapsed": true
   },
   "outputs": [],
   "source": [
    "import math"
   ]
  },
  {
   "cell_type": "code",
   "execution_count": 3,
   "metadata": {
    "collapsed": false
   },
   "outputs": [
    {
     "data": {
      "text/plain": [
       "3.141592653589793"
      ]
     },
     "execution_count": 3,
     "metadata": {},
     "output_type": "execute_result"
    }
   ],
   "source": [
    "math.pi"
   ]
  },
  {
   "cell_type": "code",
   "execution_count": 4,
   "metadata": {
    "collapsed": false
   },
   "outputs": [
    {
     "data": {
      "text/plain": [
       "2.718281828459045"
      ]
     },
     "execution_count": 4,
     "metadata": {},
     "output_type": "execute_result"
    }
   ],
   "source": [
    "math.e"
   ]
  },
  {
   "cell_type": "code",
   "execution_count": 5,
   "metadata": {
    "collapsed": false
   },
   "outputs": [
    {
     "data": {
      "text/plain": [
       "1024.0"
      ]
     },
     "execution_count": 5,
     "metadata": {},
     "output_type": "execute_result"
    }
   ],
   "source": [
    "math.pow(2, 10)"
   ]
  },
  {
   "cell_type": "code",
   "execution_count": 6,
   "metadata": {
    "collapsed": true
   },
   "outputs": [],
   "source": [
    "from math import pi"
   ]
  },
  {
   "cell_type": "code",
   "execution_count": 7,
   "metadata": {
    "collapsed": false
   },
   "outputs": [
    {
     "data": {
      "text/plain": [
       "3.141592653589793"
      ]
     },
     "execution_count": 7,
     "metadata": {},
     "output_type": "execute_result"
    }
   ],
   "source": [
    "pi"
   ]
  },
  {
   "cell_type": "code",
   "execution_count": 8,
   "metadata": {
    "collapsed": true
   },
   "outputs": [],
   "source": [
    "from tests import doc"
   ]
  },
  {
   "cell_type": "code",
   "execution_count": 9,
   "metadata": {
    "collapsed": false
   },
   "outputs": [
    {
     "data": {
      "text/plain": [
       "3628800"
      ]
     },
     "execution_count": 9,
     "metadata": {},
     "output_type": "execute_result"
    }
   ],
   "source": [
    "doc.fatorial(10)"
   ]
  },
  {
   "cell_type": "code",
   "execution_count": 10,
   "metadata": {
    "collapsed": true
   },
   "outputs": [],
   "source": [
    "from tests.doc import fatorial"
   ]
  },
  {
   "cell_type": "code",
   "execution_count": 11,
   "metadata": {
    "collapsed": false
   },
   "outputs": [
    {
     "data": {
      "text/plain": [
       "3628800"
      ]
     },
     "execution_count": 11,
     "metadata": {},
     "output_type": "execute_result"
    }
   ],
   "source": [
    "fatorial(10)"
   ]
  },
  {
   "cell_type": "code",
   "execution_count": 13,
   "metadata": {
    "collapsed": true
   },
   "outputs": [],
   "source": [
    "import urllib.request"
   ]
  },
  {
   "cell_type": "code",
   "execution_count": 14,
   "metadata": {
    "collapsed": false
   },
   "outputs": [
    {
     "data": {
      "text/plain": [
       "<http.client.HTTPResponse at 0x7fa718241eb8>"
      ]
     },
     "execution_count": 14,
     "metadata": {},
     "output_type": "execute_result"
    }
   ],
   "source": [
    "urllib.request.urlopen(\"http://gilenofilho.com.br\")"
   ]
  },
  {
   "cell_type": "code",
   "execution_count": 15,
   "metadata": {
    "collapsed": false
   },
   "outputs": [
    {
     "name": "stdout",
     "output_type": "stream",
     "text": [
      "<http.client.HTTPResponse object at 0x7fa7182545c0>\n"
     ]
    }
   ],
   "source": [
    "response = urllib.request.urlopen(\"http://gilenofilho.com.br\")\n",
    "print(response)"
   ]
  },
  {
   "cell_type": "code",
   "execution_count": 16,
   "metadata": {
    "collapsed": false
   },
   "outputs": [
    {
     "data": {
      "text/plain": [
       "b'<!DOCTYPE html>\\n<html xmlns=\"http://www.w3.org/1999/xhtml\"\\n    xmlns:og=\"http://ogp.me/ns#\"\\n    xmlns:fb=\"https://www.facebook.com/2008/fbml\"\\n    itemscope itemtype=\"http://schema.org/Blog\"\\n    lang=\"pt\">\\n    <head>\\n        <meta http-equiv=\"Content-Type\" content=\"text/html; charset=UTF-8\"/>\\n        <meta name=\"viewport\" content=\"width=device-width, initial-scale=1, maximum-scale=1.0\"/>\\n        <meta http-equiv=\"content-language\" content=\"pt-br\">\\n        <meta name=\"robots\" content=\"index, follow\">\\n        <meta name=\"description\" content=\"Website Gileno Filho\"/>\\n        <meta name=\"keywords\" content=\"programa\\xc3\\xa7\\xc3\\xa3o, python, recife, desenvolvimento, data science\"/>\\n        <meta name=\"author\" content=\"Gileno Filho\">\\n        <meta name=\"generator\" content=\"Pelican\">\\n        <title>Gileno Filho</title>\\n\\n        <!-- Feeds -->\\n            <link href=\"http://www.gilenofilho.com.br/feeds.atom\" type=\"application/atom+xml\" rel=\"alternate\" title=\"Gileno Filho ATOM Feed\"/>\\n            <link href=\"http://www.gilenofilho.com.br/feeds.rss\" type=\"application/rss+xml\" rel=\"alternate\" title=\"Gileno Filho RSS Feed\"/>\\n\\n        <!-- CSS  -->\\n        <link rel=\"stylesheet\" href=\"/theme/css/font-awesome.min.css\">\\n        <link href=\"/theme/css/bootstrap.css\" type=\"text/css\" rel=\"stylesheet\" />\\n        <link href=\"/theme/css/style.css\" type=\"text/css\" rel=\"stylesheet\" />\\n        <link href=\"/theme/css/pygments.css\" type=\"text/css\" rel=\"stylesheet\" media=\"screen,projection\"/>\\n        <!-- HTML5 shim and Respond.js IE8 support of HTML5 elements and media queries -->\\n        <!--[if lt IE 9]>\\n          <script src=\"https://oss.maxcdn.com/libs/html5shiv/3.7.0/html5shiv.js\"></script>\\n          <script src=\"https://oss.maxcdn.com/libs/respond.js/1.4.2/respond.min.js\"></script>\\n        <![endif]-->\\n        <!-- Metadata -->\\n        <meta property=\"og:type\" content=\"website\"/>\\n\\n        <!-- Google Analytics -->\\n        <script>\\n          (function(i,s,o,g,r,a,m){i[\\'GoogleAnalyticsObject\\']=r;i[r]=i[r]||function(){\\n          (i[r].q=i[r].q||[]).push(arguments)},i[r].l=1*new Date();a=s.createElement(o),\\n          m=s.getElementsByTagName(o)[0];a.async=1;a.src=g;m.parentNode.insertBefore(a,m)\\n          })(window,document,\\'script\\',\\'//www.google-analytics.com/analytics.js\\',\\'ga\\');\\n          ga(\\'create\\', \\'UA-15015773-2\\', \\'auto\\');\\n          ga(\\'send\\', \\'pageview\\');\\n        </script>\\n\\n    </head>\\n\\n    <body>\\n        <header>\\n<!-- Fixed navbar -->\\n<div class=\"navbar navbar-default navbar-fixed-top\" role=\"navigation\">\\n  <div class=\"container\">\\n    <div class=\"navbar-header\">\\n      <button type=\"button\" class=\"navbar-toggle\" data-toggle=\"collapse\" data-target=\".navbar-collapse\">\\n        <span class=\"sr-only\">Toggle navigation</span>\\n        <span class=\"icon-bar\"></span>\\n        <span class=\"icon-bar\"></span>\\n        <span class=\"icon-bar\"></span>\\n      </button>\\n      <a class=\"navbar-brand\" href=\"/\">Gileno Filho</a>\\n    </div>\\n    <div class=\"navbar-collapse collapse navbar-right\">\\n      <ul class=\"nav navbar-nav\">\\n        <li><a href=\"/\">In\\xc3\\xadcio</a></li>\\n          <li ><a href=\"/sobre\">Sobre</a></li>\\n          <li ><a href=\"/categorias/cursos/\">Cursos</a></li>\\n          <li ><a href=\"/categorias/palestras/\">Palestas</a></li>\\n          <li ><a href=\"/categorias/tutoriais/\">Tutoriais</a></li>\\n          <li ><a href=\"/categorias/utils/\">Utils</a></li>\\n      </ul>\\n    </div><!--/.nav-collapse -->\\n  </div>\\n</div>            <div id=\"blue\">\\n                <div class=\"container\">\\n                    <div class=\"row\">\\n                        <h3>\\n    programador, cientista, pythonista e minimalista. Recife, Brasil\\n</h3>\\n                    </div><!-- /row -->\\n                </div> <!-- /container -->\\n            </div><!-- /blue -->\\n        </header>\\n        <main>\\n            <!-- Content -->\\n            <div class=\"container mtb\">\\n                <div class=\"col-md-8\">\\n<ol class=\"breadcrumb\">\\n    <li>\\n    <a title=\"Gileno Filho Home\" href=\"/\"><i class=\"fa fa-home pr-10\"></i> In\\xc3\\xadcio</a>\\n    </li>\\n</ol><article>\\n    <a href=\"/como-funciona-o-orm-do-django\"><h3 class=\"ctitle\">Como funciona o ORM do Django</h3></a>\\n    <p>\\n        Publicado em:  <time datetime=\"2016-07-15T22:00:00-03:00\">Sex 15 Julho 2016</time>.\\n        |\\n        Por: <a href=\"/autores/gileno-filho\">Gileno Filho</a>\\n        |\\n        Arquivado em: <a href=\"/categorias/tutoriais\">tutoriais</a>\\n    </p>\\n    <p>\\n        <p>Uma das coisas mais interessantes do framework <a href=\"https://djangoproject.com/\">Django</a> \\xc3\\xa9 sem d\\xc3\\xbavidas o seu <a href=\"https://pt.wikipedia.org/wiki/Mapeamento_objeto-relacional\">ORM</a>. E o que o torna interessante \\xc3\\xa9 a sua simplicidade e objetividade quando se utiliza os <a href=\"https://docs.djangoproject.com/en/1.9/ref/models/lookups/\">Lookups</a> para realizar consultas simples e at\\xc3\\xa9 as complexas que envolvem join\\'s.</p>\\n<p>Neste artigo irei explorar algumas coisas b\\xc3\\xa1sicas ...</p>\\n    </p>\\n    <p><a href=\"/como-funciona-o-orm-do-django\">[Leia mais]</a></p>\\n    <div class=\"hline\"></div>\\n    <div class=\"spacing\"></div>\\n</article>\\n<article>\\n    <a href=\"/curso-gratuito-de-django-com-python-3\"><h3 class=\"ctitle\">Curso Gratuito de Django com Python 3</h3></a>\\n    <p>\\n        Publicado em:  <time datetime=\"2016-03-23T13:40:00-03:00\">Qua 23 Mar\\xc3\\xa7o 2016</time>.\\n        |\\n        Por: <a href=\"/autores/gileno-filho\">Gileno Filho</a>\\n        |\\n        Arquivado em: <a href=\"/categorias/cursos\">cursos</a>\\n    </p>\\n    <p>\\n        <p>Ol\\xc3\\xa1 pessoal, a algum tempo eu fechei as inscri\\xc3\\xa7\\xc3\\xb5es do meu curso de Django com Python 3 que comecei em 2014. Neste curso foi desenvolvido um projeto chamado SimpleMOOC, uma simples plataforma para ensino a dist\\xc3\\xa2ncia que tinha fins did\\xc3\\xa1ticos.</p>\\n<p>Recentemente eu resolvi disponibilizar as v\\xc3\\xaddeo-aulas desse curso pois irei ...</p>\\n    </p>\\n    <p><a href=\"/curso-gratuito-de-django-com-python-3\">[Leia mais]</a></p>\\n    <div class=\"hline\"></div>\\n    <div class=\"spacing\"></div>\\n</article>\\n<article>\\n    <a href=\"/programacao-felicidade-mercado-e-outras-coisas\"><h3 class=\"ctitle\">Programa\\xc3\\xa7\\xc3\\xa3o, felicidade, mercado e outras coisas...</h3></a>\\n    <p>\\n        Publicado em:  <time datetime=\"2015-11-10T17:00:00-03:00\">Ter 10 Novembro 2015</time>.\\n        |\\n        Por: <a href=\"/autores/gileno-filho\">Gileno Filho</a>\\n        |\\n        Arquivado em: <a href=\"/categorias/utils\">utils</a>\\n    </p>\\n    <p>\\n        <p>Obs: No final do texto tem alguns links e palestras interessantes mas vou contextualizar minha hist\\xc3\\xb3ria antes.</p>\\n<p>Nos \\xc3\\xbaltimos 2 anos eu tenho estudado bastante coisas relacionadas a Lifestyle Business, e isso come\\xc3\\xa7ou quando eu percebi que o buraco negro corporativo e nem o conto de fadas das startups eram ...</p>\\n    </p>\\n    <p><a href=\"/programacao-felicidade-mercado-e-outras-coisas\">[Leia mais]</a></p>\\n    <div class=\"hline\"></div>\\n    <div class=\"spacing\"></div>\\n</article>\\n<article>\\n    <a href=\"/usando-o-scrapy-e-o-rethinkdb-para-capturar-e-armazenar-dados-imobiliarios-parte-iii\"><h3 class=\"ctitle\">Usando o Scrapy e o Rethinkdb para capturar e armazenar dados imobili\\xc3\\xa1rios - Parte III</h3></a>\\n    <p>\\n        Publicado em:  <time datetime=\"2015-09-08T13:33:00-03:00\">Ter 08 Setembro 2015</time>.\\n        |\\n        Por: <a href=\"/autores/gileno-filho\">Gileno Filho</a>\\n        |\\n        Arquivado em: <a href=\"/categorias/tutoriais\">tutoriais</a>\\n    </p>\\n    <p>\\n        <h3>Introdu\\xc3\\xa7\\xc3\\xa3o</h3>\\n<p>Ol\\xc3\\xa1 pessoal, esta \\xc3\\xa9 a parte III da s\\xc3\\xa9rie sobre o Scrapy, abaixo os links para todos os artigos da s\\xc3\\xa9rie:</p>\\n<ul>\\n<li><a href=\"http://gilenofilho.com.br/usando-o-scrapy-e-o-rethinkdb-para-capturar-e-armazenar-dados-imobiliarios-parte-i/\">Parte I - Configurando e rodando o Scrapy</a></li>\\n<li><a href=\"http://gilenofilho.com.br/usando-o-scrapy-e-o-rethinkdb-para-capturar-e-armazenar-dados-imobiliarios-parte-ii/\">Parte II - Instalando, configurando e armazenando os dados no Rethinkdb</a></li>\\n<li><a href=\"http://gilenofilho.com.br/usando-o-scrapy-e-o-rethinkdb-para-capturar-e-armazenar-dados-imobiliarios-parte-iii/\">Parte III - Deploy do projeto Scrapy</a></li>\\n</ul>\\n<p>Nos artigos anteriores mostrei como ...</p>\\n    </p>\\n    <p><a href=\"/usando-o-scrapy-e-o-rethinkdb-para-capturar-e-armazenar-dados-imobiliarios-parte-iii\">[Leia mais]</a></p>\\n    <div class=\"hline\"></div>\\n    <div class=\"spacing\"></div>\\n</article>\\n<article>\\n    <a href=\"/meus-10-centavos-sobre-design-usabilidade\"><h3 class=\"ctitle\">Meus 10 centavos sobre Design / Usabilidade</h3></a>\\n    <p>\\n        Publicado em:  <time datetime=\"2015-08-18T15:58:00-03:00\">Ter 18 Agosto 2015</time>.\\n        |\\n        Por: <a href=\"/autores/gileno-filho\">Gileno Filho</a>\\n        |\\n        Arquivado em: <a href=\"/categorias/utils\">utils</a>\\n    </p>\\n    <p>\\n        <p>Esse texto \\xc3\\xa9 uma esp\\xc3\\xa9cie de resposta/indica\\xc3\\xa7\\xc3\\xa3o do texto abaixo:</p>\\n<p>https://medium.com/hackerpreneur-magazine/4-invisible-user-experiences-you-d13cc9c3c7ab</p>\\n<p>Eu sempre fui (e sou) f\\xc3\\xa3 declarado de design minimalista, perdi a conta de quantas noites fiquei pesquisando sobre o tema, vendo projetos - principalmente web - e admirando os incr\\xc3\\xadveis detalhes que passam de maneira ...</p>\\n    </p>\\n    <p><a href=\"/meus-10-centavos-sobre-design-usabilidade\">[Leia mais]</a></p>\\n    <div class=\"hline\"></div>\\n    <div class=\"spacing\"></div>\\n</article>\\n<nav>\\n    <ul class=\"pagination\">\\n        <li class=\"disabled\">\\n            <a href=\"\" aria-label=\"Previous\"><span aria-hidden=\"true\">&laquo;</span></a>\\n        </li>\\n                <li class=\"active\"><a href=\"\">1</a></li>\\n                <li><a href=\"/page/2/\">2</a></li>\\n                <li><a href=\"/page/3/\">3</a></li>\\n                <li><a href=\"/page/4/\">4</a></li>\\n                <li><a href=\"/page/5/\">5</a></li>\\n                <li><a href=\"/page/6/\">6</a></li>\\n        <li>\\n          <a href=\"/page/2/\" aria-label=\"Next\">\\n            <span aria-hidden=\"true\">&raquo;</span>\\n          </a>\\n        </li>\\n    </ul>\\n</nav>\\n                </div>\\n                <div class=\"col-md-4\">\\n                    <h4><a href=\"https://www.udemy.com/construa-um-e-commerce-com-python-3-e-django/?couponCode=websitegilenofilho\">Construa um E-Commerce com Python e Django</a></h4>\\n                    <a href=\"https://www.udemy.com/construa-um-e-commerce-com-python-3-e-django/?couponCode=websitegilenofilho\">\\n                        <img src=\"/images/django-udemy.jpg\" alt=\"Construa um E-Commerce com Python e Django\" class=\"img-responsive\" />\\n                    </a>\\n    \\t\\t \\t\\t<h4>Pesquisar</h4>\\n    \\t\\t \\t\\t<div class=\"hline\"></div>\\n\\t\\t \\t\\t\\t<p>\\n\\t\\t \\t\\t\\t\\t<br>\\n                        <form class=\"\" action=\"https://www.google.com/search\" method=\"get\">\\n                            <input name=\"q\" type=\"text\" class=\"form-control\" placeholder=\"Pesquisar...\" />\\n                            <input type=\"hidden\" name=\"sitesearch\" value=\"http://www.gilenofilho.com.br\">\\n                        </form>\\n\\t\\t \\t\\t\\t</p>\\n    \\t\\t \\t\\t<div class=\"spacing\"></div>\\n\\n    \\t\\t \\t\\t<h4>Categorias</h4>\\n    \\t\\t \\t\\t<div class=\"hline\"></div>\\n                        <p><a href=\"/categorias/cursos\"><i class=\"fa fa-angle-right\"></i> cursos</a> <span class=\"badge badge-theme pull-right\">6</span></p>\\n                        <p><a href=\"/categorias/palestras\"><i class=\"fa fa-angle-right\"></i> palestras</a> <span class=\"badge badge-theme pull-right\">6</span></p>\\n                        <p><a href=\"/categorias/tutoriais\"><i class=\"fa fa-angle-right\"></i> tutoriais</a> <span class=\"badge badge-theme pull-right\">11</span></p>\\n                        <p><a href=\"/categorias/utils\"><i class=\"fa fa-angle-right\"></i> utils</a> <span class=\"badge badge-theme pull-right\">4</span></p>\\n\\n    \\t\\t \\t\\t<div class=\"spacing\"></div>\\n\\n    \\t\\t \\t\\t<h4>Artigos Recentes</h4>\\n    \\t\\t \\t\\t<div class=\"hline\"></div>\\n\\t\\t\\t\\t\\t<ul class=\"popular-posts\">\\n\\t\\t                <li>\\n\\t\\t                    <p><a href=\"/como-funciona-o-orm-do-django\">Como funciona o ORM do Django</a></p>\\n\\t\\t                    <em>Publicado em Sex 15 Julho 2016</em>\\n\\t\\t                </li>\\n\\t\\t                <li>\\n\\t\\t                    <p><a href=\"/curso-gratuito-de-django-com-python-3\">Curso Gratuito de Django com Python 3</a></p>\\n\\t\\t                    <em>Publicado em Qua 23 Mar\\xc3\\xa7o 2016</em>\\n\\t\\t                </li>\\n\\t\\t                <li>\\n\\t\\t                    <p><a href=\"/programacao-felicidade-mercado-e-outras-coisas\">Programa\\xc3\\xa7\\xc3\\xa3o, felicidade, mercado e outras coisas...</a></p>\\n\\t\\t                    <em>Publicado em Ter 10 Novembro 2015</em>\\n\\t\\t                </li>\\n\\t\\t                <li>\\n\\t\\t                    <p><a href=\"/usando-o-scrapy-e-o-rethinkdb-para-capturar-e-armazenar-dados-imobiliarios-parte-iii\">Usando o Scrapy e o Rethinkdb para capturar e armazenar dados imobili\\xc3\\xa1rios - Parte III</a></p>\\n\\t\\t                    <em>Publicado em Ter 08 Setembro 2015</em>\\n\\t\\t                </li>\\n\\t\\t            </ul>\\n\\n    \\t\\t \\t\\t<div class=\"spacing\"></div>\\n\\n    \\t\\t \\t\\t<h4>Tags</h4>\\n    \\t\\t \\t\\t<div class=\"hline\"></div>\\n\\t\\t \\t\\t\\t<p>\\n\\t\\t            \\t<a class=\"btn btn-theme\" href=\"/tags/evento\" role=\"button\">evento</a>\\n\\t\\t            \\t<a class=\"btn btn-theme\" href=\"/tags/lifestyle\" role=\"button\">lifestyle</a>\\n\\t\\t            \\t<a class=\"btn btn-theme\" href=\"/tags/comunidade\" role=\"button\">comunidade</a>\\n\\t\\t            \\t<a class=\"btn btn-theme\" href=\"/tags/database\" role=\"button\">database</a>\\n\\t\\t            \\t<a class=\"btn btn-theme\" href=\"/tags/python\" role=\"button\">python</a>\\n\\t\\t            \\t<a class=\"btn btn-theme\" href=\"/tags/pythonbrasil\" role=\"button\">pythonbrasil</a>\\n\\t\\t            \\t<a class=\"btn btn-theme\" href=\"/tags/video-aula\" role=\"button\">video-aula</a>\\n\\t\\t            \\t<a class=\"btn btn-theme\" href=\"/tags/startup\" role=\"button\">startup</a>\\n\\t\\t            \\t<a class=\"btn btn-theme\" href=\"/tags/django\" role=\"button\">django</a>\\n\\t\\t            \\t<a class=\"btn btn-theme\" href=\"/tags/design\" role=\"button\">design</a>\\n\\t\\t            \\t<a class=\"btn btn-theme\" href=\"/tags/deploy\" role=\"button\">deploy</a>\\n\\t\\t            \\t<a class=\"btn btn-theme\" href=\"/tags/redes-complexas\" role=\"button\">redes-complexas</a>\\n\\t\\t            \\t<a class=\"btn btn-theme\" href=\"/tags/dados\" role=\"button\">dados</a>\\n\\t\\t            \\t<a class=\"btn btn-theme\" href=\"/tags/inteligencia-artificial\" role=\"button\">intelig\\xc3\\xaancia-artificial</a>\\n\\t\\t            \\t<a class=\"btn btn-theme\" href=\"/tags/universidade\" role=\"button\">universidade</a>\\n\\t\\t            \\t<a class=\"btn btn-theme\" href=\"/tags/engenharia-de-avaliacoes\" role=\"button\">engenharia-de-avalia\\xc3\\xa7\\xc3\\xb5es</a>\\n\\t\\t \\t\\t\\t</p>\\n                </div>\\n            </div>\\n\\n            <!-- Footer -->\\n<div id=\"footerwrap\">\\n   <div class=\"container\">\\n       <div class=\"row\">\\n           <div class=\"col-md-6\">\\n               <h4>Sobre</h4>\\n               <div class=\"hline-w\"></div>\\n               <p>\\n    Website e Blog de Gileno Filho, escrevo sobre: Desenvolvimento,\\n    Python, Django, Ci\\xc3\\xaancia de Dados, Engenharia de Avalia\\xc3\\xa7\\xc3\\xb5es,\\n    Intelig\\xc3\\xaancia Artificial e Design Minimalista.\\n</p>\\n           </div>\\n           <div class=\"col-md-6\">\\n               <h4>Social</h4>\\n               <div class=\"hline-w\"></div>\\n               <p>\\n                   <a class=\"white-text\" href=\"https://github.com/gileno\" title=\"GitHub\">\\n                       <i class=\"fa fa-github\"></i>\\n                   </a>\\n                   <a class=\"white-text\" href=\"https://twitter.com/gilenofilho\" title=\"Twitter\">\\n                       <i class=\"fa fa-twitter\"></i>\\n                   </a>\\n                   <a class=\"white-text\" href=\"https://www.facebook.com/gilenofilho\" title=\"Facebook\">\\n                       <i class=\"fa fa-facebook\"></i>\\n                   </a>\\n                   <a class=\"white-text\" href=\"mailto:contato@gilenofilho.com.br\" title=\"E-mail\">\\n                       <i class=\"fa fa-envelope\"></i>\\n                   </a>\\n               </p>\\n           </div>\\n       </div>\\n   </div>\\n</div>\\n            <!-- Scripts -->\\n            <script   src=\"https://code.jquery.com/jquery-2.2.4.min.js\"   integrity=\"sha256-BbhdlvQf/xTY9gja0Dq3HiwQF8LaCRTXxZKRutelT44=\" crossorigin=\"anonymous\"></script>\\n            <script src=\"/theme/js/bootstrap.min.js\"></script>\\n        </main>\\n    </body>\\n</html>'"
      ]
     },
     "execution_count": 16,
     "metadata": {},
     "output_type": "execute_result"
    }
   ],
   "source": [
    "response.read()"
   ]
  },
  {
   "cell_type": "code",
   "execution_count": 1,
   "metadata": {
    "collapsed": true
   },
   "outputs": [],
   "source": [
    "import requests"
   ]
  },
  {
   "cell_type": "code",
   "execution_count": 2,
   "metadata": {
    "collapsed": true
   },
   "outputs": [],
   "source": [
    "response = requests.get(\"http://google.com\")"
   ]
  },
  {
   "cell_type": "code",
   "execution_count": 3,
   "metadata": {
    "collapsed": false
   },
   "outputs": [
    {
     "data": {
      "text/plain": [
       "b'<!doctype html><html itemscope=\"\" itemtype=\"http://schema.org/WebPage\" lang=\"pt\"><head><meta content=\"text/html; charset=UTF-8\" http-equiv=\"Content-Type\"><meta content=\"/images/branding/googleg/1x/googleg_standard_color_128dp.png\" itemprop=\"image\"><title>Google</title><script>(function(){window.google={kEI:\\'2DONV9SECcax-QGQ97K4Ag\\',kEXPI:\\'3700262,3700389,4029815,4031109,4032678,4036509,4036527,4038012,4039268,4043492,4045841,4048347,4052304,4057739,4058720,4061155,4062333,4062706,4062972,4063132,4063220,4063879,4064096,4065787,4065793,4066237,4066654,4067175,4067518,4067860,4067940,4068548,4068550,4068577,4068850,4068864,4069458,4069720,4069839,4069841,4069907,4069931,4070110,4070183,4070230,4070286,4070337,4070420,4070503,4070532,4070598,4070721,4071228,4071261,4071422,4071824,8300096,8300273,8500572,8502184,8503585,8505158,8505655,8505743,8505768,8505774,8505796,8505803,8505842,8505870,10200084,10201796\\',authuser:0,kscs:\\'c9c918f0_24\\'};google.kHL=\\'pt\\';})();(function(){google.lc=[];google.li=0;google.getEI=function(a){for(var b;a&&(!a.getAttribute||!(b=a.getAttribute(\"eid\")));)a=a.parentNode;return b||google.kEI};google.getLEI=function(a){for(var b=null;a&&(!a.getAttribute||!(b=a.getAttribute(\"leid\")));)a=a.parentNode;return b};google.https=function(){return\"https:\"==window.location.protocol};google.ml=function(){return null};google.wl=function(a,b){try{google.ml(Error(a),!1,b)}catch(c){}};google.time=function(){return(new Date).getTime()};google.log=function(a,b,c,e,g){a=google.logUrl(a,b,c,e,g);if(\"\"!=a){b=new Image;var d=google.lc,f=google.li;d[f]=b;b.onerror=b.onload=b.onabort=function(){delete d[f]};window.google&&window.google.vel&&window.google.vel.lu&&window.google.vel.lu(a);b.src=a;google.li=f+1}};google.logUrl=function(a,b,c,e,g){var d=\"\",f=google.ls||\"\";if(!c&&-1==b.search(\"&ei=\")){var h=google.getEI(e),d=\"&ei=\"+h;-1==b.search(\"&lei=\")&&((e=google.getLEI(e))?d+=\"&lei=\"+e:h!=google.kEI&&(d+=\"&lei=\"+google.kEI))}a=c||\"/\"+(g||\"gen_204\")+\"?atyp=i&ct=\"+a+\"&cad=\"+b+d+f+\"&zx=\"+google.time();/^http:/i.test(a)&&google.https()&&(google.ml(Error(\"a\"),!1,{src:a,glmm:1}),a=\"\");return a};google.y={};google.x=function(a,b){google.y[a.id]=[a,b];return!1};google.load=function(a,b,c){google.x({id:a+k++},function(){google.load(a,b,c)})};var k=0;})();var _gjwl=location;function _gjuc(){var a=_gjwl.href.indexOf(\"#\");if(0<=a&&(a=_gjwl.href.substring(a),0<a.indexOf(\"&q=\")||0<=a.indexOf(\"#q=\"))&&(a=a.substring(1),-1==a.indexOf(\"#\"))){for(var d=0;d<a.length;){var b=d;\"&\"==a.charAt(b)&&++b;var c=a.indexOf(\"&\",b);-1==c&&(c=a.length);b=a.substring(b,c);if(0==b.indexOf(\"fp=\"))a=a.substring(0,d)+a.substring(c,a.length),c=d;else if(\"cad=h\"==b)return 0;d=c}_gjwl.href=\"/search?\"+a+\"&cad=h\";return 1}return 0}\\nfunction _gjh(){!_gjuc()&&window.google&&google.x&&google.x({id:\"GJH\"},function(){google.nav&&google.nav.gjh&&google.nav.gjh()})};window._gjh&&_gjh();</script><style>#gbar,#guser{font-size:13px;padding-top:1px !important;}#gbar{height:22px}#guser{padding-bottom:7px !important;text-align:right}.gbh,.gbd{border-top:1px solid #c9d7f1;font-size:1px}.gbh{height:0;position:absolute;top:24px;width:100%}@media all{.gb1{height:22px;margin-right:.5em;vertical-align:top}#gbar{float:left}}a.gb1,a.gb4{text-decoration:underline !important}a.gb1,a.gb4{color:#00c !important}.gbi .gb4{color:#dd8e27 !important}.gbf .gb4{color:#900 !important}\\n</style><style>body,td,a,p,.h{font-family:arial,sans-serif}body{margin:0;overflow-y:scroll}#gog{padding:3px 8px 0}td{line-height:.8em}.gac_m td{line-height:17px}form{margin-bottom:20px}.h{color:#36c}.q{color:#00c}.ts td{padding:0}.ts{border-collapse:collapse}em{font-weight:bold;font-style:normal}.lst{height:25px;width:496px}.gsfi,.lst{font:18px arial,sans-serif}.gsfs{font:17px arial,sans-serif}.ds{display:inline-box;display:inline-block;margin:3px 0 4px;margin-left:4px}input{font-family:inherit}a.gb1,a.gb2,a.gb3,a.gb4{color:#11c !important}body{background:#fff;color:black}a{color:#11c;text-decoration:none}a:hover,a:active{text-decoration:underline}.fl a{color:#36c}a:visited{color:#551a8b}a.gb1,a.gb4{text-decoration:underline}a.gb3:hover{text-decoration:none}#ghead a.gb2:hover{color:#fff !important}.sblc{padding-top:5px}.sblc a{display:block;margin:2px 0;margin-left:13px;font-size:11px}.lsbb{background:#eee;border:solid 1px;border-color:#ccc #999 #999 #ccc;height:30px}.lsbb{display:block}.ftl,#fll a{display:inline-block;margin:0 12px}.lsb{background:url(/images/nav_logo229.png) 0 -261px repeat-x;border:none;color:#000;cursor:pointer;height:30px;margin:0;outline:0;font:15px arial,sans-serif;vertical-align:top}.lsb:active{background:#ccc}.lst:focus{outline:none}.tiah{width:458px}</style><script></script><link href=\"/images/branding/product/ico/googleg_lodp.ico\" rel=\"shortcut icon\"></head><body bgcolor=\"#fff\"><script>(function(){var src=\\'/images/nav_logo229.png\\';var iesg=false;document.body.onload = function(){window.n && window.n();if (document.images){new Image().src=src;}\\nif (!iesg){document.f&&document.f.q.focus();document.gbqf&&document.gbqf.q.focus();}\\n}\\n})();</script><div id=\"mngb\">    <div id=gbar><nobr><b class=gb1>Pesquisa</b> <a class=gb1 href=\"http://www.google.com.br/imghp?hl=pt-BR&tab=wi\">Imagens</a> <a class=gb1 href=\"http://maps.google.com.br/maps?hl=pt-BR&tab=wl\">Maps</a> <a class=gb1 href=\"https://play.google.com/?hl=pt-BR&tab=w8\">Play</a> <a class=gb1 href=\"http://www.youtube.com/?gl=BR&tab=w1\">YouTube</a> <a class=gb1 href=\"http://news.google.com.br/nwshp?hl=pt-BR&tab=wn\">Not\\xedcias</a> <a class=gb1 href=\"https://mail.google.com/mail/?tab=wm\">Gmail</a> <a class=gb1 href=\"https://drive.google.com/?tab=wo\">Drive</a> <a class=gb1 style=\"text-decoration:none\" href=\"https://www.google.com.br/intl/pt-BR/options/\"><u>Mais</u> &raquo;</a></nobr></div><div id=guser width=100%><nobr><span id=gbn class=gbi></span><span id=gbf class=gbf></span><span id=gbe></span><a href=\"http://www.google.com.br/history/optout?hl=pt-BR\" class=gb4>Hist\\xf3rico da Web</a> | <a  href=\"/preferences?hl=pt-BR\" class=gb4>Configura\\xe7\\xf5es</a> | <a target=_top id=gb_70 href=\"https://accounts.google.com/ServiceLogin?hl=pt-BR&passive=true&continue=http://www.google.com.br/%3Fgfe_rd%3Dcr%26ei%3D1zONV_vNNu-p8we_07vwBQ\" class=gb4>Fazer login</a></nobr></div><div class=gbh style=left:0></div><div class=gbh style=right:0></div>    </div><center><br clear=\"all\" id=\"lgpd\"><div id=\"lga\"><div style=\"padding:28px 0 3px\"><div style=\"height:110px;width:276px;background:url(/images/branding/googlelogo/1x/googlelogo_white_background_color_272x92dp.png) no-repeat\" title=\"Google\" align=\"left\" id=\"hplogo\" onload=\"window.lol&&lol()\"><div style=\"color:#777;font-size:16px;font-weight:bold;position:relative;top:70px;left:218px\" nowrap=\"\">Brasil</div></div></div><br></div><form action=\"/search\" name=\"f\"><table cellpadding=\"0\" cellspacing=\"0\"><tr valign=\"top\"><td width=\"25%\">&nbsp;</td><td align=\"center\" nowrap=\"\"><input name=\"ie\" value=\"ISO-8859-1\" type=\"hidden\"><input value=\"pt\" name=\"hl\" type=\"hidden\"><input name=\"source\" type=\"hidden\" value=\"hp\"><input name=\"biw\" type=\"hidden\"><input name=\"bih\" type=\"hidden\"><div class=\"ds\" style=\"height:32px;margin:4px 0\"><div style=\"position:relative;zoom:1\"><input style=\"color:#000;margin:0;padding:5px 8px 0 6px;vertical-align:top;padding-right:38px\" autocomplete=\"off\" class=\"lst tiah\" value=\"\" title=\"Pesquisa Google\" maxlength=\"2048\" name=\"q\" size=\"57\"><img src=\"/textinputassistant/tia.png\" style=\"position:absolute;cursor:pointer;right:5px;top:4px;z-index:300\" onclick=\"(function(){var src=\\'/textinputassistant/11/pt-BR_tia.js\\';var s=document.createElement(\\'script\\');s.src=src;google.dom.append(s);})();\" alt=\"\" height=\"23\" width=\"27\"></div></div><br style=\"line-height:0\"><span class=\"ds\"><span class=\"lsbb\"><input class=\"lsb\" value=\"Pesquisa Google\" name=\"btnG\" type=\"submit\"></span></span><span class=\"ds\"><span class=\"lsbb\"><input class=\"lsb\" value=\"Estou com sorte\" name=\"btnI\" onclick=\"if(this.form.q.value)this.checked=1; else top.location=\\'/doodles/\\'\" type=\"submit\"></span></span></td><td class=\"fl sblc\" align=\"left\" nowrap=\"\" width=\"25%\"><a href=\"/advanced_search?hl=pt&amp;authuser=0\">Pesquisa avan\\xe7ada</a><a href=\"/language_tools?hl=pt&amp;authuser=0\">Ferramentas de idioma</a></td></tr></table><input id=\"gbv\" name=\"gbv\" type=\"hidden\" value=\"1\"></form><div id=\"gac_scont\"></div><div style=\"font-size:83%;min-height:3.5em\"><br></div><span id=\"footer\"><div style=\"font-size:10pt\"><div style=\"margin:19px auto;text-align:center\" id=\"fll\"><a href=\"/intl/pt-BR/ads/\">Solu\\xe7\\xf5es de publicidade</a><a href=\"/services/\">Solu\\xe7\\xf5es empresariais</a><a href=\"https://plus.google.com/107558061013247958406\" rel=\"publisher\">+Google</a><a href=\"/intl/pt-BR/about.html\">Sobre o Google</a><a href=\"http://www.google.com.br/setprefdomain?prefdom=US&amp;sig=__Ha6FUrCi9T2rMrss_VJBISiqj2E%3D\" id=\"fehl\">Google.com</a></div></div><p style=\"color:#767676;font-size:8pt\">&copy; 2016 - <a href=\"/intl/pt-BR/policies/privacy/\">Privacidade</a> - <a href=\"/intl/pt-BR/policies/terms/\">Termos</a></p></span></center><script>(function(){window.google.cdo={height:0,width:0};(function(){var a=window.innerWidth,b=window.innerHeight;if(!a||!b)var c=window.document,d=\"CSS1Compat\"==c.compatMode?c.documentElement:c.body,a=d.clientWidth,b=d.clientHeight;a&&b&&(a!=google.cdo.width||b!=google.cdo.height)&&google.log(\"\",\"\",\"/client_204?&atyp=i&biw=\"+a+\"&bih=\"+b+\"&ei=\"+google.kEI);})();})();</script><div id=\"xjsd\"></div><div id=\"xjsi\"><script>(function(){function c(b){window.setTimeout(function(){var a=document.createElement(\"script\");a.src=b;document.getElementById(\"xjsd\").appendChild(a)},0)}google.dljp=function(b,a){google.xjsu=b;c(a)};google.dlj=c;})();(function(){window.google.xjsrm=[];})();if(google.y)google.y.first=[];if(!google.xjs){window._=window._||{};window._._DumpException=function(e){throw e};if(google.timers&&google.timers.load.t){google.timers.load.t.xjsls=new Date().getTime();}google.dljp(\\'/xjs/_/js/k\\\\x3dxjs.hp.en_US.-blW54m0C9M.O/m\\\\x3dsb_he,d/rt\\\\x3dj/d\\\\x3d1/t\\\\x3dzcms/rs\\\\x3dACT90oE7GjA6zehqZlWjQn7xRE4IkuTpzA\\',\\'/xjs/_/js/k\\\\x3dxjs.hp.en_US.-blW54m0C9M.O/m\\\\x3dsb_he,d/rt\\\\x3dj/d\\\\x3d1/t\\\\x3dzcms/rs\\\\x3dACT90oE7GjA6zehqZlWjQn7xRE4IkuTpzA\\');google.xjs=1;}google.pmc={\"sb_he\":{\"agen\":true,\"cgen\":true,\"client\":\"heirloom-hp\",\"dh\":true,\"dhqt\":true,\"ds\":\"\",\"fl\":true,\"host\":\"google.com.br\",\"isbh\":28,\"jam\":0,\"jsonp\":true,\"msgs\":{\"cibl\":\"Limpar pesquisa\",\"dym\":\"Voc\\xea quis dizer:\",\"lcky\":\"Estou com sorte\",\"lml\":\"Saiba mais\",\"oskt\":\"Ferramentas de inser\\xe7\\xe3o de texto\",\"psrc\":\"Esta pesquisa foi removida do seu\\\\u003Ca href=\\\\\"/history\\\\\"\\\\u003EHist\\xf3rico da web\\\\u003C/a\\\\u003E\",\"psrl\":\"Remover\",\"sbit\":\"Pesquisa por imagem\",\"srch\":\"Pesquisa Google\"},\"nds\":true,\"ovr\":{},\"pq\":\"\",\"refpd\":true,\"rfs\":[],\"scd\":10,\"sce\":5,\"stok\":\"aWLjANLT5flLuvwRCYGERzYHgcU\"},\"d\":{}};google.y.first.push(function(){if(google.med){google.med(\\'init\\');google.initHistory();google.med(\\'history\\');}});if(google.j&&google.j.en&&google.j.xi){window.setTimeout(google.j.xi,0);}\\n</script></div></body></html>'"
      ]
     },
     "execution_count": 3,
     "metadata": {},
     "output_type": "execute_result"
    }
   ],
   "source": [
    "response.content"
   ]
  },
  {
   "cell_type": "code",
   "execution_count": 1,
   "metadata": {
    "collapsed": true
   },
   "outputs": [],
   "source": [
    "import os"
   ]
  },
  {
   "cell_type": "code",
   "execution_count": 2,
   "metadata": {
    "collapsed": true
   },
   "outputs": [],
   "source": [
    "names = os.listdir(\"/home/CIN/cursociti/Documents/curso-citi\")"
   ]
  },
  {
   "cell_type": "code",
   "execution_count": 3,
   "metadata": {
    "collapsed": false
   },
   "outputs": [
    {
     "name": "stdout",
     "output_type": "stream",
     "text": [
      "['README.md', '.gitignore', '.git', 'env', 'notebooks', 'LICENSE']\n"
     ]
    }
   ],
   "source": [
    "print(names)"
   ]
  },
  {
   "cell_type": "code",
   "execution_count": 6,
   "metadata": {
    "collapsed": false
   },
   "outputs": [
    {
     "name": "stdout",
     "output_type": "stream",
     "text": [
      "file\n",
      "file\n",
      "dir\n",
      "dir\n",
      "dir\n",
      "file\n"
     ]
    }
   ],
   "source": [
    "base_dir = \"/home/CIN/cursociti/Documents/curso-citi\"\n",
    "for name in names:\n",
    "    path = os.path.join(base_dir, name)\n",
    "    if os.path.isdir(path):\n",
    "        print(\"dir\")\n",
    "    else:\n",
    "        print(\"file\")"
   ]
  },
  {
   "cell_type": "code",
   "execution_count": null,
   "metadata": {
    "collapsed": true
   },
   "outputs": [],
   "source": []
  }
 ],
 "metadata": {
  "kernelspec": {
   "display_name": "Python 3",
   "language": "python",
   "name": "python3"
  },
  "language_info": {
   "codemirror_mode": {
    "name": "ipython",
    "version": 3
   },
   "file_extension": ".py",
   "mimetype": "text/x-python",
   "name": "python",
   "nbconvert_exporter": "python",
   "pygments_lexer": "ipython3",
   "version": "3.5.1"
  }
 },
 "nbformat": 4,
 "nbformat_minor": 0
}
