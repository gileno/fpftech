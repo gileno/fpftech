{
 "cells": [
  {
   "cell_type": "markdown",
   "metadata": {},
   "source": [
    "## Exercício Banco\n",
    "\n",
    "- aumentar o saldo\n",
    "- imprimir o saldo\n",
    "- sacar valor\n",
    "- dados do usuário\n",
    "    - nome\n",
    "    - cpf\n",
    "    - numero conta\n",
    "- lançar exceção quando solicitar saque maior que o saldo"
   ]
  },
  {
   "cell_type": "code",
   "execution_count": 7,
   "metadata": {
    "collapsed": true
   },
   "outputs": [],
   "source": [
    "class Conta(object):\n",
    "    \n",
    "    def __init__(self, nome, cpf, numero, saldo=0):\n",
    "        self.nome = nome\n",
    "        self.cpf = cpf\n",
    "        self.numero = numero\n",
    "        self.saldo = saldo\n",
    "    \n",
    "    def deposito(self, valor):\n",
    "        self.saldo = self.saldo + valor\n",
    "    \n",
    "    def saque(self, valor):\n",
    "        self.saldo = self.saldo - valor\n",
    "    \n",
    "    def imprimir(self):\n",
    "        print('Saldo: %s' % self.saldo)"
   ]
  },
  {
   "cell_type": "code",
   "execution_count": 8,
   "metadata": {
    "collapsed": true
   },
   "outputs": [],
   "source": [
    "c1 = Conta(\"fulano\", \"001\", \"000-1\", 200)\n",
    "c2 = Conta(\"sicrano\", \"002\", \"000-2\")"
   ]
  },
  {
   "cell_type": "code",
   "execution_count": 9,
   "metadata": {
    "collapsed": false
   },
   "outputs": [
    {
     "name": "stdout",
     "output_type": "stream",
     "text": [
      "Saldo: 200\n"
     ]
    }
   ],
   "source": [
    "c1.imprimir()"
   ]
  },
  {
   "cell_type": "code",
   "execution_count": 10,
   "metadata": {
    "collapsed": false
   },
   "outputs": [],
   "source": [
    "c1.saque(100)"
   ]
  },
  {
   "cell_type": "code",
   "execution_count": 11,
   "metadata": {
    "collapsed": false
   },
   "outputs": [
    {
     "name": "stdout",
     "output_type": "stream",
     "text": [
      "Saldo: 100\n"
     ]
    }
   ],
   "source": [
    "c1.imprimir()"
   ]
  },
  {
   "cell_type": "code",
   "execution_count": 12,
   "metadata": {
    "collapsed": true
   },
   "outputs": [],
   "source": [
    "c1.saque(200)"
   ]
  },
  {
   "cell_type": "code",
   "execution_count": 13,
   "metadata": {
    "collapsed": false
   },
   "outputs": [
    {
     "name": "stdout",
     "output_type": "stream",
     "text": [
      "Saldo: -100\n"
     ]
    }
   ],
   "source": [
    "c1.imprimir()"
   ]
  },
  {
   "cell_type": "code",
   "execution_count": 14,
   "metadata": {
    "collapsed": true
   },
   "outputs": [],
   "source": [
    "c1.deposito(300)"
   ]
  },
  {
   "cell_type": "code",
   "execution_count": 15,
   "metadata": {
    "collapsed": false
   },
   "outputs": [
    {
     "name": "stdout",
     "output_type": "stream",
     "text": [
      "Saldo: 200\n"
     ]
    }
   ],
   "source": [
    "c1.imprimir()"
   ]
  },
  {
   "cell_type": "code",
   "execution_count": 31,
   "metadata": {
    "collapsed": true
   },
   "outputs": [],
   "source": [
    "class Conta(object):\n",
    "    \n",
    "    def __init__(self, nome, cpf, numero, saldo=0):\n",
    "        self.nome = nome\n",
    "        self.cpf = cpf\n",
    "        self.numero = numero\n",
    "        self.saldo = saldo\n",
    "    \n",
    "    def __add__(self, other):\n",
    "        self.saldo = self.saldo + other\n",
    "    \n",
    "    def __sub__(self, other):\n",
    "        self.saldo = self.saldo - other\n",
    "    \n",
    "    def __str__(self):\n",
    "        return 'Saldo: %s' % self.saldo\n",
    "\n",
    "    def imprimir(self):\n",
    "        print(str(self))"
   ]
  },
  {
   "cell_type": "code",
   "execution_count": 32,
   "metadata": {
    "collapsed": true
   },
   "outputs": [],
   "source": [
    "c1 = Conta(\"fulano\", \"001\", \"000-1\", 200)"
   ]
  },
  {
   "cell_type": "code",
   "execution_count": 33,
   "metadata": {
    "collapsed": false
   },
   "outputs": [
    {
     "name": "stdout",
     "output_type": "stream",
     "text": [
      "Saldo: 200\n"
     ]
    }
   ],
   "source": [
    "c1.imprimir()"
   ]
  },
  {
   "cell_type": "code",
   "execution_count": 34,
   "metadata": {
    "collapsed": false
   },
   "outputs": [],
   "source": [
    "c1 + 200"
   ]
  },
  {
   "cell_type": "code",
   "execution_count": 35,
   "metadata": {
    "collapsed": true
   },
   "outputs": [],
   "source": [
    "c1 + 200"
   ]
  },
  {
   "cell_type": "code",
   "execution_count": 36,
   "metadata": {
    "collapsed": false
   },
   "outputs": [
    {
     "name": "stdout",
     "output_type": "stream",
     "text": [
      "Saldo: 600\n"
     ]
    }
   ],
   "source": [
    "c1.imprimir()"
   ]
  },
  {
   "cell_type": "code",
   "execution_count": 37,
   "metadata": {
    "collapsed": true
   },
   "outputs": [],
   "source": [
    "c1 - 200"
   ]
  },
  {
   "cell_type": "code",
   "execution_count": 38,
   "metadata": {
    "collapsed": false
   },
   "outputs": [
    {
     "name": "stdout",
     "output_type": "stream",
     "text": [
      "Saldo: 400\n"
     ]
    }
   ],
   "source": [
    "c1.imprimir()"
   ]
  },
  {
   "cell_type": "code",
   "execution_count": 39,
   "metadata": {
    "collapsed": true
   },
   "outputs": [],
   "source": [
    "class Conta(object):\n",
    "    \n",
    "    def __init__(self, nome, cpf, numero, saldo=0):\n",
    "        self.nome = nome\n",
    "        self.cpf = cpf\n",
    "        self.numero = numero\n",
    "        self.saldo = saldo\n",
    "    \n",
    "    def __add__(self, other):\n",
    "        self.saldo = self.saldo + other\n",
    "    \n",
    "    def __sub__(self, other):\n",
    "        if self.saldo < other:\n",
    "            raise Exception(\"Saque não permitido\")\n",
    "        self.saldo = self.saldo - other\n",
    "    \n",
    "    def __str__(self):\n",
    "        return 'Saldo: %s' % self.saldo\n",
    "\n",
    "    def imprimir(self):\n",
    "        print(str(self))"
   ]
  },
  {
   "cell_type": "code",
   "execution_count": 40,
   "metadata": {
    "collapsed": true
   },
   "outputs": [],
   "source": [
    "c1 = Conta(\"fulano\", \"001\", \"000-1\", 200)"
   ]
  },
  {
   "cell_type": "code",
   "execution_count": 41,
   "metadata": {
    "collapsed": false
   },
   "outputs": [
    {
     "ename": "Exception",
     "evalue": "Saque não permitido",
     "output_type": "error",
     "traceback": [
      "\u001b[0;31m---------------------------------------------------------------------------\u001b[0m",
      "\u001b[0;31mException\u001b[0m                                 Traceback (most recent call last)",
      "\u001b[0;32m<ipython-input-41-f8c892e7930f>\u001b[0m in \u001b[0;36m<module>\u001b[0;34m()\u001b[0m\n\u001b[0;32m----> 1\u001b[0;31m \u001b[0mc1\u001b[0m \u001b[0;34m-\u001b[0m \u001b[0;36m300\u001b[0m\u001b[0;34m\u001b[0m\u001b[0m\n\u001b[0m",
      "\u001b[0;32m<ipython-input-39-ff631235c59f>\u001b[0m in \u001b[0;36m__sub__\u001b[0;34m(self, other)\u001b[0m\n\u001b[1;32m     12\u001b[0m     \u001b[0;32mdef\u001b[0m \u001b[0m__sub__\u001b[0m\u001b[0;34m(\u001b[0m\u001b[0mself\u001b[0m\u001b[0;34m,\u001b[0m \u001b[0mother\u001b[0m\u001b[0;34m)\u001b[0m\u001b[0;34m:\u001b[0m\u001b[0;34m\u001b[0m\u001b[0m\n\u001b[1;32m     13\u001b[0m         \u001b[0;32mif\u001b[0m \u001b[0mself\u001b[0m\u001b[0;34m.\u001b[0m\u001b[0msaldo\u001b[0m \u001b[0;34m<\u001b[0m \u001b[0mother\u001b[0m\u001b[0;34m:\u001b[0m\u001b[0;34m\u001b[0m\u001b[0m\n\u001b[0;32m---> 14\u001b[0;31m             \u001b[0;32mraise\u001b[0m \u001b[0mException\u001b[0m\u001b[0;34m(\u001b[0m\u001b[0;34m\"Saque não permitido\"\u001b[0m\u001b[0;34m)\u001b[0m\u001b[0;34m\u001b[0m\u001b[0m\n\u001b[0m\u001b[1;32m     15\u001b[0m         \u001b[0mself\u001b[0m\u001b[0;34m.\u001b[0m\u001b[0msaldo\u001b[0m \u001b[0;34m=\u001b[0m \u001b[0mself\u001b[0m\u001b[0;34m.\u001b[0m\u001b[0msaldo\u001b[0m \u001b[0;34m-\u001b[0m \u001b[0mother\u001b[0m\u001b[0;34m\u001b[0m\u001b[0m\n\u001b[1;32m     16\u001b[0m \u001b[0;34m\u001b[0m\u001b[0m\n",
      "\u001b[0;31mException\u001b[0m: Saque não permitido"
     ]
    }
   ],
   "source": [
    "c1 - 300"
   ]
  },
  {
   "cell_type": "code",
   "execution_count": 42,
   "metadata": {
    "collapsed": false
   },
   "outputs": [
    {
     "name": "stdout",
     "output_type": "stream",
     "text": [
      "Valor a ser sacado: 300\n"
     ]
    }
   ],
   "source": [
    "valor = int(input(\"Valor a ser sacado: \"))"
   ]
  },
  {
   "cell_type": "code",
   "execution_count": 43,
   "metadata": {
    "collapsed": false
   },
   "outputs": [
    {
     "name": "stdout",
     "output_type": "stream",
     "text": [
      "Saque não permitido\n"
     ]
    }
   ],
   "source": [
    "try:\n",
    "    c1 - valor\n",
    "except Exception as ex:\n",
    "    print(ex)"
   ]
  },
  {
   "cell_type": "code",
   "execution_count": 44,
   "metadata": {
    "collapsed": true
   },
   "outputs": [],
   "source": [
    "class SaqueNaoPermitido(Exception):\n",
    "    msg = \"Saque não permitido\"\n",
    "\n",
    "class Conta(object):\n",
    "    \n",
    "    def __init__(self, nome, cpf, numero, saldo=0):\n",
    "        self.nome = nome\n",
    "        self.cpf = cpf\n",
    "        self.numero = numero\n",
    "        self.saldo = saldo\n",
    "    \n",
    "    def __add__(self, other):\n",
    "        self.saldo = self.saldo + other\n",
    "    \n",
    "    def __sub__(self, other):\n",
    "        if self.saldo < other:\n",
    "            raise SaqueNaoPermitido()\n",
    "        self.saldo = self.saldo - other\n",
    "    \n",
    "    def __str__(self):\n",
    "        return 'Saldo: %s' % self.saldo\n",
    "\n",
    "    def imprimir(self):\n",
    "        print(str(self))"
   ]
  },
  {
   "cell_type": "code",
   "execution_count": 45,
   "metadata": {
    "collapsed": true
   },
   "outputs": [],
   "source": [
    "c1 = Conta(\"fulano\", \"001\", \"000-1\", 200)"
   ]
  },
  {
   "cell_type": "code",
   "execution_count": 47,
   "metadata": {
    "collapsed": true
   },
   "outputs": [],
   "source": [
    "valor = \"teste\""
   ]
  },
  {
   "cell_type": "code",
   "execution_count": 48,
   "metadata": {
    "collapsed": false
   },
   "outputs": [
    {
     "name": "stdout",
     "output_type": "stream",
     "text": [
      "unorderable types: int() < str()\n"
     ]
    }
   ],
   "source": [
    "try:\n",
    "    c1 - valor\n",
    "except SaqueNaoPermitido as ex1:\n",
    "    print(ex1.msg)\n",
    "except Exception as ex2:\n",
    "    print(ex2)"
   ]
  },
  {
   "cell_type": "code",
   "execution_count": null,
   "metadata": {
    "collapsed": true
   },
   "outputs": [],
   "source": []
  }
 ],
 "metadata": {
  "kernelspec": {
   "display_name": "Python 3",
   "language": "python",
   "name": "python3"
  },
  "language_info": {
   "codemirror_mode": {
    "name": "ipython",
    "version": 3
   },
   "file_extension": ".py",
   "mimetype": "text/x-python",
   "name": "python",
   "nbconvert_exporter": "python",
   "pygments_lexer": "ipython3",
   "version": "3.5.1"
  }
 },
 "nbformat": 4,
 "nbformat_minor": 0
}
