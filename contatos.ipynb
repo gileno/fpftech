{
 "cells": [
  {
   "cell_type": "markdown",
   "metadata": {},
   "source": [
    "## Salvar Contatos em arquivos"
   ]
  },
  {
   "cell_type": "code",
   "execution_count": 1,
   "metadata": {},
   "outputs": [],
   "source": [
    "def pegar_dados():\n",
    "    print(\"Pegando os dados...\")\n",
    "    valores = {}\n",
    "    valores['nome'] = input('Nome: ')\n",
    "    valores['email'] = input('Email: ')\n",
    "    return valores"
   ]
  },
  {
   "cell_type": "code",
   "execution_count": 2,
   "metadata": {},
   "outputs": [],
   "source": [
    "def inicio(nome_arquivo):\n",
    "    print(\"Iniciando...\")\n",
    "    arquivo = open(nome_arquivo, 'a')\n",
    "    quantidade = int(input('Quantidade: '))\n",
    "    for i in range(quantidade):\n",
    "        contato = pegar_dados()\n",
    "        arquivo.write(contato['nome'])\n",
    "        arquivo.write(',')\n",
    "        arquivo.write(contato['email'])\n",
    "        arquivo.write('\\n')\n",
    "    arquivo.close()"
   ]
  },
  {
   "cell_type": "code",
   "execution_count": null,
   "metadata": {},
   "outputs": [],
   "source": [
    "inicio('contatos.txt')"
   ]
  },
  {
   "cell_type": "code",
   "execution_count": 3,
   "metadata": {},
   "outputs": [
    {
     "name": "stdout",
     "output_type": "stream",
     "text": [
      "Iniciando...\n",
      "Quantidade: 1\n",
      "Pegando os dados...\n",
      "Nome: fulano\n",
      "Email: f@f.com\n",
      "Quer continuar? (S/N)s\n",
      "Iniciando...\n",
      "Quantidade: 1\n",
      "Pegando os dados...\n",
      "Nome: sicrano\n",
      "Email: s@s.com\n",
      "Quer continuar? (S/N)n\n"
     ]
    }
   ],
   "source": [
    "while True:\n",
    "    inicio('contatos.txt')\n",
    "    resposta = input(\"Quer continuar? (S/N)\")\n",
    "    if resposta.upper() != 'S':\n",
    "        break"
   ]
  },
  {
   "cell_type": "code",
   "execution_count": null,
   "metadata": {},
   "outputs": [],
   "source": []
  }
 ],
 "metadata": {
  "kernelspec": {
   "display_name": "Python 3",
   "language": "python",
   "name": "python3"
  },
  "language_info": {
   "codemirror_mode": {
    "name": "ipython",
    "version": 3
   },
   "file_extension": ".py",
   "mimetype": "text/x-python",
   "name": "python",
   "nbconvert_exporter": "python",
   "pygments_lexer": "ipython3",
   "version": "3.6.4"
  }
 },
 "nbformat": 4,
 "nbformat_minor": 2
}
