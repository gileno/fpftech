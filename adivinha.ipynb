{
 "cells": [
  {
   "cell_type": "code",
   "execution_count": 2,
   "metadata": {},
   "outputs": [],
   "source": [
    "import random\n",
    "from random import randint"
   ]
  },
  {
   "cell_type": "code",
   "execution_count": null,
   "metadata": {},
   "outputs": [],
   "source": [
    "random.randint(1, 10)"
   ]
  },
  {
   "cell_type": "code",
   "execution_count": null,
   "metadata": {},
   "outputs": [],
   "source": [
    "randint(1, 10)"
   ]
  },
  {
   "cell_type": "code",
   "execution_count": null,
   "metadata": {},
   "outputs": [],
   "source": [
    "numero = random.randint(1, 10)\n",
    "chute = int(input(\"Digite um chute: \"))"
   ]
  },
  {
   "cell_type": "code",
   "execution_count": null,
   "metadata": {},
   "outputs": [],
   "source": [
    "if numero == chute:\n",
    "    print(\"Você acertou!!!\")"
   ]
  },
  {
   "cell_type": "code",
   "execution_count": null,
   "metadata": {},
   "outputs": [],
   "source": [
    "numero = random.randint(1, 100)\n",
    "chute = int(input(\"Digite um chute: \"))\n",
    "if numero == chute:\n",
    "    print(\"Você acertou!!!\")\n",
    "else:\n",
    "    print(\"Você errou!!!\")\n",
    "chute = int(input(\"Digite um chute: \"))\n",
    "if numero == chute:\n",
    "    print(\"Você acertou!!!\")\n",
    "else:\n",
    "    print(\"Você errou!!!\")"
   ]
  },
  {
   "cell_type": "code",
   "execution_count": null,
   "metadata": {},
   "outputs": [],
   "source": [
    "numero = random.randint(1, 10)\n",
    "chances = 1\n",
    "while chances <= 5:\n",
    "    chute = int(input(\"Digite um chute: \"))\n",
    "    if numero == chute:\n",
    "        print(\"Você acertou!!!\")\n",
    "    else:\n",
    "        print(\"Você errou!!!\")\n",
    "    chances = chances + 1\n",
    "print(\"Fim do programa\")"
   ]
  },
  {
   "cell_type": "code",
   "execution_count": null,
   "metadata": {},
   "outputs": [],
   "source": [
    "numero = random.randint(1, 100)\n",
    "chances = 1\n",
    "while chances <= 5:\n",
    "    chute = int(input(\"Digite um chute: \"))\n",
    "    if numero == chute:\n",
    "        print(\"Você acertou!!!\")\n",
    "        break\n",
    "    else:\n",
    "        print(\"Você errou!!!\")\n",
    "    chances = chances + 1\n",
    "print(\"Fim do programa\")"
   ]
  },
  {
   "cell_type": "code",
   "execution_count": 1,
   "metadata": {},
   "outputs": [
    {
     "ename": "NameError",
     "evalue": "name 'random' is not defined",
     "output_type": "error",
     "traceback": [
      "\u001b[1;31m---------------------------------------------------------------------------\u001b[0m",
      "\u001b[1;31mNameError\u001b[0m                                 Traceback (most recent call last)",
      "\u001b[1;32m<ipython-input-1-cc543fd460b1>\u001b[0m in \u001b[0;36m<module>\u001b[1;34m()\u001b[0m\n\u001b[1;32m----> 1\u001b[1;33m \u001b[0mnumero\u001b[0m \u001b[1;33m=\u001b[0m \u001b[0mrandom\u001b[0m\u001b[1;33m.\u001b[0m\u001b[0mrandint\u001b[0m\u001b[1;33m(\u001b[0m\u001b[1;36m1\u001b[0m\u001b[1;33m,\u001b[0m \u001b[1;36m100\u001b[0m\u001b[1;33m)\u001b[0m\u001b[1;33m\u001b[0m\u001b[0m\n\u001b[0m\u001b[0;32m      2\u001b[0m \u001b[0mchances\u001b[0m \u001b[1;33m=\u001b[0m \u001b[1;36m1\u001b[0m\u001b[1;33m\u001b[0m\u001b[0m\n\u001b[0;32m      3\u001b[0m \u001b[1;32mwhile\u001b[0m \u001b[0mchances\u001b[0m \u001b[1;33m<=\u001b[0m \u001b[1;36m5\u001b[0m\u001b[1;33m:\u001b[0m\u001b[1;33m\u001b[0m\u001b[0m\n\u001b[0;32m      4\u001b[0m     \u001b[0mchute\u001b[0m \u001b[1;33m=\u001b[0m \u001b[0mint\u001b[0m\u001b[1;33m(\u001b[0m\u001b[0minput\u001b[0m\u001b[1;33m(\u001b[0m\u001b[1;34m\"Digite um chute: \"\u001b[0m\u001b[1;33m)\u001b[0m\u001b[1;33m)\u001b[0m\u001b[1;33m\u001b[0m\u001b[0m\n\u001b[0;32m      5\u001b[0m     \u001b[1;32mif\u001b[0m \u001b[0mnumero\u001b[0m \u001b[1;33m==\u001b[0m \u001b[0mchute\u001b[0m\u001b[1;33m:\u001b[0m\u001b[1;33m\u001b[0m\u001b[0m\n",
      "\u001b[1;31mNameError\u001b[0m: name 'random' is not defined"
     ]
    }
   ],
   "source": [
    "numero = random.randint(1, 100)\n",
    "chances = 1\n",
    "while chances <= 5:\n",
    "    chute = int(input(\"Digite um chute: \"))\n",
    "    if numero == chute:\n",
    "        print(\"Você acertou!!!\")\n",
    "        break\n",
    "    else:\n",
    "        if numero > chute:\n",
    "            print(\"você errou, o número é maior\")\n",
    "        else:\n",
    "            print(\"você errou, o número é menor\")\n",
    "    chances = chances + 1\n",
    "print(\"Fim do programa, o número era:\", numero)"
   ]
  },
  {
   "cell_type": "code",
   "execution_count": 3,
   "metadata": {},
   "outputs": [
    {
     "name": "stdout",
     "output_type": "stream",
     "text": [
      "Digite um chute: 90\n",
      "Você errou, o número é menor (está frio)\n",
      "Digite um chute: 70\n",
      "Você errou, o número é menor (está frio)\n",
      "Digite um chute: 50\n",
      "Você errou, o número é menor (está frio)\n",
      "Digite um chute: 30\n",
      "Você errou, o número é menor (está frio)\n",
      "Digite um chute: 20\n",
      "Você errou, o número é menor (está quente)\n",
      "Fim do programa, o número era: 17\n"
     ]
    }
   ],
   "source": [
    "numero = random.randint(1, 100)\n",
    "chances = 1\n",
    "while chances <= 5:\n",
    "    chute = int(input(\"Digite um chute: \"))\n",
    "    diferenca = numero - chute\n",
    "    if diferenca == 0:\n",
    "        print(\"Você acertou!\")\n",
    "        break\n",
    "    elif diferenca > 0 and diferenca < 5:\n",
    "        print(\"Você errou, o número é maior (está quente)\")\n",
    "    elif diferenca > 0:\n",
    "        print(\"Você errou, o número é maior (está frio)\")\n",
    "    elif diferenca < 0 and diferenca > -5:\n",
    "        print(\"Você errou, o número é menor (está quente)\")\n",
    "    else:\n",
    "        print(\"Você errou, o número é menor (está frio)\")\n",
    "    chances = chances + 1\n",
    "print(\"Fim do programa, o número era:\", numero)"
   ]
  },
  {
   "cell_type": "code",
   "execution_count": null,
   "metadata": {},
   "outputs": [],
   "source": []
  }
 ],
 "metadata": {
  "kernelspec": {
   "display_name": "Python 3",
   "language": "python",
   "name": "python3"
  },
  "language_info": {
   "codemirror_mode": {
    "name": "ipython",
    "version": 3
   },
   "file_extension": ".py",
   "mimetype": "text/x-python",
   "name": "python",
   "nbconvert_exporter": "python",
   "pygments_lexer": "ipython3",
   "version": "3.6.4"
  }
 },
 "nbformat": 4,
 "nbformat_minor": 2
}
