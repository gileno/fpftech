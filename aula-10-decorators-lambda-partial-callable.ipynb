{
 "cells": [
  {
   "cell_type": "code",
   "execution_count": 1,
   "metadata": {},
   "outputs": [],
   "source": [
    "from functools import lru_cache"
   ]
  },
  {
   "cell_type": "code",
   "execution_count": 2,
   "metadata": {},
   "outputs": [],
   "source": [
    "def fib(n):\n",
    "    if n in [0, 1]:\n",
    "        return 1\n",
    "    return fib(n - 1) + fib(n - 2)"
   ]
  },
  {
   "cell_type": "code",
   "execution_count": 3,
   "metadata": {},
   "outputs": [
    {
     "data": {
      "text/plain": [
       "8"
      ]
     },
     "execution_count": 3,
     "metadata": {},
     "output_type": "execute_result"
    }
   ],
   "source": [
    "fib(5)"
   ]
  },
  {
   "cell_type": "code",
   "execution_count": 4,
   "metadata": {},
   "outputs": [
    {
     "data": {
      "text/plain": [
       "5"
      ]
     },
     "execution_count": 4,
     "metadata": {},
     "output_type": "execute_result"
    }
   ],
   "source": [
    "fib(4)"
   ]
  },
  {
   "cell_type": "code",
   "execution_count": 5,
   "metadata": {},
   "outputs": [
    {
     "data": {
      "text/plain": [
       "3"
      ]
     },
     "execution_count": 5,
     "metadata": {},
     "output_type": "execute_result"
    }
   ],
   "source": [
    "fib(3)"
   ]
  },
  {
   "cell_type": "code",
   "execution_count": 6,
   "metadata": {},
   "outputs": [
    {
     "data": {
      "text/plain": [
       "2"
      ]
     },
     "execution_count": 6,
     "metadata": {},
     "output_type": "execute_result"
    }
   ],
   "source": [
    "fib(2)"
   ]
  },
  {
   "cell_type": "code",
   "execution_count": 7,
   "metadata": {},
   "outputs": [],
   "source": [
    "# fib(100)"
   ]
  },
  {
   "cell_type": "code",
   "execution_count": 9,
   "metadata": {},
   "outputs": [],
   "source": [
    "@lru_cache()\n",
    "def fib_cache(n):\n",
    "    if n in [0, 1]:\n",
    "        return 1\n",
    "    return fib_cache(n - 1) + fib_cache(n - 2)"
   ]
  },
  {
   "cell_type": "code",
   "execution_count": 10,
   "metadata": {},
   "outputs": [
    {
     "data": {
      "text/plain": [
       "573147844013817084101"
      ]
     },
     "execution_count": 10,
     "metadata": {},
     "output_type": "execute_result"
    }
   ],
   "source": [
    "fib_cache(100)"
   ]
  },
  {
   "cell_type": "code",
   "execution_count": 11,
   "metadata": {},
   "outputs": [
    {
     "name": "stdout",
     "output_type": "stream",
     "text": [
      "Help on built-in function print in module builtins:\n",
      "\n",
      "print(...)\n",
      "    print(value, ..., sep=' ', end='\\n', file=sys.stdout, flush=False)\n",
      "    \n",
      "    Prints the values to a stream, or to sys.stdout by default.\n",
      "    Optional keyword arguments:\n",
      "    file:  a file-like object (stream); defaults to the current sys.stdout.\n",
      "    sep:   string inserted between values, default a space.\n",
      "    end:   string appended after the last value, default a newline.\n",
      "    flush: whether to forcibly flush the stream.\n",
      "\n"
     ]
    }
   ],
   "source": [
    "help(print)"
   ]
  },
  {
   "cell_type": "code",
   "execution_count": 12,
   "metadata": {},
   "outputs": [],
   "source": [
    "def imprimir_argumentos(funcao):\n",
    "    def wrapper(*args, **kwargs):\n",
    "        print(args)\n",
    "        print(kwargs)\n",
    "        return funcao(*args, **kwargs)\n",
    "    return wrapper"
   ]
  },
  {
   "cell_type": "code",
   "execution_count": 13,
   "metadata": {},
   "outputs": [],
   "source": [
    "args = ['teste', 'legal', 'oi']"
   ]
  },
  {
   "cell_type": "code",
   "execution_count": 14,
   "metadata": {},
   "outputs": [
    {
     "name": "stdout",
     "output_type": "stream",
     "text": [
      "['teste', 'legal', 'oi']\n"
     ]
    }
   ],
   "source": [
    "print(args)"
   ]
  },
  {
   "cell_type": "code",
   "execution_count": 15,
   "metadata": {},
   "outputs": [
    {
     "name": "stdout",
     "output_type": "stream",
     "text": [
      "teste legal oi\n"
     ]
    }
   ],
   "source": [
    "print(*args)"
   ]
  },
  {
   "cell_type": "code",
   "execution_count": 17,
   "metadata": {},
   "outputs": [
    {
     "name": "stdout",
     "output_type": "stream",
     "text": [
      "teste legal oi\n"
     ]
    }
   ],
   "source": [
    "print('teste', 'legal', 'oi')"
   ]
  },
  {
   "cell_type": "code",
   "execution_count": 30,
   "metadata": {},
   "outputs": [],
   "source": [
    "import requests"
   ]
  },
  {
   "cell_type": "code",
   "execution_count": 33,
   "metadata": {},
   "outputs": [],
   "source": [
    "r = requests.get(url='https://www.google.com.br/search', params={'q': 'gileno'})"
   ]
  },
  {
   "cell_type": "code",
   "execution_count": 35,
   "metadata": {},
   "outputs": [
    {
     "data": {
      "text/plain": [
       "'<!doctype html><html itemscope=\"\" itemtype=\"http://schema.org/SearchResultsPage\" lang=\"pt-BR\"><head><meta content=\"text/html; charset=UTF-8\" http-equiv=\"Content-Type\"><meta content=\"/images/branding/googleg/1x/googleg_standard_color_128dp.png\" itemprop=\"image\"><link href=\"/images/branding/product/ico/googleg_lodp.ico\" rel=\"shortcut icon\"><title>gileno - Pesquisa Google</title><style>#gbar,#guser{font-size:13px;padding-top:1px !important;}#gbar{height:22px}#guser{padding-bottom:7px !important;text-align:right}.gbh,.gbd{border-top:1px solid #c9d7f1;font-size:1px}.gbh{height:0;position:absolute;top:24px;width:100%}@media all{.gb1{height:22px;margin-right:.5em;vertical-align:top}#gbar{float:left}}a.gb1,a.gb4{text-decoration:underline !important}a.gb1,a.gb4{color:#00c !important}.gbi .gb4{color:#dd8e27 !important}.gbf .gb4{color:#900 !important} </style><style>.star{float:left;margin-top:1px;overflow:hidden}._yhd{font-size:11px}.j{width:34em}body,td,div,.p,a{font-family:arial,sans-serif;tap-highlight-color:rgba(255,255,255,0)}body{margin:0}a img{border:0}#gbar{float:left;height:22px;padding-left:2px;font-size:13px}.gsfi,.gsfs{font-size:17px}.w,.q:active,.q:visited,.tbotu{color:#11c}a.gl{text-decoration:none}#foot{padding:0 8px}#foot a{white-space:nowrap}h3{font-size:16px;font-weight:normal;margin:0;padding:0}#res h3{display:inline}.hd{height:1px;position:absolute;top:-1000em}.g,body,html,table,.std{font-size:13px}.g{margin-bottom:23px;margin-top:0;zoom:1}ol li,ul li{list-style:none}h1,ol,ul,li{margin:0;padding:0}.e{margin:2px 0 0.75em}#leftnav a{text-decoration:none}#leftnav h2{color:#767676;font-weight:normal;margin:0}#nav{border-collapse:collapse;margin-top:17px;text-align:left}#nav td{text-align:center}.nobr{white-space:nowrap}.ts{border-collapse:collapse}.s br{display:none}.csb{display:block;height:40px}.images_table td{line-height:17px;padding-bottom:16px}.images_table img{border:1px solid #ccc;padding:1px}#tbd,#abd{display:block;min-height:1px}#abd{padding-top:3px}#tbd li{display:inline}._ITd,._JTd{margin-bottom:8px}#tbd .tbt li{display:block;font-size:13px;line-height:1.2;padding-bottom:3px;padding-left:8px;text-indent:-8px}.tbos,.b{font-weight:bold}em{font-weight:bold;font-style:normal}.mime{color:#1a0dab;font-weight:bold;font-size:x-small}.soc a{text-decoration:none}.soc{color:#808080}._kgd{color:#e7711b}#_vBb{border:1px solid #e0e0e0;margin-left:-8px;margin-right:-8px;padding:15px 20px 5px}._m3b{font-size:32px}._eGc{color:#777;font-size:16px;margin-top:5px}._H0d{color:#777;font-size:14px;margin-top:5px}._HLh{border:1px solid #e0e0e0;padding-left:20px}._Tki{border:1px solid #e0e0e0;padding:5px 20px}#vob{border:1px solid #e0e0e0;padding:15px 15px}#_Nyc{font-size:22px;line-height:22px;padding-bottom:5px}#vob_st{line-height:1.24}._Tsb{border-width:1px;border-style:solid;border-color:#eee;background-color:#fff;position:relative;margin-bottom:26px}._Peb,._Qeb,._Usb{font-family:Arial;font-weight:lighter}._Peb{margin-bottom:5px}._Peb{font-size:xx-large}._Qeb{font-size:medium}._Usb{font-size:small}._Tsb{margin-left:-8px;margin-right:-15px;padding:20px 20px 24px}._rOc{border-spacing:0px 2px}._sOc{max-width:380px;text-overflow:ellipsis;white-space:nowrap;overflow:hidden;padding-left:0px}._v9b{padding-left:15px;white-space:nowrap;color:#666}._pOc{padding-left:0px}._rkc{color:#212121}._HOb{color:#878787}._lMf{color:#093}._jMf{color:#c00}._kMf{padding:1px}._CKg{color:#dd4b39}.gssb_a{padding:0 10px !important}.gssb_c{left:132px !important;right:295px !important;top:78px !important;width:572px !important}.gssb_c table{font-size:16px !important}.gssb_e{border:1px solid #ccc !important;border-top-color:#d9d9d9 !important}.gssb_i{background:#eee !important}#res{padding:0 8px}#rhs_block{padding-top:43px}#_FQd{padding:0 8px}#subform_ctrl{font-size:11px;height:17px;margin:5px 3px 0 17px}.taf{padding-bottom:3px}._chd{padding:20px 0 3px}._bhd{padding:20px 0 3px}#topstuff .e{padding-bottom:6px}.slk .sld{width:250px}.slk{margin-bottom:-3px}.slk ._z3b{padding-bottom:5px;width:250px}.ac,.st{line-height:1.24}.mfr,#ofr{font-size:16px;margin:1em 0;padding:0 8px}._tLi{padding-bottom:25px}.s{color:#545454}.ac{color:#545454}a.fl,._cD a,.osl a{color:#1a0dab;text-decoration:none}a:link{color:#1a0dab;cursor:pointer}#tads a:link{color:#1a0dab}#tads .soc a:link{color:#808080}a:visited{color:#61C}.blg a{text-decoration:none}cite,cite a:link{color:#006621;font-style:normal}#tads cite{color:#006621}.kv{font-size:15px}.kvs{margin-top:1px}.kv,.kvs,.slp{display:block;margin-bottom:1px}.kt{border-spacing:2px 0;margin-top:1px}.f{color:#808080}._pJb{color:#093}h4.r{display:inline;font-size:small;font-weight:normal}.g{line-height:1.2}._sPb{display:inline-block;vertical-align:top;overflow:hidden;position:relative}._Gnc{margin:0 0 2em 1.3em}._Gnc li{list-style-type:disc}.osl{color:#777;margin-top:4px}.r{font-size:16px;margin:0}.spell{font-size:16px}.spell_orig{font-size:13px}.spell_orig a{text-decoration:none}.spell_orig b i{font-style:normal;font-weight:normal}.th{border:1px solid #ebebeb}.ts td{padding:0}.videobox{padding-bottom:3px}.slk a{text-decoration:none}#leftnav a:hover,#leftnav .tbou a:hover,.slk h3 a,a:hover{text-decoration:underline}#mn{table-layout:fixed;width:100%}#leftnav a{color:#222;font-size:13px}#leftnav{padding:43px 4px 4px 0}.tbos{color:#dd4b39}.tbt{margin-bottom:28px}#tbd{padding:0 0 0 16px}.tbou a{color:#222}#center_col{border:0;padding:0 8px 0 0}#topstuff .e{padding-top:3px}#topstuff .sp_cnt{padding-top:6px}#ab_name{color:#dd4b39;font:20px \"Arial\";margin-left:15px}#resultStats{color:#999;font-size:13px;overflow:hidden;white-space:nowrap}.mslg>td{padding-right:1px;padding-top:2px}.slk .sld{margin-top:2px;padding:5px 0 5px 5px}.fmp{padding-top:3px}.close_btn{overflow:hidden}#fll a,#bfl a{color:#1a0dab !important;margin:0 12px;text-decoration:none !important}.ng{color:#dd4b39}#mss{margin:.33em 0 0;padding:0;display:table}._mY{display:inline-block;float:left;white-space:nowrap;padding-right:16px}#mss p{margin:0;padding-top:5px}.tn{border-bottom:1px solid #ebebeb;display:block;float:left;height:59px;line-height:54px;min-width:980px;padding:0;position:relative;white-space:nowrap}._UXb,a._UXb{color:#777;cursor:pointer;display:inline-block;font-family:arial,sans-serif;font-size:small;height:54px;line-height:54px;margin:0 8px;padding:0 8px;text-decoration:none;white-space:nowrap}._Ihd{border-bottom:3px solid #dd4b39;color:#dd4b39;font-weight:bold;margin:2px 8px 0}a._Jhd:hover{color:black;text-decoration:none;white-space:nowrap}body{margin:0;padding:0}._sxc{display:inline-block;float:left;margin-top:2px}._Hhd,a._Hhd{margin-left:1px}.sd{line-height:43px;padding:0 8px 0 9px}a:active,.osl a:active,.tbou a:active,#leftnav a:active{color:#dd4b39}#bfl a:active{color:#dd4b39 !important}.csb{background:url(/images/nav_logo229.png) no-repeat;overflow:hidden}.close_btn{background:url(/images/nav_logo229.png) no-repeat -138px -84px;height:14px;width:14px;display:block}.star{background:url(/images/nav_logo229.png) no-repeat -94px -245px;height:13px;width:65px;display:block}.star div,.star span{background:url(/images/nav_logo229.png) no-repeat 0 -245px;height:13px;width:65px;display:block}._nBb{display:inline;margin:0 3px;outline-color:transparent;overflow:hidden;position:relative}._nBb>div{outline-color:transparent}._O0{border-color:transparent;border-style:solid dashed dashed;border-top-color:green;border-width:4px 4px 0 4px;cursor:pointer;display:inline-block;font-size:0;height:0;left:4px;line-height:0;outline-color:transparent;position:relative;top:-3px;width:0}._O0{margin-top:-4px}.am-dropdown-menu{display:block;background:#fff;border:1px solid #dcdcdc;font-size:13px;left:0;padding:0;position:absolute;right:auto;white-space:nowrap;z-index:3}._Ykb{list-style:none;white-space:nowrap}._Ykb:hover{background-color:#eee}a._Zkb{color:#333;cursor:pointer;display:block;padding:7px 18px;text-decoration:none}#tads a._Zkb{color:#333}.sfbgg{background:#f1f1f1;border-bottom:1px solid #e5e5e5;height:71px}#logocont{z-index:1;padding-left:4px;padding-top:4px}#logo{display:block;height:49px;margin-top:12px;margin-left:12px;overflow:hidden;position:relative;width:137px}#logo img{left:0;position:absolute;top:-41px}.lst-a{background:white;border:1px solid #d9d9d9;border-top-color:silver;width:570px}.lst-a:hover{border:1px solid #b9b9b9;border-top:1px solid #a0a0a0;box-shadow:inset 0 1px 2px rgba(0,0,0,0.1);-webkit-box-shadow:inset 0 1px 2px rgba(0,0,0,0.1);-moz-box-shadow:inset 0 1px 2px rgba(0,0,0,0.1)}.lst-td{border:none;padding:0}.tia input{border-right:none;padding-right:0}.tia{padding-right:0}.lst{background:none;border:none;color:#000;font:16px arial,sans-serif;float:left;height:22px;margin:0;padding:3px 6px 2px 9px;vertical-align:top;width:100%;word-break:break-all}.lst:focus{outline:none}.lst-b{background:none;border:none;height:26px;padding:0 6px 0 12px}.ds{border-right:1px solid #e7e7e7;position:relative;height:29px;margin-left:17px;z-index:100}.lsbb{background-image:-moz-linear-gradient(top,#4d90fe,#4787ed);background-image:-ms-linear-gradient(top,#4d90fe,#4787ed);background-image:-o-linear-gradient(top,#4d90fe,#4787ed);background-image:-webkit-gradient(linear,left top,left bottom,from(#4d90fe),to(#4787ed));background-image:-webkit-linear-gradient(top,#4d90fe,#4787ed);background-image:linear-gradient(top,#4d90fe,#4787ed);border:1px solid #3079ed;border-radius:2px;background-color:#4d90fe;height:27px;width:68px}.lsbb:hover{background-image:-moz-linear-gradient(top,#4d90fe,#357ae8);background-image:-ms-linear-gradient(top,#4d90fe,#357ae8);background-image:-o-linear-gradient(top,#4d90fe,#357ae8);background-image:-webkit-gradient(linear,left top,left bottom,from(#4d90fe),to(#357ae8));background-image:-webkit-linear-gradient(top,#4d90fe,#357ae8);background-color:#357ae8;background-image:linear-gradient(top,#4d90fe,#357ae8);border:1px solid #2f5bb7}.lsb{background:transparent;background-position:0 -343px;background-repeat:repeat-x;border:none;color:#000;cursor:default;font:15px arial,sans-serif;height:29px;margin:0;vertical-align:top;width:100%}.lsb:active{-moz-box-shadow:inset 0 1px 2px rgba(0,0,0,0.3);-webkit-box-shadow:inset 0 1px 2px rgba(0,0,0,0.3);box-shadow:inset 0 1px 2px rgba(0,0,0,0.3);background:transparent;color:transparent;overflow:hidden;position:relative;width:100%}.sbico{color:transparent;display:inline-block;height:15px;margin:0 auto;margin-top:2px;width:15px;overflow:hidden}</style><script nonce=\"7TW3SCW4aLpVb1N9/ASXtA==\">(function(){window.google={kEI:\\'AzuMWun2BMqPwgTWqYHYBg\\',kEXPI:\\'20782,1354276,1354688,1354916,1355220,1355527,1355675,1355762,1355771,1355792,1356040,1356690,1356779,1357033,1357208,1357219,1357808,1357836,3700265,3700521,4029815,4031109,4043492,4045841,4048347,4081038,4097150,4097922,4097929,4098721,4098728,4103845,4105240,4109490,4109568,4116279,4116731,4116926,4116935,4118798,4120281,4122511,4124850,4125837,4126205,4126636,4126754,4127086,4127418,4128586,4129520,4129633,4130362,4130782,4131836,4133431,4134398,4135025,4136073,4136102,4136568,4137461,4137597,4137646,4137727,4139722,4139730,4140278,4140289,4140292,4140324,4140335,4140338,4141160,4141174,4141441,4141469,4142071,4142556,4142834,4143278,4143677,4143733,4144442,4144544,4144803,4145088,4145461,4145485,4145772,4145836,4146146,4146878,4146998,4147900,4147943,4147951,4148060,4148267,4148280,4148304,4148510,4148571,4148608,4149017,4149055,4149304,4149336,4149372,4149493,4149803,4150005,4150017,4150185,4150428,4151013,4151016,4151048,4151183,4151296,4151352,4151389,4151703,4152044,4152155,4152212,4152455,4152565,4152618,4152890,4152902,4152983,4153062,4153139,4153219,4153222,4153367,4153545,4153599,4153616,4153952,4154191,4154203,4154307,4154376,4154432,4154506,4154859,4154860,4155568,4155610,10200083,10202524,15807764,16200026\\',authuser:0,kscs:\\'c9c918f0_AzuMWun2BMqPwgTWqYHYBg\\',u:\\'c9c918f0\\',kGL:\\'BR\\'};google.kHL=\\'pt-BR\\';})();(function(){google.lc=[];google.li=0;google.getEI=function(a){for(var b;a&&(!a.getAttribute||!(b=a.getAttribute(\"eid\")));)a=a.parentNode;return b||google.kEI};google.getLEI=function(a){for(var b=null;a&&(!a.getAttribute||!(b=a.getAttribute(\"leid\")));)a=a.parentNode;return b};google.https=function(){return\"https:\"==window.location.protocol};google.ml=function(){return null};google.wl=function(a,b){try{google.ml(Error(a),!1,b)}catch(d){}};google.time=function(){return(new Date).getTime()};google.log=function(a,b,d,c,g){if(a=google.logUrl(a,b,d,c,g)){b=new Image;var e=google.lc,f=google.li;e[f]=b;b.onerror=b.onload=b.onabort=function(){delete e[f]};google.vel&&google.vel.lu&&google.vel.lu(a);b.src=a;google.li=f+1}};google.logUrl=function(a,b,d,c,g){var e=\"\",f=google.ls||\"\";d||-1!=b.search(\"&ei=\")||(e=\"&ei=\"+google.getEI(c),-1==b.search(\"&lei=\")&&(c=google.getLEI(c))&&(e+=\"&lei=\"+c));c=\"\";!d&&google.cshid&&-1==b.search(\"&cshid=\")&&(c=\"&cshid=\"+google.cshid);a=d||\"/\"+(g||\"gen_204\")+\"?atyp=i&ct=\"+a+\"&cad=\"+b+e+f+\"&zx=\"+google.time()+c;/^http:/i.test(a)&&google.https()&&(google.ml(Error(\"a\"),!1,{src:a,glmm:1}),a=\"\");return a};}).call(this);(function(){google.y={};google.x=function(a,b){if(a)var c=a.id;else{do c=Math.random();while(google.y[c])}google.y[c]=[a,b];return!1};google.lm=[];google.plm=function(a){google.lm.push.apply(google.lm,a)};google.lq=[];google.load=function(a,b,c){google.lq.push([[a],b,c])};google.loadAll=function(a,b){google.lq.push([a,b])};}).call(this);google.f={};(function(){var b={gen204:\"dcl\",clearcut:4};var c=[function(){google.c&&google.tick(\"load\",b)}];google.dcl=!1;google.dclc=function(a){google.dcl?a():c.push(a)};function d(){if(!google.dcl){google.dcl=!0;for(var a;a=c.shift();)a()}}window.addEventListener?(document.addEventListener(\"DOMContentLoaded\",d,!1),window.addEventListener(\"load\",d,!1)):window.attachEvent&&window.attachEvent(\"onload\",d);}).call(this);</script><script type=\"text/javascript\" nonce=\"7TW3SCW4aLpVb1N9/ASXtA==\"></script><script nonce=\"7TW3SCW4aLpVb1N9/ASXtA==\">(function(){google.sham=function(c){for(var d=c.parentElement,a=null,b=0;b<d.childNodes.length;b++){var e=d.childNodes[b];-1<(\" \"+e.className+\" \").indexOf(\" am-dropdown-menu \")&&(a=e)}\"none\"==a.style.display?(a.style.display=\"\",google.log(\"hpam\",\"&ved=\"+c.getAttribute(\"data-ved\"))):a.style.display=\"none\"};}).call(this);(function(){var a=[];google.jsc={xx:a,x:function(b){a.push(b)}};}).call(this);</script></head><body class=\"hsrp\" bgcolor=\"#ffffff\" marginheight=\"0\" marginwidth=\"0\" topmargin=\"0\"><div id=gbar><nobr><b class=gb1>Pesquisa</b> <a class=gb1 href=\"https://www.google.com.br/search?hl=pt-BR&tbm=isch&source=og&tab=wi\">Imagens</a> <a class=gb1 href=\"https://maps.google.com.br/maps?hl=pt-BR&tab=wl\">Maps</a> <a class=gb1 href=\"https://play.google.com/?hl=pt-BR&tab=w8\">Play</a> <a class=gb1 href=\"https://www.youtube.com/results?gl=BR&tab=w1\">YouTube</a> <a class=gb1 href=\"https://news.google.com.br/nwshp?hl=pt-BR&tab=wn\">Notícias</a> <a class=gb1 href=\"https://mail.google.com/mail/?tab=wm\">Gmail</a> <a class=gb1 href=\"https://drive.google.com/?tab=wo\">Drive</a> <a class=gb1 style=\"text-decoration:none\" href=\"https://www.google.com.br/intl/pt-BR/options/\"><u>Mais</u> &raquo;</a></nobr></div><div id=guser width=100%><nobr><span id=gbn class=gbi></span><span id=gbf class=gbf></span><span id=gbe></span><a href=\"http://www.google.com.br/history/optout?hl=pt-BR\" class=gb4>Histórico da Web</a> | <a  href=\"/preferences?hl=pt-BR\" class=gb4>Configurações</a> | <a target=_top id=gb_70 href=\"https://accounts.google.com/ServiceLogin?hl=pt-BR&passive=true&continue=https://www.google.com.br/search%3Fq%3Dgileno\" class=gb4>Fazer login</a></nobr></div><div class=gbh style=left:0></div><div class=gbh style=right:0></div><table id=\"mn\" border=\"0\" cellpadding=\"0\" cellspacing=\"0\" style=\"position:relative\"><tr><th width=\"132\"></th><th width=\"573\"></th><th width=\"278\"></th><th></th></tr><tr><td class=\"sfbgg\" valign=\"top\"><div id=\"logocont\"><h1><a href=\"/webhp?hl=pt-BR\" style=\"background:url(/images/nav_logo229.png) no-repeat 0 -41px;height:37px;width:95px;display:block\" id=\"logo\" title=\"Go to Google Home\"></a></h1></div></td><td class=\"sfbgg\" colspan=\"2\" valign=\"top\" style=\"padding-left:0px\"><form style=\"display:block;margin:0;background:none\" action=\"/search\" id=\"tsf\" method=\"GET\" name=\"gs\"><table border=\"0\" cellpadding=\"0\" cellspacing=\"0\" style=\"margin-top:20px;position:relative\"><tr><td><div class=\"lst-a\"><table cellpadding=\"0\" cellspacing=\"0\"><tr><td class=\"lst-td tia\" width=\"526\" valign=\"bottom\"><div style=\"position:relative;zoom:1\"><input class=\"lst\" value=\"gileno\" title=\"Pesquisar\" autocomplete=\"off\" id=\"sbhost\" maxlength=\"2048\" name=\"q\" type=\"text\"></div></td><td class=\"lst-td\"><div class=\"lst-b\"><img style=\"padding-top:2px\" src=\"/textinputassistant/tia.png\" onclick=\"(function(){var text_input_assistant_js=\\'/textinputassistant/11/pt-BR_tia.js\\';var s = document.createElement(\\'script\\');s.src = text_input_assistant_js;(document.getElementById(\\'xjsc\\')|| document.body).appendChild(s);})();\" alt=\"\" height=\"23\" width=\"27\"></div></td></tr></table></div></td><td><div class=\"ds\" style=\"margin-left:16px\"><div class=\"lsbb\"><button class=\"lsb\" value=\"Pesquisar\" name=\"btnG\" type=\"submit\"><span class=\"sbico\" style=\"background:url(/images/nav_logo229.png) no-repeat -36px -111px;height:14px;width:13px;display:block\"></span></button></div></div></td></tr></table></form></td><td class=\"sfbgg\">&nbsp;</td></tr><tr style=\"position:relative\"><td><div style=\"border-bottom:1px solid #ebebeb;height:59px\"></div></td><td colspan=\"2\"><div class=\"tn\"><div class=\"_UXb _Ihd _sxc _Hhd\">Todas</div><div class=\"_sxc\"><a class=\"_UXb _Jhd\" href=\"/search?q=gileno&amp;ie=UTF-8&amp;prmd=ivns&amp;source=lnms&amp;tbm=isch&amp;sa=X&amp;ved=0ahUKEwiphM_747TZAhXKh5AKHdZUAGsQ_AUIBQ\">Imagens</a></div><div class=\"_sxc\"><a class=\"_UXb _Jhd\" href=\"/search?q=gileno&amp;ie=UTF-8&amp;prmd=ivns&amp;source=lnms&amp;tbm=vid&amp;sa=X&amp;ved=0ahUKEwiphM_747TZAhXKh5AKHdZUAGsQ_AUIBg\">Vídeos</a></div><div class=\"_sxc\"><a class=\"_UXb _Jhd\" href=\"/search?q=gileno&amp;ie=UTF-8&amp;prmd=ivns&amp;source=lnms&amp;tbm=nws&amp;sa=X&amp;ved=0ahUKEwiphM_747TZAhXKh5AKHdZUAGsQ_AUIBw\">Notícias</a></div><div class=\"_sxc\"><a class=\"_UXb _Jhd\" href=\"/search?q=gileno&amp;ie=UTF-8&amp;prmd=ivns&amp;source=lnms&amp;tbm=shop&amp;sa=X&amp;ved=0ahUKEwiphM_747TZAhXKh5AKHdZUAGsQ_AUICA\">Shopping</a></div><div class=\"_sxc\"><a class=\"_UXb _Jhd\" href=\"https://maps.google.com.br/maps?q=gileno&amp;um=1&amp;ie=UTF-8&amp;sa=X&amp;ved=0ahUKEwiphM_747TZAhXKh5AKHdZUAGsQ_AUICQ\">Maps</a></div><div class=\"_sxc\"><a class=\"_UXb _Jhd\" href=\"/search?q=gileno&amp;ie=UTF-8&amp;prmd=ivns&amp;source=lnms&amp;tbm=bks&amp;sa=X&amp;ved=0ahUKEwiphM_747TZAhXKh5AKHdZUAGsQ_AUICg\">Livros</a></div></div><div style=\"border-bottom:1px solid #ebebeb;height:59px\"></div></td><td><div style=\"border-bottom:1px solid #ebebeb;height:59px\"></div></td></tr><tbody id=\"desktop-search\"><style>._Bu,._Bu a:link,._Bu a:visited,a._Bu:link,a._Bu:visited{color:#808080}._kBb{color:#61C}.ellip{overflow:hidden;text-overflow:ellipsis;white-space:nowrap}._uXc{border:1px solid #e0e0e0;font-size:13px;margin-right:-2px;}._o0d{margin:4px 10px}._Z8d{background:white;border-bottom:0;border-left:0;border-right:0;border-top:1px solid #e0e0e0;cursor:pointer;height:40px;outline:0;width:100%}._Azf{color:#777;font-size:11px}._Azf a{color:#777;text-decoration:none}.xpdclpsbtn{}.xpdxpndbtn{}.xpdclpsbtn ._FGf{background:url(/images/nav_logo229.png) no-repeat -50px -79px;height:22px;width:64px}.xpdxpndbtn ._FGf{background:url(/images/nav_logo229.png) no-repeat -50px -102px;height:22px;width:64px}._tXc{color:#222;font-size:15px;line-height:normal;margin:12px 0}._rvh{margin:4px 0}._x8d{margin:10px;overflow:hidden;position:relative;white-space:nowrap;}._tNf{display:-moz-inline-stack;display:inline-block;position:relative;width:100%;z-index:0;}._B5d{border-top:1px solid #e0e0e0;color:#000;font-size:22px;margin-top:-5px;padding-top:10px}._C5d{color:#000;font-size:14px}._WQf{display:inline-block;float:none;vertical-align:-1px;}._POh{color:#777}._pIf{border-top:1px solid #e0e0e0;border-bottom:1px solid #e0e0e0;margin-top:16px,0}._IGf{padding:8px 0;white-space:nowrap;width:100%}._IGf a{display:inline-block;text-align:center}._DHf{border-right:1px solid #e0e0e0}._qIf ._IGf a{width:100%}._sIf ._IGf a{width:50%}._rIf ._IGf a{width:33%}._gS{color:#212121}._gF{margin:2px 0 4px;line-height:17px}._tA{color:#777}._gS{font-weight:bold}._Pce{margin:4px 10px}#_Oce{border:1px solid #e0e0e0;font-size:13px;margin-right:-2px;}._Vbe{color:#000}._R4d{border-spacing:0;line-height:20px;table-layout:fixed;width:100%}._R4d a:hover,._R4d a:active{text-decoration:none}._fce{color:#1a0dab}a:hover ._fce,a:active ._fce{text-decoration:underline}._S4d{border-top:1px solid #e0e0e0;margin:0 -10px;padding:0 10px}._T4d{display:block;margin:auto}._P4d{padding-top:8px;padding-bottom:8px}._Qbe{max-width:198px;overflow:hidden;text-overflow:ellipsis;white-space:nowrap}</style><tr><td id=\"leftnav\" valign=\"top\"><div><h2 class=\"hd\">Search Options</h2><ul class=\"med\" id=\"tbd\"><li><ul class=\"tbt\"><li class=\"tbos\" id=\"lr_\">Qualquer país</li><li class=\"tbou\" id=\"ctr_countryBR\"><a class=\"q\" href=\"/search?q=gileno&amp;ie=UTF-8&amp;prmd=ivns&amp;source=lnt&amp;tbs=ctr:countryBR&amp;cr=countryBR&amp;sa=X&amp;ved=0ahUKEwiphM_747TZAhXKh5AKHdZUAGsQpwUIDw\">País: Brasil</a></li></ul></li><li><ul class=\"tbt\"><li class=\"tbos\" id=\"lr_\">Em qualquer idioma</li><li class=\"tbou\" id=\"lr_lang_1pt\"><a class=\"q\" href=\"/search?q=gileno&amp;ie=UTF-8&amp;prmd=ivns&amp;source=lnt&amp;tbs=lr:lang_1pt&amp;lr=lang_pt&amp;sa=X&amp;ved=0ahUKEwiphM_747TZAhXKh5AKHdZUAGsQpwUIDw\">Páginas em português</a></li></ul></li><li><ul class=\"tbt\"><li class=\"tbos\" id=\"qdr_\">Em qualquer data</li><li class=\"tbou\" id=\"qdr_h\"><a class=\"q\" href=\"/search?q=gileno&amp;ie=UTF-8&amp;prmd=ivns&amp;source=lnt&amp;tbs=qdr:h&amp;sa=X&amp;ved=0ahUKEwiphM_747TZAhXKh5AKHdZUAGsQpwUIDw\"> Na última hora</a></li><li class=\"tbou\" id=\"qdr_d\"><a class=\"q\" href=\"/search?q=gileno&amp;ie=UTF-8&amp;prmd=ivns&amp;source=lnt&amp;tbs=qdr:d&amp;sa=X&amp;ved=0ahUKEwiphM_747TZAhXKh5AKHdZUAGsQpwUIDw\"> Nas últimas 24 horas</a></li><li class=\"tbou\" id=\"qdr_w\"><a class=\"q\" href=\"/search?q=gileno&amp;ie=UTF-8&amp;prmd=ivns&amp;source=lnt&amp;tbs=qdr:w&amp;sa=X&amp;ved=0ahUKEwiphM_747TZAhXKh5AKHdZUAGsQpwUIDw\"> Na última semana</a></li><li class=\"tbou\" id=\"qdr_m\"><a class=\"q\" href=\"/search?q=gileno&amp;ie=UTF-8&amp;prmd=ivns&amp;source=lnt&amp;tbs=qdr:m&amp;sa=X&amp;ved=0ahUKEwiphM_747TZAhXKh5AKHdZUAGsQpwUIDw\"> No último mês</a></li><li class=\"tbou\" id=\"qdr_y\"><a class=\"q\" href=\"/search?q=gileno&amp;ie=UTF-8&amp;prmd=ivns&amp;source=lnt&amp;tbs=qdr:y&amp;sa=X&amp;ved=0ahUKEwiphM_747TZAhXKh5AKHdZUAGsQpwUIDw\"> No último ano</a></li></ul></li><li><ul class=\"tbt\"><li class=\"tbos\" id=\"li_\">Todos os resultados</li><li class=\"tbou\" id=\"li_1\"><a class=\"q\" href=\"/search?q=gileno&amp;ie=UTF-8&amp;prmd=ivns&amp;source=lnt&amp;tbs=li:1&amp;sa=X&amp;ved=0ahUKEwiphM_747TZAhXKh5AKHdZUAGsQpwUIDw\">Ao pé da letra</a></li></ul></li></ul></div></td><td valign=\"top\"><div id=\"center_col\"><div class=\"sd\" id=\"resultStats\">Aproximadamente 2.930.000 resultados</div><div id=\"res\"><div id=\"topstuff\"></div><div id=\"search\"><div id=\"ires\"><ol><div class=\"g\"><h3 class=\"r\"><a href=\"/url?q=https://pt.wikipedia.org/wiki/Gileno&amp;sa=U&amp;ved=0ahUKEwiphM_747TZAhXKh5AKHdZUAGsQFggUMAA&amp;usg=AOvVaw1uvnpk5hvf_bZqgsg4xzE_\"><b>Gileno</b> &#8211; Wikipédia, a enciclopédia livre</a></h3><div class=\"s\"><div class=\"kv\" style=\"margin-bottom:2px\"><cite>https://pt.wikipedia.org/wiki/<b>Gileno</b></cite><div class=\"_nBb\"><div style=\"display:inline\" onclick=\"google.sham(this);\" aria-expanded=\"false\" aria-haspopup=\"true\" tabindex=\"0\" data-ved=\"0ahUKEwiphM_747TZAhXKh5AKHdZUAGsQ7B0IFTAA\"><span class=\"_O0\"></span></div><div style=\"display:none\" class=\"am-dropdown-menu\" role=\"menu\" tabindex=\"-1\"><ul><li class=\"_Ykb\"><a class=\"_Zkb\" href=\"/url?q=http://webcache.googleusercontent.com/search%3Fq%3Dcache:Z3xTcVL3igYJ:https://pt.wikipedia.org/wiki/Gileno%252Bgileno%26hl%3Dpt-BR%26ct%3Dclnk&amp;sa=U&amp;ved=0ahUKEwiphM_747TZAhXKh5AKHdZUAGsQIAgXMAA&amp;usg=AOvVaw0KGGgqFj8dYgLKE7pDu4jT\">Em cache</a></li><li class=\"_Ykb\"><a class=\"_Zkb\" href=\"/search?ie=UTF-8&amp;q=related:https://pt.wikipedia.org/wiki/Gileno+gileno&amp;tbo=1&amp;sa=X&amp;ved=0ahUKEwiphM_747TZAhXKh5AKHdZUAGsQHwgYMAA\">Semelhantes</a></li></ul></div></div></div><span class=\"st\"><b>Gileno</b> Osório Wanderley de Azevedo (Natal, 25 de abril de 1949), mais <br>\\nconhecido como Leno, é um cantor, compositor e guitarrista brasileiro. Índice. [<br>\\nesconder]. 1 História; 2 Discografia. 2.1 Leno e Lilian. 2.1.1 Estúdio; 2.1.2 <br>\\nCompactos; 2.1.3 Compactos duplos (EP); 2.1.4 Coletâneas. 2.2 Carreira solo. <br>\\n2.2.1 Estúdio&nbsp;...</span><br><div class=\"osl\"><a href=\"/url?q=https://pt.wikipedia.org/wiki/Gileno%23Hist%25C3%25B3ria&amp;sa=U&amp;ved=0ahUKEwiphM_747TZAhXKh5AKHdZUAGsQ0gIIGigAMAA&amp;usg=AOvVaw3vlmSbDLinEIggqHEyfmNN\">História</a> - <a href=\"/url?q=https://pt.wikipedia.org/wiki/Gileno%23Discografia&amp;sa=U&amp;ved=0ahUKEwiphM_747TZAhXKh5AKHdZUAGsQ0gIIGygBMAA&amp;usg=AOvVaw2KfnzcEbRgUUKtqNG0Ttkk\">Discografia</a> - <a href=\"/url?q=https://pt.wikipedia.org/wiki/Gileno%23Leno_e_Lilian&amp;sa=U&amp;ved=0ahUKEwiphM_747TZAhXKh5AKHdZUAGsQ0gIIHCgCMAA&amp;usg=AOvVaw2Jtj6Mp9KtT5j6TfVsJEQo\">Leno e Lilian</a> - <a href=\"/url?q=https://pt.wikipedia.org/wiki/Gileno%23Carreira_solo&amp;sa=U&amp;ved=0ahUKEwiphM_747TZAhXKh5AKHdZUAGsQ0gIIHSgDMAA&amp;usg=AOvVaw0_l6wCl53_5_1WuezKS9wK\">Carreira solo</a></div></div></div><div class=\"g\"><h3 class=\"r\"><a href=\"/search?q=gileno&amp;ie=UTF-8&amp;prmd=ivns&amp;tbm=isch&amp;tbo=u&amp;source=univ&amp;sa=X&amp;ved=0ahUKEwiphM_747TZAhXKh5AKHdZUAGsQsAQIHw\">Imagens de <b>gileno</b></a></h3><br><div><a href=\"/url?q=https://www.al.sp.gov.br/alesp/deputado/%3Fmatricula%3D300546&amp;sa=U&amp;ved=0ahUKEwiphM_747TZAhXKh5AKHdZUAGsQwW4IITAB&amp;usg=AOvVaw1G0hQ79ck4V2Q8ChiJNO26\"><img style=\"margin:3px 0;margin-right:6px;padding:0\" height=\"87\" src=\"https://encrypted-tbn0.gstatic.com/images?q=tbn:ANd9GcQ5ik70-meR2CveOGb2qqEdJJtGoJpPynN9AoBDeUhMUlHgtnIrYf3bOkQ\" title=\"https://www.al.sp.gov.br/alesp/deputado/?matricula=300546\" width=\"63\" alt=\"Resultado de imagem para gileno\" align=\"middle\"></a><a href=\"/url?q=https://www.eleicoes2014.com.br/gileno/&amp;sa=U&amp;ved=0ahUKEwiphM_747TZAhXKh5AKHdZUAGsQwW4IIzAC&amp;usg=AOvVaw00-mnHPorC0LXO1vIDNTuR\"><img style=\"margin:3px 0;margin-right:6px;padding:0\" height=\"62\" src=\"https://encrypted-tbn0.gstatic.com/images?q=tbn:ANd9GcTzeiM5I4CAWzypggVBl7flL5j1B4Puu04h8TSvBkntNFEX6J7NtEdHxw\" title=\"https://www.eleicoes2014.com.br/gileno/\" width=\"118\" alt=\"Resultado de imagem para gileno\" align=\"middle\"></a><a href=\"/url?q=https://www.al.sp.gov.br/alesp/deputado/%3Fmatricula%3D300546&amp;sa=U&amp;ved=0ahUKEwiphM_747TZAhXKh5AKHdZUAGsQwW4IJTAD&amp;usg=AOvVaw189YuSt6Vr-M84a10B8l_5\"><img style=\"margin:3px 0;margin-right:6px;padding:0\" height=\"88\" src=\"https://encrypted-tbn0.gstatic.com/images?q=tbn:ANd9GcQA5JVBannboZ_7nyeE8EaqYKO0vSpaGDkwycKYPwXx0JeNfAeL5s7yVA\" title=\"https://www.al.sp.gov.br/alesp/deputado/?matricula=300546\" width=\"88\" alt=\"Resultado de imagem para gileno\" align=\"middle\"></a><a href=\"/url?q=https://www.eleicoes2014.com.br/gileno/&amp;sa=U&amp;ved=0ahUKEwiphM_747TZAhXKh5AKHdZUAGsQwW4IJzAE&amp;usg=AOvVaw3AVzBLvGxwpg_kilCJQhH3\"><img style=\"margin:3px 0;margin-right:6px;padding:0\" height=\"90\" src=\"https://encrypted-tbn0.gstatic.com/images?q=tbn:ANd9GcSqaAry9lvHVY7Mc53k2Sx1hKu989veR-XiwRHx4z3471aY5vu7eOV0jw\" title=\"https://www.eleicoes2014.com.br/gileno/\" width=\"64\" alt=\"Resultado de imagem para gileno\" align=\"middle\"></a><a href=\"/url?q=https://www.ogol.com.br/player.php%3Fid%3D229995&amp;sa=U&amp;ved=0ahUKEwiphM_747TZAhXKh5AKHdZUAGsQwW4IKTAF&amp;usg=AOvVaw145nIDzQ37jizIeHeEoPYP\"><img style=\"margin:3px 0;margin-right:6px;padding:0\" height=\"90\" src=\"https://encrypted-tbn0.gstatic.com/images?q=tbn:ANd9GcSTQ9juaGwPwR9WT5Y_xqS8UNb9krpSBnE5XbsMjDExANgRfS0Hqj0KCS4\" title=\"https://www.ogol.com.br/player.php?id=229995\" width=\"63\" alt=\"Resultado de imagem para gileno\" align=\"middle\"></a><a href=\"/url?q=https://br.linkedin.com/in/gileno-barreto&amp;sa=U&amp;ved=0ahUKEwiphM_747TZAhXKh5AKHdZUAGsQwW4IKzAG&amp;usg=AOvVaw3tr7scJyFPYP8-bL_4lfT1\"><img style=\"margin:3px 0;margin-right:6px;padding:0\" height=\"90\" src=\"https://encrypted-tbn0.gstatic.com/images?q=tbn:ANd9GcQE52SnTuDjisdhqN2i9MFpLLeFSsCiXEoi6u2QFYPpxzTky4mxTGwtJEE\" title=\"https://br.linkedin.com/in/gileno-barreto\" width=\"90\" alt=\"Resultado de imagem para gileno\" align=\"middle\"></a></div></div><div class=\"g\"><h3 class=\"r\"><a href=\"/url?q=https://www.al.sp.gov.br/alesp/deputado/%3Fmatricula%3D300546&amp;sa=U&amp;ved=0ahUKEwiphM_747TZAhXKh5AKHdZUAGsQFggtMAc&amp;usg=AOvVaw1CPYqvjpKuibGNoymb0an4\">Dep. <b>Gileno</b> Gomes - ALESP</a></h3><div class=\"s\"><div class=\"kv\" style=\"margin-bottom:2px\"><cite>https://www.al.sp.gov.br/alesp/deputado/?matricula=300546</cite><div class=\"_nBb\"><div style=\"display:inline\" onclick=\"google.sham(this);\" aria-expanded=\"false\" aria-haspopup=\"true\" tabindex=\"0\" data-ved=\"0ahUKEwiphM_747TZAhXKh5AKHdZUAGsQ7B0ILjAH\"><span class=\"_O0\"></span></div><div style=\"display:none\" class=\"am-dropdown-menu\" role=\"menu\" tabindex=\"-1\"><ul><li class=\"_Ykb\"><a class=\"_Zkb\" href=\"/url?q=http://webcache.googleusercontent.com/search%3Fq%3Dcache:ODnwzR4BJ6sJ:https://www.al.sp.gov.br/alesp/deputado/%3Fmatricula%253D300546%252Bgileno%26hl%3Dpt-BR%26ct%3Dclnk&amp;sa=U&amp;ved=0ahUKEwiphM_747TZAhXKh5AKHdZUAGsQIAgwMAc&amp;usg=AOvVaw2RqhamMWF2Y7gsFzhuoBZ-\">Em cache</a></li></ul></div></div></div><span class=\"st\"><b>Gileno</b> Gomes nasceu em 1968 em Feira de Santana, na Bahia. Ainda criança <br>\\nmudou-se para Guarulhos. Filho de família humilde, começou trabalhar cedo <br>\\npara ajudar no orçamento da família. Concluiu o ensino médio e começou a <br>\\ncursar Educação Física na FIG, porém o custo era alto. Então decidiu parar e <br>\\nadiar o&nbsp;...</span><br></div></div><div class=\"g\"><h3 class=\"r\"><a href=\"/url?q=https://www.ouvirmusica.com.br/gileno/&amp;sa=U&amp;ved=0ahUKEwiphM_747TZAhXKh5AKHdZUAGsQFggyMAg&amp;usg=AOvVaw0d1Vsd-z1K0ueO4y91dinU\"><b>Gileno</b> - Ouvir todas as 5 músicas</a></h3><div class=\"s\"><div class=\"kv\" style=\"margin-bottom:2px\"><cite>https://www.ouvirmusica.com.br/<b>gileno</b>/</cite><div class=\"_nBb\"><div style=\"display:inline\" onclick=\"google.sham(this);\" aria-expanded=\"false\" aria-haspopup=\"true\" tabindex=\"0\" data-ved=\"0ahUKEwiphM_747TZAhXKh5AKHdZUAGsQ7B0IMzAI\"><span class=\"_O0\"></span></div><div style=\"display:none\" class=\"am-dropdown-menu\" role=\"menu\" tabindex=\"-1\"><ul><li class=\"_Ykb\"><a class=\"_Zkb\" href=\"/url?q=http://webcache.googleusercontent.com/search%3Fq%3Dcache:VOB7KSI3FhYJ:https://www.ouvirmusica.com.br/gileno/%252Bgileno%26hl%3Dpt-BR%26ct%3Dclnk&amp;sa=U&amp;ved=0ahUKEwiphM_747TZAhXKh5AKHdZUAGsQIAg1MAg&amp;usg=AOvVaw3gHQhdN497tdTM-yOKBD5d\">Em cache</a></li></ul></div></div></div><span class=\"st\"><b>Gileno</b>. volto aqui se não se importa por favor não feche a porta depois assim de <br>\\ntanto tempo sem me ver agora eu não sei se a sua vida está igual ou dividida eu <br>\\nsó sei que o medo nos seus olhos fez você mudar será que acordou daquele <br>\\nsonho daquele velho sonho talvez não se ache mais tão nova para sonhar</span><br></div></div><div class=\"g\"><h3 class=\"r\"><a href=\"/url?q=https://noticias.uol.com.br/politica/politicos-brasil/2014/deputado-estadual/sp/10071968-gileno.htm&amp;sa=U&amp;ved=0ahUKEwiphM_747TZAhXKh5AKHdZUAGsQFgg3MAk&amp;usg=AOvVaw3CDp6Qcu4o4iwPBVOFSHJ_\"><b>GILENO</b> (PSL): Candidato a DEPUTADO ESTADUAL, número ...</a></h3><div class=\"s\"><div class=\"kv\" style=\"margin-bottom:2px\"><cite>https://noticias.uol.com.br/politica/.../sp/10071968-<b>gileno</b>.htm</cite><div class=\"_nBb\"><div style=\"display:inline\" onclick=\"google.sham(this);\" aria-expanded=\"false\" aria-haspopup=\"true\" tabindex=\"0\" data-ved=\"0ahUKEwiphM_747TZAhXKh5AKHdZUAGsQ7B0IODAJ\"><span class=\"_O0\"></span></div><div style=\"display:none\" class=\"am-dropdown-menu\" role=\"menu\" tabindex=\"-1\"><ul><li class=\"_Ykb\"><a class=\"_Zkb\" href=\"/url?q=http://webcache.googleusercontent.com/search%3Fq%3Dcache:IpdaW_FxpUUJ:https://noticias.uol.com.br/politica/politicos-brasil/2014/deputado-estadual/sp/10071968-gileno.htm%252Bgileno%26hl%3Dpt-BR%26ct%3Dclnk&amp;sa=U&amp;ved=0ahUKEwiphM_747TZAhXKh5AKHdZUAGsQIAg6MAk&amp;usg=AOvVaw2vmtomWAJIXXwLjzgB9I3N\">Em cache</a></li><li class=\"_Ykb\"><a class=\"_Zkb\" href=\"/search?ie=UTF-8&amp;q=related:https://noticias.uol.com.br/politica/politicos-brasil/2014/deputado-estadual/sp/10071968-gileno.htm+gileno&amp;tbo=1&amp;sa=X&amp;ved=0ahUKEwiphM_747TZAhXKh5AKHdZUAGsQHwg7MAk\">Semelhantes</a></li></ul></div></div></div><span class=\"st\"><b>GILENO</b> (PSL): Candidato a DEPUTADO ESTADUAL, número 17999, eleições <br>\\n2014 (Fonte: TSE) Veja no UOL Notícias a lista de candidatos, seus dados <br>\\neleitorais e seus bens.</span><br></div></div><div class=\"g\"><h3 class=\"r\"><a href=\"/url?q=http://www.fgv.br/cpdoc/acervo/dicionarios/verbete-biografico/carli-gileno-de&amp;sa=U&amp;ved=0ahUKEwiphM_747TZAhXKh5AKHdZUAGsQFgg9MAo&amp;usg=AOvVaw3yEOyS-ymvqQdrxRlf1DUl\">CARLI, <b>GILENO</b> DE | CPDOC - Centro de Pesquisa e ...</a></h3><div class=\"s\"><div class=\"kv\" style=\"margin-bottom:2px\"><cite>www.fgv.br/cpdoc/acervo/dicionarios/verbete.../carli-<b>gileno</b>-de</cite><div class=\"_nBb\"><div style=\"display:inline\" onclick=\"google.sham(this);\" aria-expanded=\"false\" aria-haspopup=\"true\" tabindex=\"0\" data-ved=\"0ahUKEwiphM_747TZAhXKh5AKHdZUAGsQ7B0IPjAK\"><span class=\"_O0\"></span></div><div style=\"display:none\" class=\"am-dropdown-menu\" role=\"menu\" tabindex=\"-1\"><ul><li class=\"_Ykb\"><a class=\"_Zkb\" href=\"/url?q=http://webcache.googleusercontent.com/search%3Fq%3Dcache:JnmJR85njdEJ:http://www.fgv.br/cpdoc/acervo/dicionarios/verbete-biografico/carli-gileno-de%252Bgileno%26hl%3Dpt-BR%26ct%3Dclnk&amp;sa=U&amp;ved=0ahUKEwiphM_747TZAhXKh5AKHdZUAGsQIAhAMAo&amp;usg=AOvVaw0thPWT3jxQ5fOxi-d8siA-\">Em cache</a></li><li class=\"_Ykb\"><a class=\"_Zkb\" href=\"/search?ie=UTF-8&amp;q=related:www.fgv.br/cpdoc/acervo/dicionarios/verbete-biografico/carli-gileno-de+gileno&amp;tbo=1&amp;sa=X&amp;ved=0ahUKEwiphM_747TZAhXKh5AKHdZUAGsQHwhBMAo\">Semelhantes</a></li></ul></div></div></div><span class=\"st\">CARLI, <b>Gileno</b> De. *dep. fed. PE 1959-1963. <b>Gileno</b> De Carli nasceu em Recife <br>\\nno dia 22 de maio de 1908, filho de Carlos De Carli e de Eugênia Ribeiro De <br>\\nCarli. Fez os estudos primários em sua cidade natal, aí cursando o secundário <br>\\nno Colégio Nóbrega. Formou-se no ano de 1929 em agronomia pela Escola <br>\\nSuperior&nbsp;...</span><br></div></div><div class=\"g\"><h3 class=\"r\"><a href=\"/url?q=http://www.gileno.com.br/&amp;sa=U&amp;ved=0ahUKEwiphM_747TZAhXKh5AKHdZUAGsQFghDMAs&amp;usg=AOvVaw3zPXf-9tKicfx1wQi-U002\">DEPUTADO <b>GILENO</b> GOMES</a></h3><div class=\"s\"><div class=\"kv\" style=\"margin-bottom:2px\"><cite>www.<b>gileno</b>.com.br/</cite><div class=\"_nBb\"><div style=\"display:inline\" onclick=\"google.sham(this);\" aria-expanded=\"false\" aria-haspopup=\"true\" tabindex=\"0\" data-ved=\"0ahUKEwiphM_747TZAhXKh5AKHdZUAGsQ7B0IRDAL\"><span class=\"_O0\"></span></div><div style=\"display:none\" class=\"am-dropdown-menu\" role=\"menu\" tabindex=\"-1\"><ul><li class=\"_Ykb\"><a class=\"_Zkb\" href=\"/url?q=http://webcache.googleusercontent.com/search%3Fq%3Dcache:Qpo8vwUHPJcJ:http://www.gileno.com.br/%252Bgileno%26hl%3Dpt-BR%26ct%3Dclnk&amp;sa=U&amp;ved=0ahUKEwiphM_747TZAhXKh5AKHdZUAGsQIAhGMAs&amp;usg=AOvVaw1l0M1q0H8ZBDat5ywTUWiK\">Em cache</a></li></ul></div></div></div><span class=\"st\">PROJETOS DE LEI. Autor de seis projetos de lei, o deputado <b>Gileno</b> Gomes vem <br>\\ntrabalhando árduamente para representar todo o Estado de São Paulo na <br>\\nAssembleia Legislativa de São Paulo, propondo soluções que atendam todos os <br>\\nsegmentos da sociedade&nbsp;...</span><br></div></div><div class=\"g\"><h3 class=\"r\"><a href=\"/url?q=https://pt-br.facebook.com/public/Gileno-Silva&amp;sa=U&amp;ved=0ahUKEwiphM_747TZAhXKh5AKHdZUAGsQFghIMAw&amp;usg=AOvVaw3FTNy63qTqTfMvwQZROTUf\"><b>Gileno</b> Silva Perfis | Facebook</a></h3><div class=\"s\"><div class=\"kv\" style=\"margin-bottom:2px\"><cite>https://pt-br.facebook.com/public/<b>Gileno</b>-Silva</cite><div class=\"_nBb\"><div style=\"display:inline\" onclick=\"google.sham(this);\" aria-expanded=\"false\" aria-haspopup=\"true\" tabindex=\"0\" data-ved=\"0ahUKEwiphM_747TZAhXKh5AKHdZUAGsQ7B0ISTAM\"><span class=\"_O0\"></span></div><div style=\"display:none\" class=\"am-dropdown-menu\" role=\"menu\" tabindex=\"-1\"><ul><li class=\"_Ykb\"><a class=\"_Zkb\" href=\"/url?q=http://webcache.googleusercontent.com/search%3Fq%3Dcache:bZ-jd-fhZCMJ:https://pt-br.facebook.com/public/Gileno-Silva%252Bgileno%26hl%3Dpt-BR%26ct%3Dclnk&amp;sa=U&amp;ved=0ahUKEwiphM_747TZAhXKh5AKHdZUAGsQIAhLMAw&amp;usg=AOvVaw2Av1BbcK4Q0CwjdPRXsBDQ\">Em cache</a></li></ul></div></div></div><span class=\"st\">Visualize os perfis de pessoas chamadas <b>Gileno</b> Silva. Participe do Facebook <br>\\npara se conectar com <b>Gileno</b> Silva e outros que você talvez conheça. O...</span><br></div></div><div class=\"g\"><table class=\"ts\"><tr><td colspan=\"2\"><h3 class=\"r\"><a href=\"/url?q=https://www.youtube.com/watch%3Fv%3DVJB5yBTUOzg&amp;sa=U&amp;ved=0ahUKEwiphM_747TZAhXKh5AKHdZUAGsQtwIITjAN&amp;usg=AOvVaw1az5cWS9srn1ImaJSXQgZ_\"><b>Gileno</b> - Jovem Guarda - YouTube</a></h3></td></tr><tr><td valign=\"top\" width=\"1\" style=\"padding:4px 8px 0 0\"><div class=\"th\" style=\"position:relative;overflow:hidden;width:116px;height:65px\"><a href=\"/url?q=https://www.youtube.com/watch%3Fv%3DVJB5yBTUOzg&amp;sa=U&amp;ved=0ahUKEwiphM_747TZAhXKh5AKHdZUAGsQuAIITzANUAE&amp;usg=AOvVaw2hDJk6gl-ZZGdncp8DT76a\"><div style=\"margin-top:-11px\"><img src=\"https://img.youtube.com/vi/VJB5yBTUOzg/default.jpg?h=90&amp;w=120&amp;sigh=__rgiZhG7Tqa9tpLI0BarLUV4oYrY=\" width=\"116\" alt=\"Vídeo para gileno\" align=\"middle\"></div><div style=\"position:absolute;bottom:0;right:0;font-size:11px;color:#fff;background-color:#222;padding:1px 3px;text-decoration:none;font-weight:bold;text-align:right\">&#9658; 3:11</div></a></div></td><td valign=\"top\" style=\"padding-top:1px\"><cite class=\"kv\">https://www.youtube.com/watch?v=VJB5yBTUOzg</cite><span class=\"st\"><span class=\"f\"><span class=\"nobr\">17 set. 2016</span> - <span class=\"nobr\">3 min</span> - <span class=\"nobr\">Vídeo enviado por Janaína M. El-Bainy</span></span><br>Meu Nome é <b>Gileno</b> - 1976 - Leno.</span></td></tr></table></div><div class=\"g\"><h3 class=\"r\"><a href=\"/url?q=http://www.gilenofilho.com.br/&amp;sa=U&amp;ved=0ahUKEwiphM_747TZAhXKh5AKHdZUAGsQFghRMA4&amp;usg=AOvVaw1QQJo4fF8UWsn7bJycL3fg\"><b>Gileno</b> Filho</a></h3><div class=\"s\"><div class=\"kv\" style=\"margin-bottom:2px\"><cite>www.<b>gileno</b>filho.com.br/</cite><div class=\"_nBb\"><div style=\"display:inline\" onclick=\"google.sham(this);\" aria-expanded=\"false\" aria-haspopup=\"true\" tabindex=\"0\" data-ved=\"0ahUKEwiphM_747TZAhXKh5AKHdZUAGsQ7B0IUjAO\"><span class=\"_O0\"></span></div><div style=\"display:none\" class=\"am-dropdown-menu\" role=\"menu\" tabindex=\"-1\"><ul><li class=\"_Ykb\"><a class=\"_Zkb\" href=\"/url?q=http://webcache.googleusercontent.com/search%3Fq%3Dcache:1TTy3GskAuoJ:http://www.gilenofilho.com.br/%252Bgileno%26hl%3Dpt-BR%26ct%3Dclnk&amp;sa=U&amp;ved=0ahUKEwiphM_747TZAhXKh5AKHdZUAGsQIAhUMA4&amp;usg=AOvVaw1dpcMhHrFXRdEhdJKVLlFU\">Em cache</a></li><li class=\"_Ykb\"><a class=\"_Zkb\" href=\"/search?ie=UTF-8&amp;q=related:www.gilenofilho.com.br/+gileno&amp;tbo=1&amp;sa=X&amp;ved=0ahUKEwiphM_747TZAhXKh5AKHdZUAGsQHwhVMA4\">Semelhantes</a></li></ul></div></div></div><span class=\"st\">Por: <b>Gileno</b> Filho | Arquivado em: cursos. Olá pessoal, a algum tempo eu fechei <br>\\nas inscrições do meu curso de Django com Python 3 que comecei em 2014. <br>\\nNeste curso foi desenvolvido um projeto chamado SimpleMOOC, uma simples <br>\\nplataforma para ensino a distância que tinha fins didáticos. Recentemente eu <br>\\nresolvi&nbsp;...</span><br></div></div></ol></div></div></div><div style=\"clear:both;margin-bottom:17px;overflow:hidden\"><div style=\"font-size:16px;padding:0 8px 1px\">Pesquisas relacionadas a <b>gileno</b></div><table border=\"0\" cellpadding=\"0\" cellspacing=\"0\"><tr><td valign=\"top\"><p class=\"_Bmc\" style=\"margin:3px 8px\"><a href=\"/search?ie=UTF-8&amp;q=gileno+cantor&amp;sa=X&amp;ved=0ahUKEwiphM_747TZAhXKh5AKHdZUAGsQ1QIIWCgA\">gileno <b>cantor</b></a></p></td><td valign=\"top\" style=\"padding-left:10px\"><p class=\"_Bmc\" style=\"margin:3px 8px\"><a href=\"/search?ie=UTF-8&amp;q=gileno+design&amp;sa=X&amp;ved=0ahUKEwiphM_747TZAhXKh5AKHdZUAGsQ1QIIWSgB\">gileno <b>design</b></a></p></td></tr><tr><td valign=\"top\"><p class=\"_Bmc\" style=\"margin:3px 8px\"><a href=\"/search?ie=UTF-8&amp;q=gileno+significado&amp;sa=X&amp;ved=0ahUKEwiphM_747TZAhXKh5AKHdZUAGsQ1QIIWigC\">gileno <b>significado</b></a></p></td><td valign=\"top\" style=\"padding-left:10px\"><p class=\"_Bmc\" style=\"margin:3px 8px\"><a href=\"/search?ie=UTF-8&amp;q=leno+cantor+wikipedia&amp;sa=X&amp;ved=0ahUKEwiphM_747TZAhXKh5AKHdZUAGsQ1QIIWygD\"><b>leno cantor wikipedia</b></a></p></td></tr><tr><td valign=\"top\"><p class=\"_Bmc\" style=\"margin:3px 8px\"><a href=\"/search?ie=UTF-8&amp;q=gileno+-+jogador+de+futebol&amp;sa=X&amp;ved=0ahUKEwiphM_747TZAhXKh5AKHdZUAGsQ1QIIXCgE\">gileno <b>- jogador de futebol</b></a></p></td><td valign=\"top\" style=\"padding-left:10px\"><p class=\"_Bmc\" style=\"margin:3px 8px\"><a href=\"/search?ie=UTF-8&amp;q=leno+cantor+jovem+guarda&amp;sa=X&amp;ved=0ahUKEwiphM_747TZAhXKh5AKHdZUAGsQ1QIIXSgF\"><b>leno cantor jovem guarda</b></a></p></td></tr><tr><td valign=\"top\"><p class=\"_Bmc\" style=\"margin:3px 8px\"><a href=\"/search?ie=UTF-8&amp;q=gileno+guarulhos&amp;sa=X&amp;ved=0ahUKEwiphM_747TZAhXKh5AKHdZUAGsQ1QIIXigG\">gileno <b>guarulhos</b></a></p></td><td valign=\"top\" style=\"padding-left:10px\"><p class=\"_Bmc\" style=\"margin:3px 8px\"><a href=\"/search?ie=UTF-8&amp;q=biografia+do+cantor+leno&amp;sa=X&amp;ved=0ahUKEwiphM_747TZAhXKh5AKHdZUAGsQ1QIIXygH\"><b>biografia do cantor leno</b></a></p></td></tr></table></div></div><div id=\"foot\"><table align=\"center\" border=\"0\" cellpadding=\"0\" cellspacing=\"0\" id=\"nav\"><tr valign=\"top\"><td align=\"left\" class=\"b\"><span class=\"csb\" style=\"background-position:-24px 0;width:28px\"></span><b></b></td><td><span class=\"csb\" style=\"background-position:-53px 0;width:20px\"></span><b>1</b></td><td><a class=\"fl\" href=\"/search?q=gileno&amp;ie=UTF-8&amp;prmd=ivns&amp;ei=AzuMWun2BMqPwgTWqYHYBg&amp;start=10&amp;sa=N\"><span class=\"csb\" style=\"background-position:-74px 0;width:20px\"></span>2</a></td><td><a class=\"fl\" href=\"/search?q=gileno&amp;ie=UTF-8&amp;prmd=ivns&amp;ei=AzuMWun2BMqPwgTWqYHYBg&amp;start=20&amp;sa=N\"><span class=\"csb\" style=\"background-position:-74px 0;width:20px\"></span>3</a></td><td><a class=\"fl\" href=\"/search?q=gileno&amp;ie=UTF-8&amp;prmd=ivns&amp;ei=AzuMWun2BMqPwgTWqYHYBg&amp;start=30&amp;sa=N\"><span class=\"csb\" style=\"background-position:-74px 0;width:20px\"></span>4</a></td><td><a class=\"fl\" href=\"/search?q=gileno&amp;ie=UTF-8&amp;prmd=ivns&amp;ei=AzuMWun2BMqPwgTWqYHYBg&amp;start=40&amp;sa=N\"><span class=\"csb\" style=\"background-position:-74px 0;width:20px\"></span>5</a></td><td><a class=\"fl\" href=\"/search?q=gileno&amp;ie=UTF-8&amp;prmd=ivns&amp;ei=AzuMWun2BMqPwgTWqYHYBg&amp;start=50&amp;sa=N\"><span class=\"csb\" style=\"background-position:-74px 0;width:20px\"></span>6</a></td><td><a class=\"fl\" href=\"/search?q=gileno&amp;ie=UTF-8&amp;prmd=ivns&amp;ei=AzuMWun2BMqPwgTWqYHYBg&amp;start=60&amp;sa=N\"><span class=\"csb\" style=\"background-position:-74px 0;width:20px\"></span>7</a></td><td><a class=\"fl\" href=\"/search?q=gileno&amp;ie=UTF-8&amp;prmd=ivns&amp;ei=AzuMWun2BMqPwgTWqYHYBg&amp;start=70&amp;sa=N\"><span class=\"csb\" style=\"background-position:-74px 0;width:20px\"></span>8</a></td><td><a class=\"fl\" href=\"/search?q=gileno&amp;ie=UTF-8&amp;prmd=ivns&amp;ei=AzuMWun2BMqPwgTWqYHYBg&amp;start=80&amp;sa=N\"><span class=\"csb\" style=\"background-position:-74px 0;width:20px\"></span>9</a></td><td><a class=\"fl\" href=\"/search?q=gileno&amp;ie=UTF-8&amp;prmd=ivns&amp;ei=AzuMWun2BMqPwgTWqYHYBg&amp;start=90&amp;sa=N\"><span class=\"csb\" style=\"background-position:-74px 0;width:20px\"></span>10</a></td><td class=\"b\" style=\"text-align:left\"><a class=\"fl\" href=\"/search?q=gileno&amp;ie=UTF-8&amp;prmd=ivns&amp;ei=AzuMWun2BMqPwgTWqYHYBg&amp;start=10&amp;sa=N\" style=\"text-align:left\"><span class=\"csb\" style=\"background-position:-96px 0;width:71px\"></span><span style=\"display:block;margin-left:53px\">Mais</span></a></td></tr></table><p class=\"_cD\" id=\"bfl\" style=\"margin:19px 0 0;text-align:center\"><a href=\"/advanced_search?q=gileno&amp;ie=UTF-8&amp;prmd=ivns\">Pesquisa avançada</a><a href=\"/support/websearch/bin/answer.py?answer=134479&amp;hl=pt-BR\">Ajuda da Pesquisa</a> <a href=\"/tools/feedback/survey/html?productId=196&amp;query=gileno&amp;hl=pt-BR\">Enviar feedback</a></p><div class=\"_cD\" id=\"fll\" style=\"margin:19px auto 19px auto;text-align:center\"><a href=\"/\">Página Inicial do Google</a> <a href=\"/intl/pt-BR/ads\">Programas de Publicidade</a> <a href=\"/intl/pt-BR/policies/privacy/\">Privacidade</a> <a href=\"/intl/pt-BR/policies/terms/\">Termos</a> <a href=\"/intl/pt-BR/about.html\">Sobre o Google</a></div></div></td><td id=\"rhs_block\" valign=\"top\"><ol><div class=\"g\"><div class=\"_uXc hp-xpdbox\"><div class=\"_x8d\"><a href=\"https://maps.google.com.br/maps?um=1&amp;ie=UTF-8&amp;fb=1&amp;gl=br&amp;sa=X&amp;ll=-3.0016889,-59.9720821&amp;z=15&amp;ftid=0x0:0x493a2ccecdfded30&amp;q=Relojoaria+Gileno&amp;ved=0ahUKEwiphM_747TZAhXKh5AKHdZUAGsQ_BIIaDAP\" style=\"height:150px\"><img height=\"150\" src=\"/maps/vt/data=DHBASGXm9kCAm3-sUN3oWHYNFFh4zqXc4biRFnxoZz0d5y8bZy-zZNEndAFdwIfNMdt3yQJDOrNbyrWCEaGoELVsYiwVruO4Eait7EoG_sVj7ZvFRL8LcNBRecxrKHEsO5ZYT76uhw0C-Fm2NEp5vGYxhYH6-A\" width=\"258\" alt=\"Mapa para Relojoaria Gileno\" title=\"Mapa para Relojoaria Gileno\"></a></div><div class=\"_o0d\"><div><div class=\"_B5d\">Relojoaria Gileno</div></div></div><div class=\"_o0d\"><div><span class=\"_kgd\">4,7</span> <div class=\"_WQf star\"><div style=\"width:59px\">&nbsp;</div></div><span style=\"color:#777\"> 3 comentários</span></div></div><div class=\"_o0d\"><div class=\"_POh\"><span>Loja em Manaus, Amazonas</span></div></div><div class=\"_o0d\"><div class=\"_pIf _qIf\"><div class=\"_IGf\"><a class=\"fl\" href=\"https://maps.google.com.br/maps?um=1&amp;ie=UTF-8&amp;fb=1&amp;gl=br&amp;sa=X&amp;geocode=KZOCWmkEGWySMTDt_c3OLDpJ&amp;daddr=R.+Secund%C3%A1ria+3,+12+-+Cidade+Nova,+Manaus+-+AM,+69097-362&amp;ved=0ahUKEwiphM_747TZAhXKh5AKHdZUAGsQiBMIcigAMBM\">Como chegar</a></div></div></div><div class=\"_o0d\" style=\"display:none\"></div><div class=\"_o0d\"><div class=\"_gF\"><span class=\"_gS\">Endereço:&nbsp;</span><span class=\"_tA\">R. Secundária 3, 12 - Cidade Nova, Manaus - AM, 69097-362</span></div></div><div class=\"_o0d\"><div class=\"_gF\"><span class=\"_gS\">Telefone: </span><span class=\"_tA\">(92) 99416-2180</span></div></div></div></div><div class=\"g\"><div id=\"_Oce\"><div class=\"_Pce\"><div><div class=\"_C5d\">Ver resultados relacionados</div></div></div><div class=\"_Pce\"><div class=\"_S4d\"><table class=\"_R4d\"><tr><td class=\"_P4d\"><a class=\"fl\" href=\"/search?ie=UTF-8&amp;q=Gileno&amp;stick=H4sIAAAAAAAAAONgecTozi3w8sc9YSm7SWtOXmO04OIKzsgvd80rySypFNLiYoOyFLj4pbj10_UNjQyLjJIqizUYpHi5kAV4AM2SNjNMAAAA&amp;sa=X&amp;ved=0ahUKEwiphM_747TZAhXKh5AKHdZUAGsQ-DIIgAEwGA\"><div class=\"_fce _Qbe\">Gileno (Cantor)</div><div class=\"_Vbe _Qbe\">Nascimento: 25 de abril de 1949 (68 anos), Natal, Rio Grande do Norte</div><div class=\"_Vbe _Qbe\">Músicas: Sentado No Arco Íris, Contatos Urbanos, Convite para Angela, Sr. Imposto de Renda, Não Há Lei Em Grilo City, Deixo o Tempo Me Levar, Pobre do Rei, Lady Baby, Por Que Não?, Coisinha Estúpida, Bis</div></a></td><td width=\"40\"><a href=\"/search?ie=UTF-8&amp;q=Gileno&amp;stick=H4sIAAAAAAAAAONgecTozi3w8sc9YSm7SWtOXmO04OIKzsgvd80rySypFNLiYoOyFLj4pbj10_UNjQyLjJIqizUYpHi5kAV4AM2SNjNMAAAA&amp;sa=X&amp;ved=0ahUKEwiphM_747TZAhXKh5AKHdZUAGsQ-DIIgwEwGA\"><img class=\"_T4d\" src=\"https://encrypted-tbn2.gstatic.com/images?q=tbn:ANd9GcTBeY8PlWriR1zgL-XtP_X5KUWLnX_UrerTNwCqh0kKuKNNIBnLGCKu9Pd80MmyOsIwqjo\" height=\"40\" width=\"40\"></a></td></tr></table></div></div></div></div><div class=\"g\"></div></ol></td></tr></tbody></table><script type=\"text/javascript\" nonce=\"7TW3SCW4aLpVb1N9/ASXtA==\">(function(){var eventid=\\'AzuMWun2BMqPwgTWqYHYBg\\';google.kEI = eventid;})();</script><script src=\"/xjs/_/js/k=xjs.hp.en.TSpUc5CqeZc.O/m=sb_he,d/rt=j/d=1/t=zcms/rs=ACT90oGHfCz4kYxc85bptyNZ101bBqkdww\" nonce=\"7TW3SCW4aLpVb1N9/ASXtA==\"></script><script type=\"text/javascript\" nonce=\"7TW3SCW4aLpVb1N9/ASXtA==\">google.ac&&google.ac.c({\"agen\":true,\"cgen\":true,\"client\":\"heirloom-serp\",\"dh\":true,\"dhqt\":true,\"ds\":\"\",\"fl\":true,\"host\":\"google.com.br\",\"isbh\":28,\"jsonp\":true,\"msgs\":{\"cibl\":\"Limpar pesquisa\",\"dym\":\"Você quis dizer:\",\"lcky\":\"Estou com sorte\",\"lml\":\"Saiba mais\",\"oskt\":\"Ferramentas de inserção de texto\",\"psrc\":\"Esta pesquisa foi removida do seu\\\\u003Ca href=\\\\\"/history\\\\\"\\\\u003EHistórico da web\\\\u003C/a\\\\u003E\",\"psrl\":\"Remover\",\"sbit\":\"Pesquisa por imagem\",\"srch\":\"Pesquisa Google\"},\"nds\":true,\"ovr\":{},\"pq\":\"gileno\",\"refpd\":true,\"rfs\":[],\"sbpl\":24,\"sbpr\":24,\"scd\":10,\"sce\":5,\"stok\":\"wQ6v5JXnRPENz8VO8yFF0xp-xrE\"})</script><script nonce=\"7TW3SCW4aLpVb1N9/ASXtA==\">(function(){window.google.cdo={height:0,width:0};(function(){var a=window.innerWidth,b=window.innerHeight;if(!a||!b){var c=window.document,d=\"CSS1Compat\"==c.compatMode?c.documentElement:c.body;a=d.clientWidth;b=d.clientHeight}a&&b&&(a!=google.cdo.width||b!=google.cdo.height)&&google.log(\"\",\"\",\"/client_204?&atyp=i&biw=\"+a+\"&bih=\"+b+\"&ei=\"+google.kEI);}).call(this);})();</script></body></html>'"
      ]
     },
     "execution_count": 35,
     "metadata": {},
     "output_type": "execute_result"
    }
   ],
   "source": [
    "r.text"
   ]
  },
  {
   "cell_type": "code",
   "execution_count": 36,
   "metadata": {},
   "outputs": [],
   "source": [
    "kwargs = {\n",
    "    'url': 'https://www.google.com.br/search',\n",
    "    'params': {'q': 'gileno'}\n",
    "}\n",
    "args = ['https://www.google.com.br/search', {'q': 'gileno'}]\n",
    "r = requests.get(**kwargs)\n",
    "# r = requests.get(url='https://www.google.com.br/search', params={'q': 'gileno'})\n",
    "r = requests.get(*args)\n",
    "# r = requests.get('https://www.google.com.br/search', {'q': 'gileno'})"
   ]
  },
  {
   "cell_type": "code",
   "execution_count": 37,
   "metadata": {},
   "outputs": [],
   "source": [
    "def imprimir_argumentos(funcao):\n",
    "    def wrapper(*args, **kwargs):\n",
    "        print(args)\n",
    "        print(kwargs)\n",
    "        return funcao(*args, **kwargs)\n",
    "    return wrapper"
   ]
  },
  {
   "cell_type": "code",
   "execution_count": 38,
   "metadata": {},
   "outputs": [],
   "source": [
    "def soma(a, b):\n",
    "    return a + b"
   ]
  },
  {
   "cell_type": "code",
   "execution_count": 39,
   "metadata": {},
   "outputs": [
    {
     "data": {
      "text/plain": [
       "14"
      ]
     },
     "execution_count": 39,
     "metadata": {},
     "output_type": "execute_result"
    }
   ],
   "source": [
    "soma(4, 10)"
   ]
  },
  {
   "cell_type": "code",
   "execution_count": 40,
   "metadata": {},
   "outputs": [],
   "source": [
    "@imprimir_argumentos\n",
    "def soma_decorada(a, b):\n",
    "    return a + b"
   ]
  },
  {
   "cell_type": "code",
   "execution_count": 41,
   "metadata": {},
   "outputs": [
    {
     "name": "stdout",
     "output_type": "stream",
     "text": [
      "(4, 10)\n",
      "{}\n"
     ]
    },
    {
     "data": {
      "text/plain": [
       "14"
      ]
     },
     "execution_count": 41,
     "metadata": {},
     "output_type": "execute_result"
    }
   ],
   "source": [
    "soma_decorada(4, 10)"
   ]
  },
  {
   "cell_type": "code",
   "execution_count": 42,
   "metadata": {},
   "outputs": [],
   "source": [
    "def soma_decorada(a, b):\n",
    "    return a + b\n",
    "soma_decorada = imprimir_argumentos(soma_decorada)"
   ]
  },
  {
   "cell_type": "code",
   "execution_count": 43,
   "metadata": {},
   "outputs": [],
   "source": [
    "def soma(a, b):\n",
    "    return a + b\n",
    "soma = 2"
   ]
  },
  {
   "cell_type": "code",
   "execution_count": 44,
   "metadata": {},
   "outputs": [
    {
     "ename": "TypeError",
     "evalue": "'int' object is not callable",
     "output_type": "error",
     "traceback": [
      "\u001b[0;31m---------------------------------------------------------------------------\u001b[0m",
      "\u001b[0;31mTypeError\u001b[0m                                 Traceback (most recent call last)",
      "\u001b[0;32m<ipython-input-44-3f944d47f867>\u001b[0m in \u001b[0;36m<module>\u001b[0;34m()\u001b[0m\n\u001b[0;32m----> 1\u001b[0;31m \u001b[0msoma\u001b[0m\u001b[0;34m(\u001b[0m\u001b[0;36m2\u001b[0m\u001b[0;34m,\u001b[0m \u001b[0;36m5\u001b[0m\u001b[0;34m)\u001b[0m\u001b[0;34m\u001b[0m\u001b[0m\n\u001b[0m",
      "\u001b[0;31mTypeError\u001b[0m: 'int' object is not callable"
     ]
    }
   ],
   "source": [
    "soma(2, 5)"
   ]
  },
  {
   "cell_type": "code",
   "execution_count": 45,
   "metadata": {},
   "outputs": [],
   "source": [
    "# class Ponto:\n",
    "#     pass\n",
    "# Ponto = decorator(Ponto)\n",
    "\n",
    "# @decorator\n",
    "# class Ponto:\n",
    "#     pass"
   ]
  },
  {
   "cell_type": "code",
   "execution_count": 46,
   "metadata": {},
   "outputs": [
    {
     "data": {
      "text/plain": [
       "function"
      ]
     },
     "execution_count": 46,
     "metadata": {},
     "output_type": "execute_result"
    }
   ],
   "source": [
    "type(soma_decorada)"
   ]
  },
  {
   "cell_type": "code",
   "execution_count": 47,
   "metadata": {},
   "outputs": [],
   "source": [
    "soma_dec = soma_decorada"
   ]
  },
  {
   "cell_type": "code",
   "execution_count": 48,
   "metadata": {},
   "outputs": [
    {
     "name": "stdout",
     "output_type": "stream",
     "text": [
      "(4, 5)\n",
      "{}\n"
     ]
    },
    {
     "data": {
      "text/plain": [
       "9"
      ]
     },
     "execution_count": 48,
     "metadata": {},
     "output_type": "execute_result"
    }
   ],
   "source": [
    "soma_dec(4, 5)"
   ]
  },
  {
   "cell_type": "code",
   "execution_count": 49,
   "metadata": {},
   "outputs": [
    {
     "name": "stdout",
     "output_type": "stream",
     "text": [
      "(8, 10)\n",
      "{}\n"
     ]
    },
    {
     "data": {
      "text/plain": [
       "18"
      ]
     },
     "execution_count": 49,
     "metadata": {},
     "output_type": "execute_result"
    }
   ],
   "source": [
    "x = 8\n",
    "y = 10\n",
    "soma_dec(x, y)"
   ]
  },
  {
   "cell_type": "code",
   "execution_count": 50,
   "metadata": {},
   "outputs": [],
   "source": [
    "frutas = ['morango', 'caja', 'caju']"
   ]
  },
  {
   "cell_type": "code",
   "execution_count": 53,
   "metadata": {},
   "outputs": [
    {
     "name": "stdout",
     "output_type": "stream",
     "text": [
      "Help on class map in module builtins:\n",
      "\n",
      "class map(object)\n",
      " |  map(func, *iterables) --> map object\n",
      " |  \n",
      " |  Make an iterator that computes the function using arguments from\n",
      " |  each of the iterables.  Stops when the shortest iterable is exhausted.\n",
      " |  \n",
      " |  Methods defined here:\n",
      " |  \n",
      " |  __getattribute__(self, name, /)\n",
      " |      Return getattr(self, name).\n",
      " |  \n",
      " |  __iter__(self, /)\n",
      " |      Implement iter(self).\n",
      " |  \n",
      " |  __new__(*args, **kwargs) from builtins.type\n",
      " |      Create and return a new object.  See help(type) for accurate signature.\n",
      " |  \n",
      " |  __next__(self, /)\n",
      " |      Implement next(self).\n",
      " |  \n",
      " |  __reduce__(...)\n",
      " |      Return state information for pickling.\n",
      "\n"
     ]
    }
   ],
   "source": [
    "help(map)"
   ]
  },
  {
   "cell_type": "code",
   "execution_count": 61,
   "metadata": {},
   "outputs": [],
   "source": [
    "frutas = ['morango', 'caja', 'caju']\n",
    "def upper(f):\n",
    "    return f.upper()\n",
    "frutas_upper = map(upper, frutas)"
   ]
  },
  {
   "cell_type": "code",
   "execution_count": 62,
   "metadata": {},
   "outputs": [
    {
     "data": {
      "text/plain": [
       "['MORANGO', 'CAJA', 'CAJU']"
      ]
     },
     "execution_count": 62,
     "metadata": {},
     "output_type": "execute_result"
    }
   ],
   "source": [
    "[f for f in frutas_upper]"
   ]
  },
  {
   "cell_type": "code",
   "execution_count": 66,
   "metadata": {},
   "outputs": [
    {
     "data": {
      "text/plain": [
       "['MORANGO', 'CAJA', 'CAJU']"
      ]
     },
     "execution_count": 66,
     "metadata": {},
     "output_type": "execute_result"
    }
   ],
   "source": [
    "frutas_upper = map(lambda f: f.upper(), frutas)\n",
    "[f for f in frutas_upper]"
   ]
  },
  {
   "cell_type": "code",
   "execution_count": 67,
   "metadata": {},
   "outputs": [
    {
     "data": {
      "text/plain": [
       "'TESTE'"
      ]
     },
     "execution_count": 67,
     "metadata": {},
     "output_type": "execute_result"
    }
   ],
   "source": [
    "upper('teste')"
   ]
  },
  {
   "cell_type": "code",
   "execution_count": null,
   "metadata": {},
   "outputs": [],
   "source": []
  }
 ],
 "metadata": {
  "kernelspec": {
   "display_name": "Python 3",
   "language": "python",
   "name": "python3"
  },
  "language_info": {
   "codemirror_mode": {
    "name": "ipython",
    "version": 3
   },
   "file_extension": ".py",
   "mimetype": "text/x-python",
   "name": "python",
   "nbconvert_exporter": "python",
   "pygments_lexer": "ipython3",
   "version": "3.6.4"
  }
 },
 "nbformat": 4,
 "nbformat_minor": 2
}
